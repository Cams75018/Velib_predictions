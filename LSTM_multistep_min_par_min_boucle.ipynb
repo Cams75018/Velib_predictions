{
  "nbformat": 4,
  "nbformat_minor": 0,
  "metadata": {
    "colab": {
      "name": "LSTM multistep min par min_boucle.ipynb",
      "provenance": [],
      "authorship_tag": "ABX9TyPQnM1IA4F/01s0zsffo6FT",
      "include_colab_link": true
    },
    "kernelspec": {
      "name": "python3",
      "display_name": "Python 3"
    },
    "accelerator": "GPU"
  },
  "cells": [
    {
      "cell_type": "markdown",
      "metadata": {
        "id": "view-in-github",
        "colab_type": "text"
      },
      "source": [
        "<a href=\"https://colab.research.google.com/github/Cams75018/Velib_predictions/blob/master/LSTM_multistep_min_par_min_boucle.ipynb\" target=\"_parent\"><img src=\"https://colab.research.google.com/assets/colab-badge.svg\" alt=\"Open In Colab\"/></a>"
      ]
    },
    {
      "cell_type": "code",
      "metadata": {
        "id": "h7abgkkRGJcN",
        "colab_type": "code",
        "colab": {}
      },
      "source": [
        ""
      ],
      "execution_count": 0,
      "outputs": []
    },
    {
      "cell_type": "code",
      "metadata": {
        "id": "HXwwi4a2S8to",
        "colab_type": "code",
        "colab": {}
      },
      "source": [
        "import numpy as np\n",
        "import matplotlib.pyplot as plt\n",
        "import pandas as pd\n",
        "pd.set_option('display.float_format', lambda x: '%.4f' % x)\n",
        "import seaborn as sns\n",
        "sns.set_context(\"paper\", font_scale=1.3)\n",
        "sns.set_style('white')\n",
        "import warnings\n",
        "warnings.filterwarnings('ignore')\n",
        "from time import time\n",
        "import matplotlib.ticker as tkr\n",
        "from scipy import stats\n",
        "from statsmodels.tsa.stattools import adfuller\n",
        "from sklearn import preprocessing\n",
        "from statsmodels.tsa.stattools import pacf\n",
        "import datetime"
      ],
      "execution_count": 0,
      "outputs": []
    },
    {
      "cell_type": "markdown",
      "metadata": {
        "id": "rMRfMe-AeSkp",
        "colab_type": "text"
      },
      "source": [
        "### **Parametres**"
      ]
    },
    {
      "cell_type": "code",
      "metadata": {
        "id": "LBfKXnzjCWrL",
        "colab_type": "code",
        "colab": {}
      },
      "source": [
        "import timeit\n",
        "start_time = timeit.default_timer()"
      ],
      "execution_count": 0,
      "outputs": []
    },
    {
      "cell_type": "code",
      "metadata": {
        "id": "OBUnxQ-_eRhE",
        "colab_type": "code",
        "colab": {}
      },
      "source": [
        "heurefin=9   # heure de test de la journée et donc cut du dataset au dernier jour à cette heure\n",
        "minute=15\n",
        "heuredebut=datetime.datetime(2020,1,28,23,30,0)\n",
        "nsteps_in, nsteps_out = 30, 30\n",
        "nsteps_in2=60\n",
        "nsteps_in3=90\n",
        "epok =5"
      ],
      "execution_count": 0,
      "outputs": []
    },
    {
      "cell_type": "code",
      "metadata": {
        "id": "JWhRDGHw9R4M",
        "colab_type": "code",
        "colab": {}
      },
      "source": [
        ""
      ],
      "execution_count": 0,
      "outputs": []
    },
    {
      "cell_type": "code",
      "metadata": {
        "id": "wxW7q-X-9eYR",
        "colab_type": "code",
        "colab": {}
      },
      "source": [
        ""
      ],
      "execution_count": 0,
      "outputs": []
    },
    {
      "cell_type": "code",
      "metadata": {
        "id": "o7nepZGQSuiT",
        "colab_type": "code",
        "outputId": "f8d8a60c-e9f6-4b17-d738-024da0bcbba3",
        "colab": {
          "base_uri": "https://localhost:8080/",
          "height": 207
        }
      },
      "source": [
        "\n",
        "df=pd.read_csv(\"https://raw.githubusercontent.com/alexisgcomte/velib-prediction/master/3.%20Modeling%20Research/datasets/madeleine_weekday.csv\")\n",
        "print('Number of rows and columns:', df.shape)\n",
        "df.head(5)"
      ],
      "execution_count": 4,
      "outputs": [
        {
          "output_type": "stream",
          "text": [
            "Number of rows and columns: (14800, 5)\n"
          ],
          "name": "stdout"
        },
        {
          "output_type": "execute_result",
          "data": {
            "text/html": [
              "<div>\n",
              "<style scoped>\n",
              "    .dataframe tbody tr th:only-of-type {\n",
              "        vertical-align: middle;\n",
              "    }\n",
              "\n",
              "    .dataframe tbody tr th {\n",
              "        vertical-align: top;\n",
              "    }\n",
              "\n",
              "    .dataframe thead th {\n",
              "        text-align: right;\n",
              "    }\n",
              "</style>\n",
              "<table border=\"1\" class=\"dataframe\">\n",
              "  <thead>\n",
              "    <tr style=\"text-align: right;\">\n",
              "      <th></th>\n",
              "      <th>Unnamed: 0</th>\n",
              "      <th>availiable_docks</th>\n",
              "      <th>date</th>\n",
              "      <th>weekday</th>\n",
              "      <th>hour</th>\n",
              "    </tr>\n",
              "  </thead>\n",
              "  <tbody>\n",
              "    <tr>\n",
              "      <th>0</th>\n",
              "      <td>0</td>\n",
              "      <td>8</td>\n",
              "      <td>2020-01-15 10:17:00</td>\n",
              "      <td>Wednesday</td>\n",
              "      <td>10</td>\n",
              "    </tr>\n",
              "    <tr>\n",
              "      <th>1</th>\n",
              "      <td>1</td>\n",
              "      <td>8</td>\n",
              "      <td>2020-01-15 10:18:00</td>\n",
              "      <td>Wednesday</td>\n",
              "      <td>10</td>\n",
              "    </tr>\n",
              "    <tr>\n",
              "      <th>2</th>\n",
              "      <td>2</td>\n",
              "      <td>7</td>\n",
              "      <td>2020-01-15 10:19:00</td>\n",
              "      <td>Wednesday</td>\n",
              "      <td>10</td>\n",
              "    </tr>\n",
              "    <tr>\n",
              "      <th>3</th>\n",
              "      <td>3</td>\n",
              "      <td>8</td>\n",
              "      <td>2020-01-15 10:20:00</td>\n",
              "      <td>Wednesday</td>\n",
              "      <td>10</td>\n",
              "    </tr>\n",
              "    <tr>\n",
              "      <th>4</th>\n",
              "      <td>4</td>\n",
              "      <td>8</td>\n",
              "      <td>2020-01-15 10:21:00</td>\n",
              "      <td>Wednesday</td>\n",
              "      <td>10</td>\n",
              "    </tr>\n",
              "  </tbody>\n",
              "</table>\n",
              "</div>"
            ],
            "text/plain": [
              "   Unnamed: 0  availiable_docks                 date    weekday  hour\n",
              "0           0                 8  2020-01-15 10:17:00  Wednesday    10\n",
              "1           1                 8  2020-01-15 10:18:00  Wednesday    10\n",
              "2           2                 7  2020-01-15 10:19:00  Wednesday    10\n",
              "3           3                 8  2020-01-15 10:20:00  Wednesday    10\n",
              "4           4                 8  2020-01-15 10:21:00  Wednesday    10"
            ]
          },
          "metadata": {
            "tags": []
          },
          "execution_count": 4
        }
      ]
    },
    {
      "cell_type": "code",
      "metadata": {
        "id": "RPe9zseZTcqm",
        "colab_type": "code",
        "colab": {}
      },
      "source": [
        "df['datedate'] = pd.to_datetime(df['date'])\n"
      ],
      "execution_count": 0,
      "outputs": []
    },
    {
      "cell_type": "code",
      "metadata": {
        "id": "cTpAv7RvU3JM",
        "colab_type": "code",
        "outputId": "a32a1732-f245-4545-dc8f-fb8eb44b5b69",
        "colab": {
          "base_uri": "https://localhost:8080/",
          "height": 191
        }
      },
      "source": [
        "# on repère l'index de la dernière minutes à prédire\n",
        "lastindex=df[df.datedate==heuredebut].index.max()\n",
        "dfx=df.iloc[0:lastindex+1,:]\n",
        "dfx.tail()"
      ],
      "execution_count": 6,
      "outputs": [
        {
          "output_type": "execute_result",
          "data": {
            "text/html": [
              "<div>\n",
              "<style scoped>\n",
              "    .dataframe tbody tr th:only-of-type {\n",
              "        vertical-align: middle;\n",
              "    }\n",
              "\n",
              "    .dataframe tbody tr th {\n",
              "        vertical-align: top;\n",
              "    }\n",
              "\n",
              "    .dataframe thead th {\n",
              "        text-align: right;\n",
              "    }\n",
              "</style>\n",
              "<table border=\"1\" class=\"dataframe\">\n",
              "  <thead>\n",
              "    <tr style=\"text-align: right;\">\n",
              "      <th></th>\n",
              "      <th>Unnamed: 0</th>\n",
              "      <th>availiable_docks</th>\n",
              "      <th>date</th>\n",
              "      <th>weekday</th>\n",
              "      <th>hour</th>\n",
              "      <th>datedate</th>\n",
              "    </tr>\n",
              "  </thead>\n",
              "  <tbody>\n",
              "    <tr>\n",
              "      <th>13346</th>\n",
              "      <td>13346</td>\n",
              "      <td>19</td>\n",
              "      <td>2020-01-28 23:26:00</td>\n",
              "      <td>Tuesday</td>\n",
              "      <td>23</td>\n",
              "      <td>2020-01-28 23:26:00</td>\n",
              "    </tr>\n",
              "    <tr>\n",
              "      <th>13347</th>\n",
              "      <td>13347</td>\n",
              "      <td>19</td>\n",
              "      <td>2020-01-28 23:27:00</td>\n",
              "      <td>Tuesday</td>\n",
              "      <td>23</td>\n",
              "      <td>2020-01-28 23:27:00</td>\n",
              "    </tr>\n",
              "    <tr>\n",
              "      <th>13348</th>\n",
              "      <td>13348</td>\n",
              "      <td>19</td>\n",
              "      <td>2020-01-28 23:28:00</td>\n",
              "      <td>Tuesday</td>\n",
              "      <td>23</td>\n",
              "      <td>2020-01-28 23:28:00</td>\n",
              "    </tr>\n",
              "    <tr>\n",
              "      <th>13349</th>\n",
              "      <td>13349</td>\n",
              "      <td>19</td>\n",
              "      <td>2020-01-28 23:29:00</td>\n",
              "      <td>Tuesday</td>\n",
              "      <td>23</td>\n",
              "      <td>2020-01-28 23:29:00</td>\n",
              "    </tr>\n",
              "    <tr>\n",
              "      <th>13350</th>\n",
              "      <td>13350</td>\n",
              "      <td>19</td>\n",
              "      <td>2020-01-28 23:30:00</td>\n",
              "      <td>Tuesday</td>\n",
              "      <td>23</td>\n",
              "      <td>2020-01-28 23:30:00</td>\n",
              "    </tr>\n",
              "  </tbody>\n",
              "</table>\n",
              "</div>"
            ],
            "text/plain": [
              "       Unnamed: 0  availiable_docks  ... hour            datedate\n",
              "13346       13346                19  ...   23 2020-01-28 23:26:00\n",
              "13347       13347                19  ...   23 2020-01-28 23:27:00\n",
              "13348       13348                19  ...   23 2020-01-28 23:28:00\n",
              "13349       13349                19  ...   23 2020-01-28 23:29:00\n",
              "13350       13350                19  ...   23 2020-01-28 23:30:00\n",
              "\n",
              "[5 rows x 6 columns]"
            ]
          },
          "metadata": {
            "tags": []
          },
          "execution_count": 6
        }
      ]
    },
    {
      "cell_type": "code",
      "metadata": {
        "id": "LGPAk3MJSwYU",
        "colab_type": "code",
        "colab": {}
      },
      "source": [
        "#dfx=df[(df.hour==heurefin-1) | (df.hour== heurefin)]\n",
        "#lastindex=dfx.index.max()\n",
        "for i in range(lastindex,lastindex +1+ nsteps_out,1):\n",
        "  dfx.loc[i]=df.iloc[i,:]\n",
        "dfx.reset_index(inplace=True)\n"
      ],
      "execution_count": 0,
      "outputs": []
    },
    {
      "cell_type": "code",
      "metadata": {
        "id": "Za4EZzotbqKg",
        "colab_type": "code",
        "colab": {}
      },
      "source": [
        "#for ind in range(len(df)-1, -int(len(df)/10)  , -1):\n",
        "#   if df.hour[ind]==heurefin:\n",
        "#     print(df.date[ind],ind, len(df))\n",
        "#     findf=ind\n",
        "#     break"
      ],
      "execution_count": 0,
      "outputs": []
    },
    {
      "cell_type": "code",
      "metadata": {
        "id": "ksEk5Y-lrXj7",
        "colab_type": "code",
        "outputId": "8f4f66ed-d858-4e52-8dbd-b5e236c1afae",
        "colab": {
          "base_uri": "https://localhost:8080/",
          "height": 66
        }
      },
      "source": [
        "df2=dfx.loc[:dfx.index.max(),['date','availiable_docks']]\n",
        "#df3.sort_values('datenew', inplace=True, ascending=True)\n",
        "#df3 = df3.reset_index(drop=True)\n",
        "print('Number of rows and columns:',dfx.shape)\n",
        "print(df2.date.min())\n",
        "print(df2.date.max())\n",
        "df2.columns=[\"datenew\",\"TOTALFD\"]\n"
      ],
      "execution_count": 9,
      "outputs": [
        {
          "output_type": "stream",
          "text": [
            "Number of rows and columns: (13381, 7)\n",
            "2020-01-15 10:17:00\n",
            "2020-01-29 00:00:00\n"
          ],
          "name": "stdout"
        }
      ]
    },
    {
      "cell_type": "code",
      "metadata": {
        "id": "EkE6-7iVsFSK",
        "colab_type": "code",
        "outputId": "de668ef6-027e-4038-8bd0-06b62aed286c",
        "colab": {
          "base_uri": "https://localhost:8080/",
          "height": 191
        }
      },
      "source": [
        "df3=df2.loc[:len(df2)-1-nsteps_out,[\"datenew\",\"TOTALFD\"]]\n",
        "df3.tail()"
      ],
      "execution_count": 10,
      "outputs": [
        {
          "output_type": "execute_result",
          "data": {
            "text/html": [
              "<div>\n",
              "<style scoped>\n",
              "    .dataframe tbody tr th:only-of-type {\n",
              "        vertical-align: middle;\n",
              "    }\n",
              "\n",
              "    .dataframe tbody tr th {\n",
              "        vertical-align: top;\n",
              "    }\n",
              "\n",
              "    .dataframe thead th {\n",
              "        text-align: right;\n",
              "    }\n",
              "</style>\n",
              "<table border=\"1\" class=\"dataframe\">\n",
              "  <thead>\n",
              "    <tr style=\"text-align: right;\">\n",
              "      <th></th>\n",
              "      <th>datenew</th>\n",
              "      <th>TOTALFD</th>\n",
              "    </tr>\n",
              "  </thead>\n",
              "  <tbody>\n",
              "    <tr>\n",
              "      <th>13346</th>\n",
              "      <td>2020-01-28 23:26:00</td>\n",
              "      <td>19</td>\n",
              "    </tr>\n",
              "    <tr>\n",
              "      <th>13347</th>\n",
              "      <td>2020-01-28 23:27:00</td>\n",
              "      <td>19</td>\n",
              "    </tr>\n",
              "    <tr>\n",
              "      <th>13348</th>\n",
              "      <td>2020-01-28 23:28:00</td>\n",
              "      <td>19</td>\n",
              "    </tr>\n",
              "    <tr>\n",
              "      <th>13349</th>\n",
              "      <td>2020-01-28 23:29:00</td>\n",
              "      <td>19</td>\n",
              "    </tr>\n",
              "    <tr>\n",
              "      <th>13350</th>\n",
              "      <td>2020-01-28 23:30:00</td>\n",
              "      <td>19</td>\n",
              "    </tr>\n",
              "  </tbody>\n",
              "</table>\n",
              "</div>"
            ],
            "text/plain": [
              "                   datenew  TOTALFD\n",
              "13346  2020-01-28 23:26:00       19\n",
              "13347  2020-01-28 23:27:00       19\n",
              "13348  2020-01-28 23:28:00       19\n",
              "13349  2020-01-28 23:29:00       19\n",
              "13350  2020-01-28 23:30:00       19"
            ]
          },
          "metadata": {
            "tags": []
          },
          "execution_count": 10
        }
      ]
    },
    {
      "cell_type": "code",
      "metadata": {
        "id": "6jjVnp1AN9u1",
        "colab_type": "code",
        "outputId": "7d157e48-4fab-4f43-a3b0-31ba73017321",
        "colab": {
          "base_uri": "https://localhost:8080/",
          "height": 66
        }
      },
      "source": [
        "print('Number of rows and columns after removing missing values:', df3.shape)\n",
        "print('The time series starts from: ', df3.datenew.min())\n",
        "print('The time series ends on: ', df3.datenew.max())"
      ],
      "execution_count": 11,
      "outputs": [
        {
          "output_type": "stream",
          "text": [
            "Number of rows and columns after removing missing values: (13351, 2)\n",
            "The time series starts from:  2020-01-15 10:17:00\n",
            "The time series ends on:  2020-01-28 23:30:00\n"
          ],
          "name": "stdout"
        }
      ]
    },
    {
      "cell_type": "markdown",
      "metadata": {
        "id": "diZ-9nNkN9vQ",
        "colab_type": "text"
      },
      "source": [
        "### First Time series plot"
      ]
    },
    {
      "cell_type": "code",
      "metadata": {
        "id": "02iRiGCMN9vR",
        "colab_type": "code",
        "outputId": "23159cb3-5a39-49b9-8edb-fa9c260bf411",
        "colab": {
          "base_uri": "https://localhost:8080/",
          "height": 380
        }
      },
      "source": [
        "df4=df3.loc[:,['datenew','TOTALFD']]\n",
        "df5=df3.loc[:,['datenew','TOTALFD']]\n",
        "df4.set_index('datenew',inplace=True)\n",
        "df4.plot(figsize=(12,5))\n",
        "plt.ylabel('TOTALFD')\n",
        "plt.legend().set_visible(False)\n",
        "plt.tight_layout()\n",
        "plt.title('TOTALFD Time Series')\n",
        "sns.despine(top=True)\n",
        "plt.show();"
      ],
      "execution_count": 12,
      "outputs": [
        {
          "output_type": "display_data",
          "data": {
            "image/png": "[encoded data removed]",
            "text/plain": [
              "<Figure size 864x360 with 1 Axes>"
            ]
          },
          "metadata": {
            "tags": []
          }
        }
      ]
    },
    {
      "cell_type": "code",
      "metadata": {
        "id": "xCnvDWk7N9vZ",
        "colab_type": "code",
        "outputId": "674cc6ce-9b87-4cce-b338-4ccb28a74fc6",
        "colab": {
          "base_uri": "https://localhost:8080/",
          "height": 363
        }
      },
      "source": [
        "df5=df4[(df4.index>='2020-01-20') & (df4.index<'2020-01-28')]\n",
        "df5.plot(figsize=(12,5));\n",
        "plt.ylabel('TOTALFD')\n",
        "plt.legend().set_visible(False)\n",
        "plt.tight_layout()\n",
        "sns.despine(top=True)\n",
        "plt.show();"
      ],
      "execution_count": 13,
      "outputs": [
        {
          "output_type": "display_data",
          "data": {
            "image/png": "[encoded data removed]",
            "text/plain": [
              "<Figure size 864x360 with 1 Axes>"
            ]
          },
          "metadata": {
            "tags": []
          }
        }
      ]
    },
    {
      "cell_type": "markdown",
      "metadata": {
        "id": "QQN2YKuzN9vl",
        "colab_type": "text"
      },
      "source": [
        "### TOTALFD Distribution"
      ]
    },
    {
      "cell_type": "code",
      "metadata": {
        "scrolled": false,
        "id": "TkBqaqcSN9vm",
        "colab_type": "code",
        "outputId": "16ee79ad-fa5c-4f83-b833-09f92b907219",
        "colab": {
          "base_uri": "https://localhost:8080/",
          "height": 466
        }
      },
      "source": [
        "plt.figure(figsize=(14,6))\n",
        "plt.subplot(1,2,1)\n",
        "df3['TOTALFD'].hist(bins=50)\n",
        "plt.title('TOTAL Distribution')\n",
        "\n",
        "plt.subplot(1,2,2)\n",
        "stats.probplot(df3['TOTALFD'], plot=plt);\n",
        "df3.describe().T"
      ],
      "execution_count": 14,
      "outputs": [
        {
          "output_type": "execute_result",
          "data": {
            "text/html": [
              "<div>\n",
              "<style scoped>\n",
              "    .dataframe tbody tr th:only-of-type {\n",
              "        vertical-align: middle;\n",
              "    }\n",
              "\n",
              "    .dataframe tbody tr th {\n",
              "        vertical-align: top;\n",
              "    }\n",
              "\n",
              "    .dataframe thead th {\n",
              "        text-align: right;\n",
              "    }\n",
              "</style>\n",
              "<table border=\"1\" class=\"dataframe\">\n",
              "  <thead>\n",
              "    <tr style=\"text-align: right;\">\n",
              "      <th></th>\n",
              "      <th>count</th>\n",
              "      <th>mean</th>\n",
              "      <th>std</th>\n",
              "      <th>min</th>\n",
              "      <th>25%</th>\n",
              "      <th>50%</th>\n",
              "      <th>75%</th>\n",
              "      <th>max</th>\n",
              "    </tr>\n",
              "  </thead>\n",
              "  <tbody>\n",
              "    <tr>\n",
              "      <th>TOTALFD</th>\n",
              "      <td>13351.0000</td>\n",
              "      <td>14.2717</td>\n",
              "      <td>6.5103</td>\n",
              "      <td>0.0000</td>\n",
              "      <td>10.0000</td>\n",
              "      <td>17.0000</td>\n",
              "      <td>20.0000</td>\n",
              "      <td>21.0000</td>\n",
              "    </tr>\n",
              "  </tbody>\n",
              "</table>\n",
              "</div>"
            ],
            "text/plain": [
              "             count    mean    std    min     25%     50%     75%     max\n",
              "TOTALFD 13351.0000 14.2717 6.5103 0.0000 10.0000 17.0000 20.0000 21.0000"
            ]
          },
          "metadata": {
            "tags": []
          },
          "execution_count": 14
        },
        {
          "output_type": "display_data",
          "data": {
            "image/png": "[encoded data removed]",
            "text/plain": [
              "<Figure size 1008x432 with 2 Axes>"
            ]
          },
          "metadata": {
            "tags": []
          }
        }
      ]
    },
    {
      "cell_type": "markdown",
      "metadata": {
        "id": "ZUt_f9wVN9vs",
        "colab_type": "text"
      },
      "source": [
        "Normal probability plot also shows the data set is far from normally distributed."
      ]
    },
    {
      "cell_type": "markdown",
      "metadata": {
        "id": "z1X7n_N6yfa6",
        "colab_type": "text"
      },
      "source": [
        "**MULTI-STEP LSTM**"
      ]
    },
    {
      "cell_type": "code",
      "metadata": {
        "id": "416IaoWADuUJ",
        "colab_type": "code",
        "colab": {}
      },
      "source": [
        "from sklearn.preprocessing import MinMaxScaler"
      ],
      "execution_count": 0,
      "outputs": []
    },
    {
      "cell_type": "markdown",
      "metadata": {
        "id": "OAHDexHH5QQF",
        "colab_type": "text"
      },
      "source": [
        "LSTM multi-step encoder -decoder step_in 96, setp out 5 couche 100  normalisé"
      ]
    },
    {
      "cell_type": "code",
      "metadata": {
        "id": "hSRgZckBSU8z",
        "colab_type": "code",
        "colab": {}
      },
      "source": [
        "\n",
        "\n"
      ],
      "execution_count": 0,
      "outputs": []
    },
    {
      "cell_type": "markdown",
      "metadata": {
        "id": "Rw7wzTw0rup-",
        "colab_type": "text"
      },
      "source": [
        "model 1"
      ]
    },
    {
      "cell_type": "code",
      "metadata": {
        "id": "zDsY1FKAOtmo",
        "colab_type": "code",
        "outputId": "51f6a2b1-88a5-4c47-b8cc-5f61596dbd31",
        "colab": {
          "base_uri": "https://localhost:8080/",
          "height": 780
        }
      },
      "source": [
        "from numpy import array\n",
        "from keras.models import Sequential\n",
        "from keras.layers import LSTM\n",
        "from keras.layers import Dense\n",
        "from keras.layers import RepeatVector\n",
        "from keras.layers import TimeDistributed\n",
        "# split a univariate sequence into samples\n",
        "def split_sequence(sequence, n_steps_in, n_steps_out):\n",
        "  X, y = list(), list()\n",
        "  for i in range(len(sequence)):\n",
        "    # find the end of this pattern\n",
        "    end_ix = i + n_steps_in\n",
        "    out_end_ix = end_ix + n_steps_out\n",
        "    # check if we are beyond the sequence\n",
        "    if out_end_ix > len(sequence):\n",
        "      break\n",
        "  # gather input and output parts of the pattern\n",
        "    seq_x, seq_y = sequence[i:end_ix], sequence[end_ix:out_end_ix]\n",
        "    X.append(seq_x)\n",
        "    y.append(seq_y)\n",
        "  return array(X), array(y)\n",
        "scaler = MinMaxScaler(feature_range=(-1, 1))\n",
        "raw_seq = df3.TOTALFD.to_numpy()\n",
        "#normalisation\n",
        "raw_seq_scaled = scaler.fit_transform(raw_seq.reshape(-1,1))\n",
        "#raw_seq_scaled = scaled_values.reshape(1,len(raw_seq_scaled)  )\n",
        "# choose a number of time steps\n",
        "\n",
        "n_steps_in, n_steps_out = nsteps_in, nsteps_out\n",
        "\n",
        "X, y = split_sequence(raw_seq_scaled, n_steps_in, n_steps_out)\n",
        "X=X.reshape(X.shape[0],X.shape[1])\n",
        "y= y.reshape(y.shape[0],y.shape[1])\n",
        "# reshape from [samples, timesteps] into [samples, timesteps, features]\n",
        "n_features = 1\n",
        "X = X.reshape((X.shape[0], X.shape[1], n_features))\n",
        "y = y.reshape((y.shape[0], y.shape[1], n_features))\n",
        "# define model\n",
        "model = Sequential()\n",
        "model.add(LSTM(100, activation='relu', input_shape=(n_steps_in, n_features)))\n",
        "model.add(RepeatVector(n_steps_out))\n",
        "#model.add(LSTM(100, activation='relu', return_sequences=True))\n",
        "model.add(LSTM(100, activation='relu', return_sequences=True))\n",
        "model.add(TimeDistributed(Dense(1)))\n",
        "model.compile(optimizer='adam', loss='mse')\n",
        "\n",
        "# fit model\n",
        "model.fit(X, y, epochs=epok) # verbose=0)\n",
        "# demonstrate prediction\n",
        "#x_input = array(raw_seq[-n_steps_in:])\n",
        "# Normalisation du \"Test\"\n",
        "X_input_scal=scaler.transform(array(raw_seq[-n_steps_in:]).reshape(-1,1))\n",
        "X_input_scal.reshape(X_input_scal.shape[0],)\n",
        "X_input_scal = X_input_scal.reshape((1, n_steps_in, n_features))\n",
        "#x_input = x_input.reshape((1, n_steps_in, n_features))\n",
        "yhat = model.predict(X_input_scal, verbose=0)\n",
        "yhat=scaler.inverse_transform(yhat.reshape(yhat.shape[0],yhat.shape[1]))\n",
        "elapsed = timeit.default_timer() - start_time\n",
        "print(yhat)"
      ],
      "execution_count": 16,
      "outputs": [
        {
          "output_type": "stream",
          "text": [
            "Using TensorFlow backend.\n"
          ],
          "name": "stderr"
        },
        {
          "output_type": "display_data",
          "data": {
            "text/html": [
              "<p style=\"color: red;\">\n",
              "The default version of TensorFlow in Colab will soon switch to TensorFlow 2.x.<br>\n",
              "We recommend you <a href=\"https://www.tensorflow.org/guide/migrate\" target=\"_blank\">upgrade</a> now \n",
              "or ensure your notebook will continue to use TensorFlow 1.x via the <code>%tensorflow_version 1.x</code> magic:\n",
              "<a href=\"https://colab.research.google.com/notebooks/tensorflow_version.ipynb\" target=\"_blank\">more info</a>.</p>\n"
            ],
            "text/plain": [
              "<IPython.core.display.HTML object>"
            ]
          },
          "metadata": {
            "tags": []
          }
        },
        {
          "output_type": "stream",
          "text": [
            "WARNING:tensorflow:From /usr/local/lib/python3.6/dist-packages/keras/backend/tensorflow_backend.py:66: The name tf.get_default_graph is deprecated. Please use tf.compat.v1.get_default_graph instead.\n",
            "\n",
            "WARNING:tensorflow:From /usr/local/lib/python3.6/dist-packages/keras/backend/tensorflow_backend.py:541: The name tf.placeholder is deprecated. Please use tf.compat.v1.placeholder instead.\n",
            "\n",
            "WARNING:tensorflow:From /usr/local/lib/python3.6/dist-packages/keras/backend/tensorflow_backend.py:4432: The name tf.random_uniform is deprecated. Please use tf.random.uniform instead.\n",
            "\n",
            "WARNING:tensorflow:From /usr/local/lib/python3.6/dist-packages/keras/optimizers.py:793: The name tf.train.Optimizer is deprecated. Please use tf.compat.v1.train.Optimizer instead.\n",
            "\n",
            "WARNING:tensorflow:From /usr/local/lib/python3.6/dist-packages/tensorflow_core/python/ops/math_grad.py:1424: where (from tensorflow.python.ops.array_ops) is deprecated and will be removed in a future version.\n",
            "Instructions for updating:\n",
            "Use tf.where in 2.0, which has the same broadcast rule as np.where\n",
            "WARNING:tensorflow:From /usr/local/lib/python3.6/dist-packages/keras/backend/tensorflow_backend.py:1033: The name tf.assign_add is deprecated. Please use tf.compat.v1.assign_add instead.\n",
            "\n",
            "WARNING:tensorflow:From /usr/local/lib/python3.6/dist-packages/keras/backend/tensorflow_backend.py:1020: The name tf.assign is deprecated. Please use tf.compat.v1.assign instead.\n",
            "\n",
            "WARNING:tensorflow:From /usr/local/lib/python3.6/dist-packages/keras/backend/tensorflow_backend.py:3005: The name tf.Session is deprecated. Please use tf.compat.v1.Session instead.\n",
            "\n",
            "Epoch 1/5\n",
            "WARNING:tensorflow:From /usr/local/lib/python3.6/dist-packages/keras/backend/tensorflow_backend.py:190: The name tf.get_default_session is deprecated. Please use tf.compat.v1.get_default_session instead.\n",
            "\n",
            "WARNING:tensorflow:From /usr/local/lib/python3.6/dist-packages/keras/backend/tensorflow_backend.py:197: The name tf.ConfigProto is deprecated. Please use tf.compat.v1.ConfigProto instead.\n",
            "\n",
            "WARNING:tensorflow:From /usr/local/lib/python3.6/dist-packages/keras/backend/tensorflow_backend.py:207: The name tf.global_variables is deprecated. Please use tf.compat.v1.global_variables instead.\n",
            "\n",
            "WARNING:tensorflow:From /usr/local/lib/python3.6/dist-packages/keras/backend/tensorflow_backend.py:216: The name tf.is_variable_initialized is deprecated. Please use tf.compat.v1.is_variable_initialized instead.\n",
            "\n",
            "WARNING:tensorflow:From /usr/local/lib/python3.6/dist-packages/keras/backend/tensorflow_backend.py:223: The name tf.variables_initializer is deprecated. Please use tf.compat.v1.variables_initializer instead.\n",
            "\n",
            "13292/13292 [==============================] - 50s 4ms/step - loss: 0.0500\n",
            "Epoch 2/5\n",
            "13292/13292 [==============================] - 40s 3ms/step - loss: 0.0309\n",
            "Epoch 3/5\n",
            "13292/13292 [==============================] - 39s 3ms/step - loss: 0.0299\n",
            "Epoch 4/5\n",
            "13292/13292 [==============================] - 40s 3ms/step - loss: 0.0292\n",
            "Epoch 5/5\n",
            "13292/13292 [==============================] - 40s 3ms/step - loss: 0.0288\n",
            "[[18.526617 19.126904 19.33997  19.365309 19.384552 19.391678 19.386711\n",
            "  19.379108 19.37119  19.363375 19.3563   19.35022  19.345188 19.341135\n",
            "  19.337929 19.335436 19.333517 19.332058 19.33096  19.330137 19.329527\n",
            "  19.32908  19.328754 19.32852  19.328356 19.32824  19.328157 19.328106\n",
            "  19.32807  19.328045]]\n"
          ],
          "name": "stdout"
        }
      ]
    },
    {
      "cell_type": "code",
      "metadata": {
        "id": "JBoDK2wwepzd",
        "colab_type": "code",
        "colab": {}
      },
      "source": [
        ""
      ],
      "execution_count": 0,
      "outputs": []
    },
    {
      "cell_type": "markdown",
      "metadata": {
        "id": "XIbSUg5QHAi6",
        "colab_type": "text"
      },
      "source": [
        "**Visualisation predictions**"
      ]
    },
    {
      "cell_type": "code",
      "metadata": {
        "id": "KrWckH63u4Gu",
        "colab_type": "code",
        "outputId": "f57aa8fe-5332-45bc-8c97-5589cd3bbf9f",
        "colab": {
          "base_uri": "https://localhost:8080/",
          "height": 910
        }
      },
      "source": [
        "\n",
        "\n",
        "dfres=df2.tail(n_steps_out*3)\n",
        "dfres[\"pred\"]=0.0\n",
        "dfres = dfres.reset_index()\n",
        "#lastindex=dfres.tail(1).index.start\n",
        "yhatdata=pd.DataFrame(yhat.reshape(n_steps_out,1))\n",
        "for ind in range(len(dfres)-1, -len(yhatdata) + len(dfres)-1 , -1):\n",
        "   dfres[\"pred\"][ind]=yhatdata.iloc[ind-len(dfres)]\n",
        "dfres.tail(n_steps_out)\n",
        "\n"
      ],
      "execution_count": 17,
      "outputs": [
        {
          "output_type": "execute_result",
          "data": {
            "text/html": [
              "<div>\n",
              "<style scoped>\n",
              "    .dataframe tbody tr th:only-of-type {\n",
              "        vertical-align: middle;\n",
              "    }\n",
              "\n",
              "    .dataframe tbody tr th {\n",
              "        vertical-align: top;\n",
              "    }\n",
              "\n",
              "    .dataframe thead th {\n",
              "        text-align: right;\n",
              "    }\n",
              "</style>\n",
              "<table border=\"1\" class=\"dataframe\">\n",
              "  <thead>\n",
              "    <tr style=\"text-align: right;\">\n",
              "      <th></th>\n",
              "      <th>index</th>\n",
              "      <th>datenew</th>\n",
              "      <th>TOTALFD</th>\n",
              "      <th>pred</th>\n",
              "    </tr>\n",
              "  </thead>\n",
              "  <tbody>\n",
              "    <tr>\n",
              "      <th>60</th>\n",
              "      <td>13351</td>\n",
              "      <td>2020-01-28 23:31:00</td>\n",
              "      <td>19</td>\n",
              "      <td>18.5266</td>\n",
              "    </tr>\n",
              "    <tr>\n",
              "      <th>61</th>\n",
              "      <td>13352</td>\n",
              "      <td>2020-01-28 23:32:00</td>\n",
              "      <td>19</td>\n",
              "      <td>19.1269</td>\n",
              "    </tr>\n",
              "    <tr>\n",
              "      <th>62</th>\n",
              "      <td>13353</td>\n",
              "      <td>2020-01-28 23:33:00</td>\n",
              "      <td>19</td>\n",
              "      <td>19.3400</td>\n",
              "    </tr>\n",
              "    <tr>\n",
              "      <th>63</th>\n",
              "      <td>13354</td>\n",
              "      <td>2020-01-28 23:34:00</td>\n",
              "      <td>19</td>\n",
              "      <td>19.3653</td>\n",
              "    </tr>\n",
              "    <tr>\n",
              "      <th>64</th>\n",
              "      <td>13355</td>\n",
              "      <td>2020-01-28 23:35:00</td>\n",
              "      <td>19</td>\n",
              "      <td>19.3846</td>\n",
              "    </tr>\n",
              "    <tr>\n",
              "      <th>65</th>\n",
              "      <td>13356</td>\n",
              "      <td>2020-01-28 23:36:00</td>\n",
              "      <td>19</td>\n",
              "      <td>19.3917</td>\n",
              "    </tr>\n",
              "    <tr>\n",
              "      <th>66</th>\n",
              "      <td>13357</td>\n",
              "      <td>2020-01-28 23:37:00</td>\n",
              "      <td>19</td>\n",
              "      <td>19.3867</td>\n",
              "    </tr>\n",
              "    <tr>\n",
              "      <th>67</th>\n",
              "      <td>13358</td>\n",
              "      <td>2020-01-28 23:38:00</td>\n",
              "      <td>19</td>\n",
              "      <td>19.3791</td>\n",
              "    </tr>\n",
              "    <tr>\n",
              "      <th>68</th>\n",
              "      <td>13359</td>\n",
              "      <td>2020-01-28 23:39:00</td>\n",
              "      <td>19</td>\n",
              "      <td>19.3712</td>\n",
              "    </tr>\n",
              "    <tr>\n",
              "      <th>69</th>\n",
              "      <td>13360</td>\n",
              "      <td>2020-01-28 23:40:00</td>\n",
              "      <td>19</td>\n",
              "      <td>19.3634</td>\n",
              "    </tr>\n",
              "    <tr>\n",
              "      <th>70</th>\n",
              "      <td>13361</td>\n",
              "      <td>2020-01-28 23:41:00</td>\n",
              "      <td>19</td>\n",
              "      <td>19.3563</td>\n",
              "    </tr>\n",
              "    <tr>\n",
              "      <th>71</th>\n",
              "      <td>13362</td>\n",
              "      <td>2020-01-28 23:42:00</td>\n",
              "      <td>19</td>\n",
              "      <td>19.3502</td>\n",
              "    </tr>\n",
              "    <tr>\n",
              "      <th>72</th>\n",
              "      <td>13363</td>\n",
              "      <td>2020-01-28 23:43:00</td>\n",
              "      <td>19</td>\n",
              "      <td>19.3452</td>\n",
              "    </tr>\n",
              "    <tr>\n",
              "      <th>73</th>\n",
              "      <td>13364</td>\n",
              "      <td>2020-01-28 23:44:00</td>\n",
              "      <td>19</td>\n",
              "      <td>19.3411</td>\n",
              "    </tr>\n",
              "    <tr>\n",
              "      <th>74</th>\n",
              "      <td>13365</td>\n",
              "      <td>2020-01-28 23:45:00</td>\n",
              "      <td>19</td>\n",
              "      <td>19.3379</td>\n",
              "    </tr>\n",
              "    <tr>\n",
              "      <th>75</th>\n",
              "      <td>13366</td>\n",
              "      <td>2020-01-28 23:46:00</td>\n",
              "      <td>19</td>\n",
              "      <td>19.3354</td>\n",
              "    </tr>\n",
              "    <tr>\n",
              "      <th>76</th>\n",
              "      <td>13367</td>\n",
              "      <td>2020-01-28 23:47:00</td>\n",
              "      <td>19</td>\n",
              "      <td>19.3335</td>\n",
              "    </tr>\n",
              "    <tr>\n",
              "      <th>77</th>\n",
              "      <td>13368</td>\n",
              "      <td>2020-01-28 23:48:00</td>\n",
              "      <td>19</td>\n",
              "      <td>19.3321</td>\n",
              "    </tr>\n",
              "    <tr>\n",
              "      <th>78</th>\n",
              "      <td>13369</td>\n",
              "      <td>2020-01-28 23:49:00</td>\n",
              "      <td>19</td>\n",
              "      <td>19.3310</td>\n",
              "    </tr>\n",
              "    <tr>\n",
              "      <th>79</th>\n",
              "      <td>13370</td>\n",
              "      <td>2020-01-28 23:50:00</td>\n",
              "      <td>19</td>\n",
              "      <td>19.3301</td>\n",
              "    </tr>\n",
              "    <tr>\n",
              "      <th>80</th>\n",
              "      <td>13371</td>\n",
              "      <td>2020-01-28 23:51:00</td>\n",
              "      <td>19</td>\n",
              "      <td>19.3295</td>\n",
              "    </tr>\n",
              "    <tr>\n",
              "      <th>81</th>\n",
              "      <td>13372</td>\n",
              "      <td>2020-01-28 23:52:00</td>\n",
              "      <td>19</td>\n",
              "      <td>19.3291</td>\n",
              "    </tr>\n",
              "    <tr>\n",
              "      <th>82</th>\n",
              "      <td>13373</td>\n",
              "      <td>2020-01-28 23:53:00</td>\n",
              "      <td>19</td>\n",
              "      <td>19.3288</td>\n",
              "    </tr>\n",
              "    <tr>\n",
              "      <th>83</th>\n",
              "      <td>13374</td>\n",
              "      <td>2020-01-28 23:54:00</td>\n",
              "      <td>19</td>\n",
              "      <td>19.3285</td>\n",
              "    </tr>\n",
              "    <tr>\n",
              "      <th>84</th>\n",
              "      <td>13375</td>\n",
              "      <td>2020-01-28 23:55:00</td>\n",
              "      <td>19</td>\n",
              "      <td>19.3284</td>\n",
              "    </tr>\n",
              "    <tr>\n",
              "      <th>85</th>\n",
              "      <td>13376</td>\n",
              "      <td>2020-01-28 23:56:00</td>\n",
              "      <td>19</td>\n",
              "      <td>19.3282</td>\n",
              "    </tr>\n",
              "    <tr>\n",
              "      <th>86</th>\n",
              "      <td>13377</td>\n",
              "      <td>2020-01-28 23:57:00</td>\n",
              "      <td>19</td>\n",
              "      <td>19.3282</td>\n",
              "    </tr>\n",
              "    <tr>\n",
              "      <th>87</th>\n",
              "      <td>13378</td>\n",
              "      <td>2020-01-28 23:58:00</td>\n",
              "      <td>19</td>\n",
              "      <td>19.3281</td>\n",
              "    </tr>\n",
              "    <tr>\n",
              "      <th>88</th>\n",
              "      <td>13379</td>\n",
              "      <td>2020-01-28 23:59:00</td>\n",
              "      <td>19</td>\n",
              "      <td>19.3281</td>\n",
              "    </tr>\n",
              "    <tr>\n",
              "      <th>89</th>\n",
              "      <td>13380</td>\n",
              "      <td>2020-01-29 00:00:00</td>\n",
              "      <td>19</td>\n",
              "      <td>19.3280</td>\n",
              "    </tr>\n",
              "  </tbody>\n",
              "</table>\n",
              "</div>"
            ],
            "text/plain": [
              "    index              datenew  TOTALFD    pred\n",
              "60  13351  2020-01-28 23:31:00       19 18.5266\n",
              "61  13352  2020-01-28 23:32:00       19 19.1269\n",
              "62  13353  2020-01-28 23:33:00       19 19.3400\n",
              "63  13354  2020-01-28 23:34:00       19 19.3653\n",
              "64  13355  2020-01-28 23:35:00       19 19.3846\n",
              "65  13356  2020-01-28 23:36:00       19 19.3917\n",
              "66  13357  2020-01-28 23:37:00       19 19.3867\n",
              "67  13358  2020-01-28 23:38:00       19 19.3791\n",
              "68  13359  2020-01-28 23:39:00       19 19.3712\n",
              "69  13360  2020-01-28 23:40:00       19 19.3634\n",
              "70  13361  2020-01-28 23:41:00       19 19.3563\n",
              "71  13362  2020-01-28 23:42:00       19 19.3502\n",
              "72  13363  2020-01-28 23:43:00       19 19.3452\n",
              "73  13364  2020-01-28 23:44:00       19 19.3411\n",
              "74  13365  2020-01-28 23:45:00       19 19.3379\n",
              "75  13366  2020-01-28 23:46:00       19 19.3354\n",
              "76  13367  2020-01-28 23:47:00       19 19.3335\n",
              "77  13368  2020-01-28 23:48:00       19 19.3321\n",
              "78  13369  2020-01-28 23:49:00       19 19.3310\n",
              "79  13370  2020-01-28 23:50:00       19 19.3301\n",
              "80  13371  2020-01-28 23:51:00       19 19.3295\n",
              "81  13372  2020-01-28 23:52:00       19 19.3291\n",
              "82  13373  2020-01-28 23:53:00       19 19.3288\n",
              "83  13374  2020-01-28 23:54:00       19 19.3285\n",
              "84  13375  2020-01-28 23:55:00       19 19.3284\n",
              "85  13376  2020-01-28 23:56:00       19 19.3282\n",
              "86  13377  2020-01-28 23:57:00       19 19.3282\n",
              "87  13378  2020-01-28 23:58:00       19 19.3281\n",
              "88  13379  2020-01-28 23:59:00       19 19.3281\n",
              "89  13380  2020-01-29 00:00:00       19 19.3280"
            ]
          },
          "metadata": {
            "tags": []
          },
          "execution_count": 17
        }
      ]
    },
    {
      "cell_type": "code",
      "metadata": {
        "id": "Ri77xMl90bvK",
        "colab_type": "code",
        "outputId": "1c598dca-1307-4df5-c9be-772bc7c7ec63",
        "colab": {
          "base_uri": "https://localhost:8080/",
          "height": 131
        }
      },
      "source": [
        "from math import sqrt\n",
        "from sklearn.metrics import mean_squared_error\n",
        "def measure_rmse(actual, predicted):\n",
        "    return sqrt(mean_squared_error(actual, predicted))\n",
        "msedf=dfres.tail(n_steps_out)\n",
        "heurefin=heuredebut+datetime.timedelta(minutes=nsteps_out)\n",
        "print(\"RMSE \",measure_rmse(msedf.TOTALFD,msedf.pred))\n",
        "print(\"RMSE prédictions arrondies \", measure_rmse(msedf.TOTALFD,round(msedf.pred)))\n",
        "print(\"nb epoch\", epok)\n",
        "print(\"nb stepIN\", nsteps_in)\n",
        "print(\"nb stepOUT\", nsteps_out)\n",
        "print(\"prédiction de \",heuredebut.hour,\"h\",heuredebut.minute,\" à \" ,heurefin.hour,\"h\",heurefin.minute,\"min\")\n",
        "print(\"temps d'execution \" , int(elapsed/60), \"min\", int((round(elapsed/60,2,)-(int(elapsed/60)))*60), \"s\")"
      ],
      "execution_count": 18,
      "outputs": [
        {
          "output_type": "stream",
          "text": [
            "RMSE  0.3456637958029042\n",
            "RMSE prédictions arrondies  0.0\n",
            "nb epoch 5\n",
            "nb stepIN 30\n",
            "nb stepOUT 30\n",
            "prédiction de  23 h 30  à  0 h 0 min\n",
            "temps d'execution  3 min 33 s\n"
          ],
          "name": "stdout"
        }
      ]
    },
    {
      "cell_type": "code",
      "metadata": {
        "id": "06EL5N7DdqwN",
        "colab_type": "code",
        "outputId": "4e1ce062-2791-4d22-a0f1-52a8cfbd95ba",
        "colab": {
          "base_uri": "https://localhost:8080/",
          "height": 33
        }
      },
      "source": [
        "heurefin"
      ],
      "execution_count": 19,
      "outputs": [
        {
          "output_type": "execute_result",
          "data": {
            "text/plain": [
              "datetime.datetime(2020, 1, 29, 0, 0)"
            ]
          },
          "metadata": {
            "tags": []
          },
          "execution_count": 19
        }
      ]
    },
    {
      "cell_type": "code",
      "metadata": {
        "id": "VypHhZH8H_cv",
        "colab_type": "code",
        "outputId": "1da5bb53-9873-45c9-84da-1abbf3ac2425",
        "colab": {
          "base_uri": "https://localhost:8080/",
          "height": 283
        }
      },
      "source": [
        "\n",
        "import matplotlib.pyplot as plt\n",
        "dfres['pred'].tail(n_steps_out).plot()\n",
        "dfres['TOTALFD'].plot()\n",
        "\n",
        "\n",
        "\n"
      ],
      "execution_count": 20,
      "outputs": [
        {
          "output_type": "execute_result",
          "data": {
            "text/plain": [
              "<matplotlib.axes._subplots.AxesSubplot at 0x7f845b700470>"
            ]
          },
          "metadata": {
            "tags": []
          },
          "execution_count": 20
        },
        {
          "output_type": "display_data",
          "data": {
            "image/png": "[encoded data removed]",
            "text/plain": [
              "<Figure size 432x288 with 1 Axes>"
            ]
          },
          "metadata": {
            "tags": []
          }
        }
      ]
    },
    {
      "cell_type": "code",
      "metadata": {
        "id": "yoOfo1n_sBI-",
        "colab_type": "code",
        "colab": {}
      },
      "source": [
        ""
      ],
      "execution_count": 0,
      "outputs": []
    },
    {
      "cell_type": "code",
      "metadata": {
        "id": "wsiGijHIsjyF",
        "colab_type": "code",
        "colab": {}
      },
      "source": [
        ""
      ],
      "execution_count": 0,
      "outputs": []
    },
    {
      "cell_type": "markdown",
      "metadata": {
        "colab_type": "text",
        "id": "gE6FPffTswEh"
      },
      "source": [
        "model 2"
      ]
    },
    {
      "cell_type": "code",
      "metadata": {
        "id": "K9gEHiJiwxci",
        "colab_type": "code",
        "colab": {}
      },
      "source": [
        ""
      ],
      "execution_count": 0,
      "outputs": []
    },
    {
      "cell_type": "code",
      "metadata": {
        "colab_type": "code",
        "id": "K4vU9C5lswEi",
        "outputId": "8238eed4-69c7-4ecb-95ba-197c7f3628a5",
        "colab": {
          "base_uri": "https://localhost:8080/",
          "height": 261
        }
      },
      "source": [
        "start_time2 = timeit.default_timer()\n",
        "\n",
        "from numpy import array\n",
        "from keras.models import Sequential\n",
        "from keras.layers import LSTM\n",
        "from keras.layers import Dense\n",
        "from keras.layers import RepeatVector\n",
        "from keras.layers import TimeDistributed\n",
        "\n",
        "n_steps_in, n_steps_out = nsteps_in2, nsteps_out\n",
        "\n",
        "X, y = split_sequence(raw_seq_scaled, n_steps_in, n_steps_out)\n",
        "X=X.reshape(X.shape[0],X.shape[1])\n",
        "y= y.reshape(y.shape[0],y.shape[1])\n",
        "# reshape from [samples, timesteps] into [samples, timesteps, features]\n",
        "n_features = 1\n",
        "X = X.reshape((X.shape[0], X.shape[1], n_features))\n",
        "y = y.reshape((y.shape[0], y.shape[1], n_features))\n",
        "# define model\n",
        "model2 = Sequential()\n",
        "model2.add(LSTM(100, activation='relu', input_shape=(n_steps_in, n_features)))\n",
        "model2.add(RepeatVector(n_steps_out))\n",
        "\n",
        "model2.add(LSTM(100, activation='relu', return_sequences=True))\n",
        "model2.add(TimeDistributed(Dense(1)))\n",
        "model2.compile(optimizer='adam', loss='mse')\n",
        "\n",
        "# fit model\n",
        "model2.fit(X, y, epochs=epok) # verbose=0)\n",
        "# demonstrate prediction\n",
        "\n",
        "# Normalisation du \"Test\"\n",
        "X_input_scal=scaler.transform(array(raw_seq[-n_steps_in:]).reshape(-1,1))\n",
        "X_input_scal.reshape(X_input_scal.shape[0],)\n",
        "X_input_scal = X_input_scal.reshape((1, n_steps_in, n_features))\n",
        "#x_input = x_input.reshape((1, n_steps_in, n_features))\n",
        "yhat2 = model2.predict(X_input_scal, verbose=0)\n",
        "yhat2=scaler.inverse_transform(yhat2.reshape(yhat2.shape[0],yhat2.shape[1]))\n",
        "elapsed2 = timeit.default_timer() - start_time2\n",
        "print(yhat2)"
      ],
      "execution_count": 21,
      "outputs": [
        {
          "output_type": "stream",
          "text": [
            "Epoch 1/5\n",
            "13262/13262 [==============================] - 61s 5ms/step - loss: 0.0492\n",
            "Epoch 2/5\n",
            "13262/13262 [==============================] - 59s 4ms/step - loss: 0.0312\n",
            "Epoch 3/5\n",
            "13262/13262 [==============================] - 59s 4ms/step - loss: 0.0297\n",
            "Epoch 4/5\n",
            "13262/13262 [==============================] - 60s 5ms/step - loss: 0.0292\n",
            "Epoch 5/5\n",
            "13262/13262 [==============================] - 59s 4ms/step - loss: 0.0291\n",
            "[[19.2845   19.288752 19.220833 19.19227  19.180964 19.183823 19.188646\n",
            "  19.184809 19.174892 19.161371 19.14666  19.132414 19.11961  19.108677\n",
            "  19.099705 19.09256  19.087023 19.082825 19.079714 19.077456 19.075848\n",
            "  19.074734 19.073982 19.073492 19.073189 19.073013 19.072926 19.072897\n",
            "  19.0729   19.07293 ]]\n"
          ],
          "name": "stdout"
        }
      ]
    },
    {
      "cell_type": "markdown",
      "metadata": {
        "colab_type": "text",
        "id": "COzUwuMMswEk"
      },
      "source": [
        "**Visualisation predictions**"
      ]
    },
    {
      "cell_type": "code",
      "metadata": {
        "colab_type": "code",
        "id": "yXDrDXG7swEl",
        "outputId": "93215009-a1e8-4756-f87c-69b0b8e3f6a7",
        "colab": {
          "base_uri": "https://localhost:8080/",
          "height": 910
        }
      },
      "source": [
        "\n",
        "\n",
        "dfres2=df2.tail(n_steps_out*3)\n",
        "dfres2[\"pred\"]=0.0\n",
        "dfres2 = dfres2.reset_index()\n",
        "#lastindex=dfres.tail(1).index.start\n",
        "yhatdata2=pd.DataFrame(yhat2.reshape(n_steps_out,1))\n",
        "for ind in range(len(dfres2)-1, -len(yhatdata2) + len(dfres2)-1 , -1):\n",
        "   dfres2[\"pred\"][ind]=yhatdata2.iloc[ind-len(dfres2)]\n",
        "dfres2.tail(n_steps_out)\n",
        "\n"
      ],
      "execution_count": 22,
      "outputs": [
        {
          "output_type": "execute_result",
          "data": {
            "text/html": [
              "<div>\n",
              "<style scoped>\n",
              "    .dataframe tbody tr th:only-of-type {\n",
              "        vertical-align: middle;\n",
              "    }\n",
              "\n",
              "    .dataframe tbody tr th {\n",
              "        vertical-align: top;\n",
              "    }\n",
              "\n",
              "    .dataframe thead th {\n",
              "        text-align: right;\n",
              "    }\n",
              "</style>\n",
              "<table border=\"1\" class=\"dataframe\">\n",
              "  <thead>\n",
              "    <tr style=\"text-align: right;\">\n",
              "      <th></th>\n",
              "      <th>index</th>\n",
              "      <th>datenew</th>\n",
              "      <th>TOTALFD</th>\n",
              "      <th>pred</th>\n",
              "    </tr>\n",
              "  </thead>\n",
              "  <tbody>\n",
              "    <tr>\n",
              "      <th>60</th>\n",
              "      <td>13351</td>\n",
              "      <td>2020-01-28 23:31:00</td>\n",
              "      <td>19</td>\n",
              "      <td>19.2845</td>\n",
              "    </tr>\n",
              "    <tr>\n",
              "      <th>61</th>\n",
              "      <td>13352</td>\n",
              "      <td>2020-01-28 23:32:00</td>\n",
              "      <td>19</td>\n",
              "      <td>19.2888</td>\n",
              "    </tr>\n",
              "    <tr>\n",
              "      <th>62</th>\n",
              "      <td>13353</td>\n",
              "      <td>2020-01-28 23:33:00</td>\n",
              "      <td>19</td>\n",
              "      <td>19.2208</td>\n",
              "    </tr>\n",
              "    <tr>\n",
              "      <th>63</th>\n",
              "      <td>13354</td>\n",
              "      <td>2020-01-28 23:34:00</td>\n",
              "      <td>19</td>\n",
              "      <td>19.1923</td>\n",
              "    </tr>\n",
              "    <tr>\n",
              "      <th>64</th>\n",
              "      <td>13355</td>\n",
              "      <td>2020-01-28 23:35:00</td>\n",
              "      <td>19</td>\n",
              "      <td>19.1810</td>\n",
              "    </tr>\n",
              "    <tr>\n",
              "      <th>65</th>\n",
              "      <td>13356</td>\n",
              "      <td>2020-01-28 23:36:00</td>\n",
              "      <td>19</td>\n",
              "      <td>19.1838</td>\n",
              "    </tr>\n",
              "    <tr>\n",
              "      <th>66</th>\n",
              "      <td>13357</td>\n",
              "      <td>2020-01-28 23:37:00</td>\n",
              "      <td>19</td>\n",
              "      <td>19.1886</td>\n",
              "    </tr>\n",
              "    <tr>\n",
              "      <th>67</th>\n",
              "      <td>13358</td>\n",
              "      <td>2020-01-28 23:38:00</td>\n",
              "      <td>19</td>\n",
              "      <td>19.1848</td>\n",
              "    </tr>\n",
              "    <tr>\n",
              "      <th>68</th>\n",
              "      <td>13359</td>\n",
              "      <td>2020-01-28 23:39:00</td>\n",
              "      <td>19</td>\n",
              "      <td>19.1749</td>\n",
              "    </tr>\n",
              "    <tr>\n",
              "      <th>69</th>\n",
              "      <td>13360</td>\n",
              "      <td>2020-01-28 23:40:00</td>\n",
              "      <td>19</td>\n",
              "      <td>19.1614</td>\n",
              "    </tr>\n",
              "    <tr>\n",
              "      <th>70</th>\n",
              "      <td>13361</td>\n",
              "      <td>2020-01-28 23:41:00</td>\n",
              "      <td>19</td>\n",
              "      <td>19.1467</td>\n",
              "    </tr>\n",
              "    <tr>\n",
              "      <th>71</th>\n",
              "      <td>13362</td>\n",
              "      <td>2020-01-28 23:42:00</td>\n",
              "      <td>19</td>\n",
              "      <td>19.1324</td>\n",
              "    </tr>\n",
              "    <tr>\n",
              "      <th>72</th>\n",
              "      <td>13363</td>\n",
              "      <td>2020-01-28 23:43:00</td>\n",
              "      <td>19</td>\n",
              "      <td>19.1196</td>\n",
              "    </tr>\n",
              "    <tr>\n",
              "      <th>73</th>\n",
              "      <td>13364</td>\n",
              "      <td>2020-01-28 23:44:00</td>\n",
              "      <td>19</td>\n",
              "      <td>19.1087</td>\n",
              "    </tr>\n",
              "    <tr>\n",
              "      <th>74</th>\n",
              "      <td>13365</td>\n",
              "      <td>2020-01-28 23:45:00</td>\n",
              "      <td>19</td>\n",
              "      <td>19.0997</td>\n",
              "    </tr>\n",
              "    <tr>\n",
              "      <th>75</th>\n",
              "      <td>13366</td>\n",
              "      <td>2020-01-28 23:46:00</td>\n",
              "      <td>19</td>\n",
              "      <td>19.0926</td>\n",
              "    </tr>\n",
              "    <tr>\n",
              "      <th>76</th>\n",
              "      <td>13367</td>\n",
              "      <td>2020-01-28 23:47:00</td>\n",
              "      <td>19</td>\n",
              "      <td>19.0870</td>\n",
              "    </tr>\n",
              "    <tr>\n",
              "      <th>77</th>\n",
              "      <td>13368</td>\n",
              "      <td>2020-01-28 23:48:00</td>\n",
              "      <td>19</td>\n",
              "      <td>19.0828</td>\n",
              "    </tr>\n",
              "    <tr>\n",
              "      <th>78</th>\n",
              "      <td>13369</td>\n",
              "      <td>2020-01-28 23:49:00</td>\n",
              "      <td>19</td>\n",
              "      <td>19.0797</td>\n",
              "    </tr>\n",
              "    <tr>\n",
              "      <th>79</th>\n",
              "      <td>13370</td>\n",
              "      <td>2020-01-28 23:50:00</td>\n",
              "      <td>19</td>\n",
              "      <td>19.0775</td>\n",
              "    </tr>\n",
              "    <tr>\n",
              "      <th>80</th>\n",
              "      <td>13371</td>\n",
              "      <td>2020-01-28 23:51:00</td>\n",
              "      <td>19</td>\n",
              "      <td>19.0758</td>\n",
              "    </tr>\n",
              "    <tr>\n",
              "      <th>81</th>\n",
              "      <td>13372</td>\n",
              "      <td>2020-01-28 23:52:00</td>\n",
              "      <td>19</td>\n",
              "      <td>19.0747</td>\n",
              "    </tr>\n",
              "    <tr>\n",
              "      <th>82</th>\n",
              "      <td>13373</td>\n",
              "      <td>2020-01-28 23:53:00</td>\n",
              "      <td>19</td>\n",
              "      <td>19.0740</td>\n",
              "    </tr>\n",
              "    <tr>\n",
              "      <th>83</th>\n",
              "      <td>13374</td>\n",
              "      <td>2020-01-28 23:54:00</td>\n",
              "      <td>19</td>\n",
              "      <td>19.0735</td>\n",
              "    </tr>\n",
              "    <tr>\n",
              "      <th>84</th>\n",
              "      <td>13375</td>\n",
              "      <td>2020-01-28 23:55:00</td>\n",
              "      <td>19</td>\n",
              "      <td>19.0732</td>\n",
              "    </tr>\n",
              "    <tr>\n",
              "      <th>85</th>\n",
              "      <td>13376</td>\n",
              "      <td>2020-01-28 23:56:00</td>\n",
              "      <td>19</td>\n",
              "      <td>19.0730</td>\n",
              "    </tr>\n",
              "    <tr>\n",
              "      <th>86</th>\n",
              "      <td>13377</td>\n",
              "      <td>2020-01-28 23:57:00</td>\n",
              "      <td>19</td>\n",
              "      <td>19.0729</td>\n",
              "    </tr>\n",
              "    <tr>\n",
              "      <th>87</th>\n",
              "      <td>13378</td>\n",
              "      <td>2020-01-28 23:58:00</td>\n",
              "      <td>19</td>\n",
              "      <td>19.0729</td>\n",
              "    </tr>\n",
              "    <tr>\n",
              "      <th>88</th>\n",
              "      <td>13379</td>\n",
              "      <td>2020-01-28 23:59:00</td>\n",
              "      <td>19</td>\n",
              "      <td>19.0729</td>\n",
              "    </tr>\n",
              "    <tr>\n",
              "      <th>89</th>\n",
              "      <td>13380</td>\n",
              "      <td>2020-01-29 00:00:00</td>\n",
              "      <td>19</td>\n",
              "      <td>19.0729</td>\n",
              "    </tr>\n",
              "  </tbody>\n",
              "</table>\n",
              "</div>"
            ],
            "text/plain": [
              "    index              datenew  TOTALFD    pred\n",
              "60  13351  2020-01-28 23:31:00       19 19.2845\n",
              "61  13352  2020-01-28 23:32:00       19 19.2888\n",
              "62  13353  2020-01-28 23:33:00       19 19.2208\n",
              "63  13354  2020-01-28 23:34:00       19 19.1923\n",
              "64  13355  2020-01-28 23:35:00       19 19.1810\n",
              "65  13356  2020-01-28 23:36:00       19 19.1838\n",
              "66  13357  2020-01-28 23:37:00       19 19.1886\n",
              "67  13358  2020-01-28 23:38:00       19 19.1848\n",
              "68  13359  2020-01-28 23:39:00       19 19.1749\n",
              "69  13360  2020-01-28 23:40:00       19 19.1614\n",
              "70  13361  2020-01-28 23:41:00       19 19.1467\n",
              "71  13362  2020-01-28 23:42:00       19 19.1324\n",
              "72  13363  2020-01-28 23:43:00       19 19.1196\n",
              "73  13364  2020-01-28 23:44:00       19 19.1087\n",
              "74  13365  2020-01-28 23:45:00       19 19.0997\n",
              "75  13366  2020-01-28 23:46:00       19 19.0926\n",
              "76  13367  2020-01-28 23:47:00       19 19.0870\n",
              "77  13368  2020-01-28 23:48:00       19 19.0828\n",
              "78  13369  2020-01-28 23:49:00       19 19.0797\n",
              "79  13370  2020-01-28 23:50:00       19 19.0775\n",
              "80  13371  2020-01-28 23:51:00       19 19.0758\n",
              "81  13372  2020-01-28 23:52:00       19 19.0747\n",
              "82  13373  2020-01-28 23:53:00       19 19.0740\n",
              "83  13374  2020-01-28 23:54:00       19 19.0735\n",
              "84  13375  2020-01-28 23:55:00       19 19.0732\n",
              "85  13376  2020-01-28 23:56:00       19 19.0730\n",
              "86  13377  2020-01-28 23:57:00       19 19.0729\n",
              "87  13378  2020-01-28 23:58:00       19 19.0729\n",
              "88  13379  2020-01-28 23:59:00       19 19.0729\n",
              "89  13380  2020-01-29 00:00:00       19 19.0729"
            ]
          },
          "metadata": {
            "tags": []
          },
          "execution_count": 22
        }
      ]
    },
    {
      "cell_type": "code",
      "metadata": {
        "colab_type": "code",
        "outputId": "9daef179-d0ff-44f5-ef2f-e8dbdb07e6ba",
        "id": "RNOJfhtaswEn",
        "colab": {
          "base_uri": "https://localhost:8080/",
          "height": 131
        }
      },
      "source": [
        "from math import sqrt\n",
        "from sklearn.metrics import mean_squared_error\n",
        "def measure_rmse(actual, predicted):\n",
        "    return sqrt(mean_squared_error(actual, predicted))\n",
        "msedf2=dfres2.tail(n_steps_out)\n",
        "heurefin=heuredebut+datetime.timedelta(minutes=nsteps_out)\n",
        "print(\"RMSE 2\",measure_rmse(msedf2.TOTALFD,msedf2.pred))\n",
        "print(\"RMSE 2 prédictions arrondies \", measure_rmse(msedf2.TOTALFD,round(msedf2.pred)))\n",
        "print(\"nb epoch\", epok)\n",
        "print(\"nb stepIN\", nsteps_in2)\n",
        "print(\"nb stepOUT\", nsteps_out)\n",
        "print(\"prédiction de \",heuredebut.hour,\"h\",heuredebut.minute,\" à \" ,heurefin.hour,\"h\",heurefin.minute,\"min\")\n",
        "print(\"temps d'execution \" , int(elapsed2/60), \"min\", int((round(elapsed2/60,2,)-(int(elapsed2/60)))*60), \"s\")"
      ],
      "execution_count": 23,
      "outputs": [
        {
          "output_type": "stream",
          "text": [
            "RMSE 2 0.14231198480239993\n",
            "RMSE 2 prédictions arrondies  0.0\n",
            "nb epoch 5\n",
            "nb stepIN 60\n",
            "nb stepOUT 30\n",
            "prédiction de  23 h 30  à  0 h 0 min\n",
            "temps d'execution  4 min 59 s\n"
          ],
          "name": "stdout"
        }
      ]
    },
    {
      "cell_type": "code",
      "metadata": {
        "colab_type": "code",
        "outputId": "e97a2d05-6a1f-4814-a66c-dd9e046e0a85",
        "id": "fItO5SjEswEt",
        "colab": {
          "base_uri": "https://localhost:8080/",
          "height": 283
        }
      },
      "source": [
        "\n",
        "import matplotlib.pyplot as plt\n",
        "dfres2['pred'].tail(n_steps_out).plot()\n",
        "dfres2['TOTALFD'].plot()\n",
        "\n",
        "\n",
        "# code you want to evaluate\n",
        "#elapsed = timeit.default_timer() - start_time\n"
      ],
      "execution_count": 24,
      "outputs": [
        {
          "output_type": "execute_result",
          "data": {
            "text/plain": [
              "<matplotlib.axes._subplots.AxesSubplot at 0x7f841007e2b0>"
            ]
          },
          "metadata": {
            "tags": []
          },
          "execution_count": 24
        },
        {
          "output_type": "display_data",
          "data": {
            "image/png": "[encoded data removed]",
            "text/plain": [
              "<Figure size 432x288 with 1 Axes>"
            ]
          },
          "metadata": {
            "tags": []
          }
        }
      ]
    },
    {
      "cell_type": "code",
      "metadata": {
        "id": "lxhBxyuZ23eo",
        "colab_type": "code",
        "colab": {}
      },
      "source": [
        ""
      ],
      "execution_count": 0,
      "outputs": []
    },
    {
      "cell_type": "markdown",
      "metadata": {
        "colab_type": "text",
        "id": "D0jgZhF029yA"
      },
      "source": [
        "model 3"
      ]
    },
    {
      "cell_type": "code",
      "metadata": {
        "colab_type": "code",
        "outputId": "8e77b996-8546-4438-d576-b61a5d7a25e9",
        "id": "Pk8vJGQs29yD",
        "colab": {
          "base_uri": "https://localhost:8080/",
          "height": 261
        }
      },
      "source": [
        "start_time3 = timeit.default_timer()\n",
        "\n",
        "from numpy import array\n",
        "from keras.models import Sequential\n",
        "from keras.layers import LSTM\n",
        "from keras.layers import Dense\n",
        "from keras.layers import RepeatVector\n",
        "from keras.layers import TimeDistributed\n",
        "\n",
        "n_steps_in, n_steps_out = nsteps_in3, nsteps_out\n",
        "\n",
        "X, y = split_sequence(raw_seq_scaled, n_steps_in, n_steps_out)\n",
        "X=X.reshape(X.shape[0],X.shape[1])\n",
        "y= y.reshape(y.shape[0],y.shape[1])\n",
        "# reshape from [samples, timesteps] into [samples, timesteps, features]\n",
        "n_features = 1\n",
        "X = X.reshape((X.shape[0], X.shape[1], n_features))\n",
        "y = y.reshape((y.shape[0], y.shape[1], n_features))\n",
        "# define model\n",
        "model3 = Sequential()\n",
        "model3.add(LSTM(100, activation='relu', input_shape=(n_steps_in, n_features)))\n",
        "model3.add(RepeatVector(n_steps_out))\n",
        "\n",
        "model3.add(LSTM(100, activation='relu', return_sequences=True))\n",
        "model3.add(TimeDistributed(Dense(1)))\n",
        "model3.compile(optimizer='adam', loss='mse')\n",
        "\n",
        "# fit model\n",
        "model3.fit(X, y, epochs=epok) # verbose=0)\n",
        "# demonstrate prediction\n",
        "\n",
        "# Normalisation du \"Test\"\n",
        "X_input_scal=scaler.transform(array(raw_seq[-n_steps_in:]).reshape(-1,1))\n",
        "X_input_scal.reshape(X_input_scal.shape[0],)\n",
        "X_input_scal = X_input_scal.reshape((1, n_steps_in, n_features))\n",
        "#x_input = x_input.reshape((1, n_steps_in, n_features))\n",
        "yhat3 = model3.predict(X_input_scal, verbose=0)\n",
        "yhat3=scaler.inverse_transform(yhat3.reshape(yhat3.shape[0],yhat3.shape[1]))\n",
        "elapsed3 = timeit.default_timer() - start_time3\n",
        "print(yhat3)"
      ],
      "execution_count": 25,
      "outputs": [
        {
          "output_type": "stream",
          "text": [
            "Epoch 1/5\n",
            "13232/13232 [==============================] - 80s 6ms/step - loss: 0.1162\n",
            "Epoch 2/5\n",
            "13232/13232 [==============================] - 80s 6ms/step - loss: 0.0308\n",
            "Epoch 3/5\n",
            "13232/13232 [==============================] - 78s 6ms/step - loss: 0.0300\n",
            "Epoch 4/5\n",
            "13232/13232 [==============================] - 78s 6ms/step - loss: 0.0296\n",
            "Epoch 5/5\n",
            "13232/13232 [==============================] - 79s 6ms/step - loss: 0.0288\n",
            "[[19.139597 18.732557 18.661718 18.69199  18.697807 18.66678  18.627821\n",
            "  18.596205 18.571886 18.55257  18.536276 18.521946 18.509178 18.49788\n",
            "  18.48813  18.47984  18.472925 18.467272 18.462727 18.459127 18.456314\n",
            "  18.454145 18.45249  18.451239 18.450302 18.449604 18.449091 18.448717\n",
            "  18.448444 18.448246]]\n"
          ],
          "name": "stdout"
        }
      ]
    },
    {
      "cell_type": "markdown",
      "metadata": {
        "colab_type": "text",
        "id": "5Rf_KWk829yH"
      },
      "source": [
        "**Visualisation predictions**"
      ]
    },
    {
      "cell_type": "code",
      "metadata": {
        "colab_type": "code",
        "id": "D__y3Ify29yH",
        "outputId": "dd8b8060-9314-4734-b701-10f56e5c1ed9",
        "colab": {
          "base_uri": "https://localhost:8080/",
          "height": 910
        }
      },
      "source": [
        "\n",
        "\n",
        "dfres3=df2.tail(n_steps_out*3)\n",
        "dfres3[\"pred\"]=0.0\n",
        "dfres3 = dfres3.reset_index()\n",
        "#lastindex=dfres.tail(1).index.start\n",
        "yhatdata3=pd.DataFrame(yhat3.reshape(n_steps_out,1))\n",
        "for ind in range(len(dfres3)-1, -len(yhatdata3) + len(dfres3)-1 , -1):\n",
        "   dfres3[\"pred\"][ind]=yhatdata3.iloc[ind-len(dfres3)]\n",
        "dfres3.tail(n_steps_out)\n",
        "\n"
      ],
      "execution_count": 26,
      "outputs": [
        {
          "output_type": "execute_result",
          "data": {
            "text/html": [
              "<div>\n",
              "<style scoped>\n",
              "    .dataframe tbody tr th:only-of-type {\n",
              "        vertical-align: middle;\n",
              "    }\n",
              "\n",
              "    .dataframe tbody tr th {\n",
              "        vertical-align: top;\n",
              "    }\n",
              "\n",
              "    .dataframe thead th {\n",
              "        text-align: right;\n",
              "    }\n",
              "</style>\n",
              "<table border=\"1\" class=\"dataframe\">\n",
              "  <thead>\n",
              "    <tr style=\"text-align: right;\">\n",
              "      <th></th>\n",
              "      <th>index</th>\n",
              "      <th>datenew</th>\n",
              "      <th>TOTALFD</th>\n",
              "      <th>pred</th>\n",
              "    </tr>\n",
              "  </thead>\n",
              "  <tbody>\n",
              "    <tr>\n",
              "      <th>60</th>\n",
              "      <td>13351</td>\n",
              "      <td>2020-01-28 23:31:00</td>\n",
              "      <td>19</td>\n",
              "      <td>19.1396</td>\n",
              "    </tr>\n",
              "    <tr>\n",
              "      <th>61</th>\n",
              "      <td>13352</td>\n",
              "      <td>2020-01-28 23:32:00</td>\n",
              "      <td>19</td>\n",
              "      <td>18.7326</td>\n",
              "    </tr>\n",
              "    <tr>\n",
              "      <th>62</th>\n",
              "      <td>13353</td>\n",
              "      <td>2020-01-28 23:33:00</td>\n",
              "      <td>19</td>\n",
              "      <td>18.6617</td>\n",
              "    </tr>\n",
              "    <tr>\n",
              "      <th>63</th>\n",
              "      <td>13354</td>\n",
              "      <td>2020-01-28 23:34:00</td>\n",
              "      <td>19</td>\n",
              "      <td>18.6920</td>\n",
              "    </tr>\n",
              "    <tr>\n",
              "      <th>64</th>\n",
              "      <td>13355</td>\n",
              "      <td>2020-01-28 23:35:00</td>\n",
              "      <td>19</td>\n",
              "      <td>18.6978</td>\n",
              "    </tr>\n",
              "    <tr>\n",
              "      <th>65</th>\n",
              "      <td>13356</td>\n",
              "      <td>2020-01-28 23:36:00</td>\n",
              "      <td>19</td>\n",
              "      <td>18.6668</td>\n",
              "    </tr>\n",
              "    <tr>\n",
              "      <th>66</th>\n",
              "      <td>13357</td>\n",
              "      <td>2020-01-28 23:37:00</td>\n",
              "      <td>19</td>\n",
              "      <td>18.6278</td>\n",
              "    </tr>\n",
              "    <tr>\n",
              "      <th>67</th>\n",
              "      <td>13358</td>\n",
              "      <td>2020-01-28 23:38:00</td>\n",
              "      <td>19</td>\n",
              "      <td>18.5962</td>\n",
              "    </tr>\n",
              "    <tr>\n",
              "      <th>68</th>\n",
              "      <td>13359</td>\n",
              "      <td>2020-01-28 23:39:00</td>\n",
              "      <td>19</td>\n",
              "      <td>18.5719</td>\n",
              "    </tr>\n",
              "    <tr>\n",
              "      <th>69</th>\n",
              "      <td>13360</td>\n",
              "      <td>2020-01-28 23:40:00</td>\n",
              "      <td>19</td>\n",
              "      <td>18.5526</td>\n",
              "    </tr>\n",
              "    <tr>\n",
              "      <th>70</th>\n",
              "      <td>13361</td>\n",
              "      <td>2020-01-28 23:41:00</td>\n",
              "      <td>19</td>\n",
              "      <td>18.5363</td>\n",
              "    </tr>\n",
              "    <tr>\n",
              "      <th>71</th>\n",
              "      <td>13362</td>\n",
              "      <td>2020-01-28 23:42:00</td>\n",
              "      <td>19</td>\n",
              "      <td>18.5219</td>\n",
              "    </tr>\n",
              "    <tr>\n",
              "      <th>72</th>\n",
              "      <td>13363</td>\n",
              "      <td>2020-01-28 23:43:00</td>\n",
              "      <td>19</td>\n",
              "      <td>18.5092</td>\n",
              "    </tr>\n",
              "    <tr>\n",
              "      <th>73</th>\n",
              "      <td>13364</td>\n",
              "      <td>2020-01-28 23:44:00</td>\n",
              "      <td>19</td>\n",
              "      <td>18.4979</td>\n",
              "    </tr>\n",
              "    <tr>\n",
              "      <th>74</th>\n",
              "      <td>13365</td>\n",
              "      <td>2020-01-28 23:45:00</td>\n",
              "      <td>19</td>\n",
              "      <td>18.4881</td>\n",
              "    </tr>\n",
              "    <tr>\n",
              "      <th>75</th>\n",
              "      <td>13366</td>\n",
              "      <td>2020-01-28 23:46:00</td>\n",
              "      <td>19</td>\n",
              "      <td>18.4798</td>\n",
              "    </tr>\n",
              "    <tr>\n",
              "      <th>76</th>\n",
              "      <td>13367</td>\n",
              "      <td>2020-01-28 23:47:00</td>\n",
              "      <td>19</td>\n",
              "      <td>18.4729</td>\n",
              "    </tr>\n",
              "    <tr>\n",
              "      <th>77</th>\n",
              "      <td>13368</td>\n",
              "      <td>2020-01-28 23:48:00</td>\n",
              "      <td>19</td>\n",
              "      <td>18.4673</td>\n",
              "    </tr>\n",
              "    <tr>\n",
              "      <th>78</th>\n",
              "      <td>13369</td>\n",
              "      <td>2020-01-28 23:49:00</td>\n",
              "      <td>19</td>\n",
              "      <td>18.4627</td>\n",
              "    </tr>\n",
              "    <tr>\n",
              "      <th>79</th>\n",
              "      <td>13370</td>\n",
              "      <td>2020-01-28 23:50:00</td>\n",
              "      <td>19</td>\n",
              "      <td>18.4591</td>\n",
              "    </tr>\n",
              "    <tr>\n",
              "      <th>80</th>\n",
              "      <td>13371</td>\n",
              "      <td>2020-01-28 23:51:00</td>\n",
              "      <td>19</td>\n",
              "      <td>18.4563</td>\n",
              "    </tr>\n",
              "    <tr>\n",
              "      <th>81</th>\n",
              "      <td>13372</td>\n",
              "      <td>2020-01-28 23:52:00</td>\n",
              "      <td>19</td>\n",
              "      <td>18.4541</td>\n",
              "    </tr>\n",
              "    <tr>\n",
              "      <th>82</th>\n",
              "      <td>13373</td>\n",
              "      <td>2020-01-28 23:53:00</td>\n",
              "      <td>19</td>\n",
              "      <td>18.4525</td>\n",
              "    </tr>\n",
              "    <tr>\n",
              "      <th>83</th>\n",
              "      <td>13374</td>\n",
              "      <td>2020-01-28 23:54:00</td>\n",
              "      <td>19</td>\n",
              "      <td>18.4512</td>\n",
              "    </tr>\n",
              "    <tr>\n",
              "      <th>84</th>\n",
              "      <td>13375</td>\n",
              "      <td>2020-01-28 23:55:00</td>\n",
              "      <td>19</td>\n",
              "      <td>18.4503</td>\n",
              "    </tr>\n",
              "    <tr>\n",
              "      <th>85</th>\n",
              "      <td>13376</td>\n",
              "      <td>2020-01-28 23:56:00</td>\n",
              "      <td>19</td>\n",
              "      <td>18.4496</td>\n",
              "    </tr>\n",
              "    <tr>\n",
              "      <th>86</th>\n",
              "      <td>13377</td>\n",
              "      <td>2020-01-28 23:57:00</td>\n",
              "      <td>19</td>\n",
              "      <td>18.4491</td>\n",
              "    </tr>\n",
              "    <tr>\n",
              "      <th>87</th>\n",
              "      <td>13378</td>\n",
              "      <td>2020-01-28 23:58:00</td>\n",
              "      <td>19</td>\n",
              "      <td>18.4487</td>\n",
              "    </tr>\n",
              "    <tr>\n",
              "      <th>88</th>\n",
              "      <td>13379</td>\n",
              "      <td>2020-01-28 23:59:00</td>\n",
              "      <td>19</td>\n",
              "      <td>18.4484</td>\n",
              "    </tr>\n",
              "    <tr>\n",
              "      <th>89</th>\n",
              "      <td>13380</td>\n",
              "      <td>2020-01-29 00:00:00</td>\n",
              "      <td>19</td>\n",
              "      <td>18.4482</td>\n",
              "    </tr>\n",
              "  </tbody>\n",
              "</table>\n",
              "</div>"
            ],
            "text/plain": [
              "    index              datenew  TOTALFD    pred\n",
              "60  13351  2020-01-28 23:31:00       19 19.1396\n",
              "61  13352  2020-01-28 23:32:00       19 18.7326\n",
              "62  13353  2020-01-28 23:33:00       19 18.6617\n",
              "63  13354  2020-01-28 23:34:00       19 18.6920\n",
              "64  13355  2020-01-28 23:35:00       19 18.6978\n",
              "65  13356  2020-01-28 23:36:00       19 18.6668\n",
              "66  13357  2020-01-28 23:37:00       19 18.6278\n",
              "67  13358  2020-01-28 23:38:00       19 18.5962\n",
              "68  13359  2020-01-28 23:39:00       19 18.5719\n",
              "69  13360  2020-01-28 23:40:00       19 18.5526\n",
              "70  13361  2020-01-28 23:41:00       19 18.5363\n",
              "71  13362  2020-01-28 23:42:00       19 18.5219\n",
              "72  13363  2020-01-28 23:43:00       19 18.5092\n",
              "73  13364  2020-01-28 23:44:00       19 18.4979\n",
              "74  13365  2020-01-28 23:45:00       19 18.4881\n",
              "75  13366  2020-01-28 23:46:00       19 18.4798\n",
              "76  13367  2020-01-28 23:47:00       19 18.4729\n",
              "77  13368  2020-01-28 23:48:00       19 18.4673\n",
              "78  13369  2020-01-28 23:49:00       19 18.4627\n",
              "79  13370  2020-01-28 23:50:00       19 18.4591\n",
              "80  13371  2020-01-28 23:51:00       19 18.4563\n",
              "81  13372  2020-01-28 23:52:00       19 18.4541\n",
              "82  13373  2020-01-28 23:53:00       19 18.4525\n",
              "83  13374  2020-01-28 23:54:00       19 18.4512\n",
              "84  13375  2020-01-28 23:55:00       19 18.4503\n",
              "85  13376  2020-01-28 23:56:00       19 18.4496\n",
              "86  13377  2020-01-28 23:57:00       19 18.4491\n",
              "87  13378  2020-01-28 23:58:00       19 18.4487\n",
              "88  13379  2020-01-28 23:59:00       19 18.4484\n",
              "89  13380  2020-01-29 00:00:00       19 18.4482"
            ]
          },
          "metadata": {
            "tags": []
          },
          "execution_count": 26
        }
      ]
    },
    {
      "cell_type": "code",
      "metadata": {
        "colab_type": "code",
        "outputId": "fa9eb670-684b-4af9-96dc-ba886e81f820",
        "id": "mYMOwR__29yN",
        "colab": {
          "base_uri": "https://localhost:8080/",
          "height": 131
        }
      },
      "source": [
        "from math import sqrt\n",
        "from sklearn.metrics import mean_squared_error\n",
        "def measure_rmse(actual, predicted):\n",
        "    return sqrt(mean_squared_error(actual, predicted))\n",
        "msedf3=dfres3.tail(n_steps_out)\n",
        "heurefin=heuredebut+datetime.timedelta(minutes=nsteps_out)\n",
        "print(\"RMSE 3 \",measure_rmse(msedf3.TOTALFD,msedf2.pred))\n",
        "print(\"RMSE 3 prédictions arrondies \", measure_rmse(msedf3.TOTALFD,round(msedf3.pred)))\n",
        "print(\"nb epoch\", epok)\n",
        "print(\"nb stepIN\", nsteps_in3)\n",
        "print(\"nb stepOUT\", nsteps_out)\n",
        "print(\"prédiction de \",heuredebut.hour,\"h\",heuredebut.minute,\" à \" ,heurefin.hour,\"h\",heurefin.minute,\"min\")\n",
        "print(\"temps d'execution \" , int(elapsed3/60), \"min\", int((round(elapsed3/60,2,)-(int(elapsed3/60)))*60), \"s\")"
      ],
      "execution_count": 27,
      "outputs": [
        {
          "output_type": "stream",
          "text": [
            "RMSE 3  0.14231198480239993\n",
            "RMSE 3 prédictions arrondies  0.752772652709081\n",
            "nb epoch 5\n",
            "nb stepIN 90\n",
            "nb stepOUT 30\n",
            "prédiction de  23 h 30  à  0 h 0 min\n",
            "temps d'execution  6 min 37 s\n"
          ],
          "name": "stdout"
        }
      ]
    },
    {
      "cell_type": "code",
      "metadata": {
        "id": "IbTNAes_Efb_",
        "colab_type": "code",
        "outputId": "c9673896-b0ac-44af-f78a-9951e93bd2b0",
        "colab": {
          "base_uri": "https://localhost:8080/",
          "height": 115
        }
      },
      "source": [
        "raw_seq[-n_steps_in:]"
      ],
      "execution_count": 28,
      "outputs": [
        {
          "output_type": "execute_result",
          "data": {
            "text/plain": [
              "array([17, 17, 17, 17, 17, 17, 17, 17, 17, 17, 17, 17, 17, 17, 17, 17, 17,\n",
              "       17, 17, 17, 17, 17, 17, 17, 17, 17, 17, 17, 17, 17, 17, 17, 17, 17,\n",
              "       17, 17, 17, 17, 17, 17, 17, 17, 17, 17, 17, 17, 17, 17, 17, 17, 17,\n",
              "       17, 17, 17, 17, 17, 17, 17, 17, 17, 17, 17, 16, 17, 17, 17, 17, 17,\n",
              "       17, 19, 19, 19, 19, 19, 19, 19, 19, 19, 19, 19, 19, 19, 19, 19, 19,\n",
              "       19, 19, 19, 19, 19])"
            ]
          },
          "metadata": {
            "tags": []
          },
          "execution_count": 28
        }
      ]
    },
    {
      "cell_type": "code",
      "metadata": {
        "colab_type": "code",
        "outputId": "09766554-dc52-4f33-c425-21e33bc87a4e",
        "id": "nPxBeEuL29yQ",
        "colab": {
          "base_uri": "https://localhost:8080/",
          "height": 283
        }
      },
      "source": [
        "\n",
        "import matplotlib.pyplot as plt\n",
        "dfres3['pred'].tail(n_steps_out).plot()\n",
        "dfres3['TOTALFD'].plot()\n",
        "\n",
        "\n",
        "# code you want to evaluate\n",
        "#elapsed = timeit.default_timer() - start_time\n"
      ],
      "execution_count": 29,
      "outputs": [
        {
          "output_type": "execute_result",
          "data": {
            "text/plain": [
              "<matplotlib.axes._subplots.AxesSubplot at 0x7f83bcdae1d0>"
            ]
          },
          "metadata": {
            "tags": []
          },
          "execution_count": 29
        },
        {
          "output_type": "display_data",
          "data": {
            "image/png": "[encoded data removed]",
            "text/plain": [
              "<Figure size 432x288 with 1 Axes>"
            ]
          },
          "metadata": {
            "tags": []
          }
        }
      ]
    },
    {
      "cell_type": "code",
      "metadata": {
        "id": "ix-YSkvlBweY",
        "colab_type": "code",
        "outputId": "652f53a4-7ec2-49db-d2ab-73760406907b",
        "colab": {
          "base_uri": "https://localhost:8080/",
          "height": 1000
        }
      },
      "source": [
        "#Predictions sur modèle entrainé\n",
        "# 1 normalisation\n",
        "# 2 predictions\n",
        "# 3 dé-normalisation\n",
        "\n",
        "heurefin=9   # heure de test de la journée et donc cut du dataset au dernier jour à cette heure\n",
        "minute=15\n",
        "heuredebutt=datetime.datetime(2020,1,29,8,30,0)\n",
        "nsteps_in, nsteps_out = 90, 30\n",
        "nsteps_in2= 60\n",
        "nsteps_in3= 90\n",
        "epok =2\n",
        "\n",
        "n_steps_in=nsteps_in3\n",
        "\n",
        "lastindexx=df[df.datedate==heuredebutt].index.max()\n",
        "dfxx=df.iloc[0:lastindexx+1,:]\n",
        "dfxx.tail()\n",
        "\n",
        "for i in range(lastindexx,lastindexx +1+ nsteps_out,1):\n",
        "  dfxx.loc[i]=df.iloc[i,:]\n",
        "dfxx.reset_index(inplace=True)\n",
        "\n",
        "df22=dfxx.loc[:dfxx.index.max(),['date','availiable_docks']]\n",
        "#df3.sort_values('datenew', inplace=True, ascending=True)\n",
        "#df3 = df3.reset_index(drop=True)\n",
        "print('Number of rows and columns:',dfxx.shape)\n",
        "print(df22.date.min())\n",
        "print(df22.date.max())\n",
        "df22.columns=[\"datenew\",\"TOTALFD\"]\n",
        "\n",
        "df33=df22.loc[:len(df22)-1-nsteps_out,[\"datenew\",\"TOTALFD\"]]\n",
        "df33.tail()\n",
        "\n",
        "raw_seq = df33.TOTALFD.to_numpy()\n",
        "X_input_scal=scaler.transform(array(raw_seq[-n_steps_in:]).reshape(-1,1))\n",
        "X_input_scal.reshape(X_input_scal.shape[0],)\n",
        "X_input_scal = X_input_scal.reshape((1, n_steps_in, n_features))\n",
        "#x_input = x_input.reshape((1, n_steps_in, n_features))\n",
        "yhatt = model3.predict(X_input_scal, verbose=0)\n",
        "yhatt=scaler.inverse_transform(yhatt.reshape(yhatt.shape[0],yhatt.shape[1]))\n",
        "\n",
        "\n",
        "dfress=df22.tail(n_steps_out*3)\n",
        "dfress[\"pred\"]=0.0\n",
        "dfress = dfress.reset_index()\n",
        "#lastindex=dfres.tail(1).index.start\n",
        "yhat22=pd.DataFrame(yhatt.reshape(n_steps_out,1))\n",
        "for ind in range(len(dfress)-1, -len(yhat22) + len(dfress)-1 , -1):\n",
        "   dfress[\"pred\"][ind]=yhat22.iloc[ind-len(dfress)]\n",
        "\n",
        "\n",
        "def measure_rmse(actual, predicted):\n",
        "    return sqrt(mean_squared_error(actual, predicted))\n",
        "msedff=dfress.tail(n_steps_out)\n",
        "heurefin=heuredebutt+datetime.timedelta(minutes=nsteps_out)\n",
        "print(\"RMSE 3 \",measure_rmse(msedff.TOTALFD,msedff.pred))\n",
        "print(\"RMSE 3 prédictions arrondies \", measure_rmse(msedff.TOTALFD,round(msedff.pred)))\n",
        "print(\"nb epoch\", epok)\n",
        "print(\"nb stepIN\", n_steps_in)\n",
        "print(\"nb stepOUT\", nsteps_out)\n",
        "print(\"prédiction de \",heuredebutt.hour,\"h\",heuredebutt.minute,\" à \" ,heurefin.hour,\"h\",heurefin.minute,\"min\")\n",
        "print(\"temps d'execution \" , int(elapsed3/60), \"min\", int((round(elapsed3/60,2,)-(int(elapsed3/60)))*60), \"s\")\n",
        "\n",
        "dfress.tail(n_steps_out)"
      ],
      "execution_count": 33,
      "outputs": [
        {
          "output_type": "stream",
          "text": [
            "Number of rows and columns: (13881, 7)\n",
            "2020-01-15 10:17:00\n",
            "2020-01-29 09:00:00\n",
            "RMSE 3  1.2212331835755375\n",
            "RMSE 3 prédictions arrondies  1.2649110640673518\n",
            "nb epoch 2\n",
            "nb stepIN 90\n",
            "nb stepOUT 30\n",
            "prédiction de  8 h 30  à  9 h 0 min\n",
            "temps d'execution  6 min 37 s\n"
          ],
          "name": "stdout"
        },
        {
          "output_type": "execute_result",
          "data": {
            "text/html": [
              "<div>\n",
              "<style scoped>\n",
              "    .dataframe tbody tr th:only-of-type {\n",
              "        vertical-align: middle;\n",
              "    }\n",
              "\n",
              "    .dataframe tbody tr th {\n",
              "        vertical-align: top;\n",
              "    }\n",
              "\n",
              "    .dataframe thead th {\n",
              "        text-align: right;\n",
              "    }\n",
              "</style>\n",
              "<table border=\"1\" class=\"dataframe\">\n",
              "  <thead>\n",
              "    <tr style=\"text-align: right;\">\n",
              "      <th></th>\n",
              "      <th>index</th>\n",
              "      <th>datenew</th>\n",
              "      <th>TOTALFD</th>\n",
              "      <th>pred</th>\n",
              "    </tr>\n",
              "  </thead>\n",
              "  <tbody>\n",
              "    <tr>\n",
              "      <th>60</th>\n",
              "      <td>13851</td>\n",
              "      <td>2020-01-29 08:31:00</td>\n",
              "      <td>11</td>\n",
              "      <td>10.8624</td>\n",
              "    </tr>\n",
              "    <tr>\n",
              "      <th>61</th>\n",
              "      <td>13852</td>\n",
              "      <td>2020-01-29 08:32:00</td>\n",
              "      <td>10</td>\n",
              "      <td>10.4421</td>\n",
              "    </tr>\n",
              "    <tr>\n",
              "      <th>62</th>\n",
              "      <td>13853</td>\n",
              "      <td>2020-01-29 08:33:00</td>\n",
              "      <td>10</td>\n",
              "      <td>9.9896</td>\n",
              "    </tr>\n",
              "    <tr>\n",
              "      <th>63</th>\n",
              "      <td>13854</td>\n",
              "      <td>2020-01-29 08:34:00</td>\n",
              "      <td>10</td>\n",
              "      <td>9.6872</td>\n",
              "    </tr>\n",
              "    <tr>\n",
              "      <th>64</th>\n",
              "      <td>13855</td>\n",
              "      <td>2020-01-29 08:35:00</td>\n",
              "      <td>10</td>\n",
              "      <td>9.4362</td>\n",
              "    </tr>\n",
              "    <tr>\n",
              "      <th>65</th>\n",
              "      <td>13856</td>\n",
              "      <td>2020-01-29 08:36:00</td>\n",
              "      <td>10</td>\n",
              "      <td>9.2090</td>\n",
              "    </tr>\n",
              "    <tr>\n",
              "      <th>66</th>\n",
              "      <td>13857</td>\n",
              "      <td>2020-01-29 08:37:00</td>\n",
              "      <td>10</td>\n",
              "      <td>9.0051</td>\n",
              "    </tr>\n",
              "    <tr>\n",
              "      <th>67</th>\n",
              "      <td>13858</td>\n",
              "      <td>2020-01-29 08:38:00</td>\n",
              "      <td>10</td>\n",
              "      <td>8.8231</td>\n",
              "    </tr>\n",
              "    <tr>\n",
              "      <th>68</th>\n",
              "      <td>13859</td>\n",
              "      <td>2020-01-29 08:39:00</td>\n",
              "      <td>10</td>\n",
              "      <td>8.6773</td>\n",
              "    </tr>\n",
              "    <tr>\n",
              "      <th>69</th>\n",
              "      <td>13860</td>\n",
              "      <td>2020-01-29 08:40:00</td>\n",
              "      <td>10</td>\n",
              "      <td>8.5523</td>\n",
              "    </tr>\n",
              "    <tr>\n",
              "      <th>70</th>\n",
              "      <td>13861</td>\n",
              "      <td>2020-01-29 08:41:00</td>\n",
              "      <td>10</td>\n",
              "      <td>8.4464</td>\n",
              "    </tr>\n",
              "    <tr>\n",
              "      <th>71</th>\n",
              "      <td>13862</td>\n",
              "      <td>2020-01-29 08:42:00</td>\n",
              "      <td>10</td>\n",
              "      <td>8.3579</td>\n",
              "    </tr>\n",
              "    <tr>\n",
              "      <th>72</th>\n",
              "      <td>13863</td>\n",
              "      <td>2020-01-29 08:43:00</td>\n",
              "      <td>10</td>\n",
              "      <td>8.2846</td>\n",
              "    </tr>\n",
              "    <tr>\n",
              "      <th>73</th>\n",
              "      <td>13864</td>\n",
              "      <td>2020-01-29 08:44:00</td>\n",
              "      <td>10</td>\n",
              "      <td>8.2248</td>\n",
              "    </tr>\n",
              "    <tr>\n",
              "      <th>74</th>\n",
              "      <td>13865</td>\n",
              "      <td>2020-01-29 08:45:00</td>\n",
              "      <td>9</td>\n",
              "      <td>8.1765</td>\n",
              "    </tr>\n",
              "    <tr>\n",
              "      <th>75</th>\n",
              "      <td>13866</td>\n",
              "      <td>2020-01-29 08:46:00</td>\n",
              "      <td>8</td>\n",
              "      <td>8.1379</td>\n",
              "    </tr>\n",
              "    <tr>\n",
              "      <th>76</th>\n",
              "      <td>13867</td>\n",
              "      <td>2020-01-29 08:47:00</td>\n",
              "      <td>8</td>\n",
              "      <td>8.1074</td>\n",
              "    </tr>\n",
              "    <tr>\n",
              "      <th>77</th>\n",
              "      <td>13868</td>\n",
              "      <td>2020-01-29 08:48:00</td>\n",
              "      <td>8</td>\n",
              "      <td>8.0835</td>\n",
              "    </tr>\n",
              "    <tr>\n",
              "      <th>78</th>\n",
              "      <td>13869</td>\n",
              "      <td>2020-01-29 08:49:00</td>\n",
              "      <td>8</td>\n",
              "      <td>8.0649</td>\n",
              "    </tr>\n",
              "    <tr>\n",
              "      <th>79</th>\n",
              "      <td>13870</td>\n",
              "      <td>2020-01-29 08:50:00</td>\n",
              "      <td>8</td>\n",
              "      <td>8.0505</td>\n",
              "    </tr>\n",
              "    <tr>\n",
              "      <th>80</th>\n",
              "      <td>13871</td>\n",
              "      <td>2020-01-29 08:51:00</td>\n",
              "      <td>8</td>\n",
              "      <td>8.0395</td>\n",
              "    </tr>\n",
              "    <tr>\n",
              "      <th>81</th>\n",
              "      <td>13872</td>\n",
              "      <td>2020-01-29 08:52:00</td>\n",
              "      <td>8</td>\n",
              "      <td>8.0312</td>\n",
              "    </tr>\n",
              "    <tr>\n",
              "      <th>82</th>\n",
              "      <td>13873</td>\n",
              "      <td>2020-01-29 08:53:00</td>\n",
              "      <td>7</td>\n",
              "      <td>8.0249</td>\n",
              "    </tr>\n",
              "    <tr>\n",
              "      <th>83</th>\n",
              "      <td>13874</td>\n",
              "      <td>2020-01-29 08:54:00</td>\n",
              "      <td>7</td>\n",
              "      <td>8.0201</td>\n",
              "    </tr>\n",
              "    <tr>\n",
              "      <th>84</th>\n",
              "      <td>13875</td>\n",
              "      <td>2020-01-29 08:55:00</td>\n",
              "      <td>7</td>\n",
              "      <td>8.0166</td>\n",
              "    </tr>\n",
              "    <tr>\n",
              "      <th>85</th>\n",
              "      <td>13876</td>\n",
              "      <td>2020-01-29 08:56:00</td>\n",
              "      <td>7</td>\n",
              "      <td>8.0140</td>\n",
              "    </tr>\n",
              "    <tr>\n",
              "      <th>86</th>\n",
              "      <td>13877</td>\n",
              "      <td>2020-01-29 08:57:00</td>\n",
              "      <td>6</td>\n",
              "      <td>8.0121</td>\n",
              "    </tr>\n",
              "    <tr>\n",
              "      <th>87</th>\n",
              "      <td>13878</td>\n",
              "      <td>2020-01-29 08:58:00</td>\n",
              "      <td>6</td>\n",
              "      <td>8.0107</td>\n",
              "    </tr>\n",
              "    <tr>\n",
              "      <th>88</th>\n",
              "      <td>13879</td>\n",
              "      <td>2020-01-29 08:59:00</td>\n",
              "      <td>6</td>\n",
              "      <td>8.0097</td>\n",
              "    </tr>\n",
              "    <tr>\n",
              "      <th>89</th>\n",
              "      <td>13880</td>\n",
              "      <td>2020-01-29 09:00:00</td>\n",
              "      <td>5</td>\n",
              "      <td>8.0090</td>\n",
              "    </tr>\n",
              "  </tbody>\n",
              "</table>\n",
              "</div>"
            ],
            "text/plain": [
              "    index              datenew  TOTALFD    pred\n",
              "60  13851  2020-01-29 08:31:00       11 10.8624\n",
              "61  13852  2020-01-29 08:32:00       10 10.4421\n",
              "62  13853  2020-01-29 08:33:00       10  9.9896\n",
              "63  13854  2020-01-29 08:34:00       10  9.6872\n",
              "64  13855  2020-01-29 08:35:00       10  9.4362\n",
              "65  13856  2020-01-29 08:36:00       10  9.2090\n",
              "66  13857  2020-01-29 08:37:00       10  9.0051\n",
              "67  13858  2020-01-29 08:38:00       10  8.8231\n",
              "68  13859  2020-01-29 08:39:00       10  8.6773\n",
              "69  13860  2020-01-29 08:40:00       10  8.5523\n",
              "70  13861  2020-01-29 08:41:00       10  8.4464\n",
              "71  13862  2020-01-29 08:42:00       10  8.3579\n",
              "72  13863  2020-01-29 08:43:00       10  8.2846\n",
              "73  13864  2020-01-29 08:44:00       10  8.2248\n",
              "74  13865  2020-01-29 08:45:00        9  8.1765\n",
              "75  13866  2020-01-29 08:46:00        8  8.1379\n",
              "76  13867  2020-01-29 08:47:00        8  8.1074\n",
              "77  13868  2020-01-29 08:48:00        8  8.0835\n",
              "78  13869  2020-01-29 08:49:00        8  8.0649\n",
              "79  13870  2020-01-29 08:50:00        8  8.0505\n",
              "80  13871  2020-01-29 08:51:00        8  8.0395\n",
              "81  13872  2020-01-29 08:52:00        8  8.0312\n",
              "82  13873  2020-01-29 08:53:00        7  8.0249\n",
              "83  13874  2020-01-29 08:54:00        7  8.0201\n",
              "84  13875  2020-01-29 08:55:00        7  8.0166\n",
              "85  13876  2020-01-29 08:56:00        7  8.0140\n",
              "86  13877  2020-01-29 08:57:00        6  8.0121\n",
              "87  13878  2020-01-29 08:58:00        6  8.0107\n",
              "88  13879  2020-01-29 08:59:00        6  8.0097\n",
              "89  13880  2020-01-29 09:00:00        5  8.0090"
            ]
          },
          "metadata": {
            "tags": []
          },
          "execution_count": 33
        }
      ]
    },
    {
      "cell_type": "markdown",
      "metadata": {
        "id": "j-3CP5UiusrC",
        "colab_type": "text"
      },
      "source": [
        "**EXPORT CSV 3 model**"
      ]
    },
    {
      "cell_type": "code",
      "metadata": {
        "id": "K_iQf8pJLAId",
        "colab_type": "code",
        "colab": {
          "base_uri": "https://localhost:8080/",
          "height": 488
        },
        "outputId": "5502a86f-1d93-443c-8162-304b2d2df439"
      },
      "source": [
        "#function:\n",
        "\n",
        "\n",
        "#Predictions sur modèle entrainé\n",
        "#param\n",
        "#from goto import goto, label\n",
        "nbpred=96\n",
        "pas=15\n",
        "heuredebuttinit=datetime.datetime(2020,1,29,0,0,0)\n",
        "nstepsINinit=[30,60,90]\n",
        "nsteps_outinit=30\n",
        "MODEL=[model,model2,model3]\n",
        "compt=0\n",
        "dfinal=pd.DataFrame([])\n",
        "#\n",
        "for ii in range(0,len(MODEL)):\n",
        "  nsteps_out =nsteps_outinit\n",
        "  nstepsIN=nstepsINinit\n",
        "  nsteps_in=nstepsIN[ii]\n",
        "  minute=pas\n",
        "  heuredebutt=heuredebuttinit\n",
        "  mod=\"Model \"+str(ii+1)\n",
        "\n",
        "  dfinaltemp = pd.DataFrame(columns=[mod,\"date\",\"rmse\"])\n",
        "  \n",
        "  for j in range(1,nbpred):\n",
        "    heuredebutt=heuredebutt +datetime.timedelta(minutes=minute)\n",
        "\n",
        "\n",
        "    n_steps_in=nsteps_in\n",
        "\n",
        "    lastindexx=df[df.datedate==heuredebutt].index.max()\n",
        "    if len(df[df.datedate==heuredebutt])==0:\n",
        "      print(heuredebutt, \" cette heure n'est pas dans le dataset\")\n",
        "    else:\n",
        "      compt=compt+1\n",
        "      dfxx=df.iloc[0:lastindexx+1,:]\n",
        "      dfxx.tail()\n",
        "\n",
        "      for i in range(lastindexx,lastindexx +1+ nsteps_out,1):\n",
        "        dfxx.loc[i]=df.iloc[i,:]\n",
        "      dfxx.reset_index(inplace=True)\n",
        "\n",
        "      df22=dfxx.loc[:dfxx.index.max(),['date','availiable_docks']]\n",
        "      #df3.sort_values('datenew', inplace=True, ascending=True)\n",
        "      #df3 = df3.reset_index(drop=True)\n",
        "      #print('Number of rows and columns:',dfxx.shape)\n",
        "      #print(df22.date.min())\n",
        "      #print(df22.date.max())\n",
        "      df22.columns=[\"datenew\",\"TOTALFD\"]\n",
        "\n",
        "      df33=df22.loc[:len(df22)-1-nsteps_out,[\"datenew\",\"TOTALFD\"]]\n",
        "      #df33.tail()\n",
        "\n",
        "      raw_seq = df33.TOTALFD.to_numpy()\n",
        "      X_input_scal=scaler.transform(array(raw_seq[-n_steps_in:]).reshape(-1,1))\n",
        "      X_input_scal.reshape(X_input_scal.shape[0],)\n",
        "      X_input_scal = X_input_scal.reshape((1, n_steps_in, n_features))\n",
        "      #x_input = x_input.reshape((1, n_steps_in, n_features))\n",
        "      yhatt = MODEL[ii].predict(X_input_scal, verbose=0)\n",
        "      yhatt=scaler.inverse_transform(yhatt.reshape(yhatt.shape[0],yhatt.shape[1]))\n",
        "\n",
        "\n",
        "      dfress=df22.tail(n_steps_out*3)\n",
        "      dfress[\"pred\"]=0.0\n",
        "      dfress = dfress.reset_index()\n",
        "      #lastindex=dfres.tail(1).index.start\n",
        "      yhat22=pd.DataFrame(yhatt.reshape(n_steps_out,1))\n",
        "      for ind in range(len(dfress)-1, -len(yhat22) + len(dfress)-1 , -1):\n",
        "        dfress[\"pred\"][ind]=yhat22.iloc[ind-len(dfress)]\n",
        "\n",
        "\n",
        "      def measure_rmse(actual, predicted):\n",
        "          return sqrt(mean_squared_error(actual, predicted))\n",
        "      msedff=dfress.tail(n_steps_out)\n",
        "      heurefin=heuredebutt+datetime.timedelta(minutes=nsteps_out)\n",
        "      dfinaltemp.loc[j] = [\"Model\"+str(ii+1),heuredebutt, measure_rmse(msedff.TOTALFD,msedff.pred)]\n",
        "      #dfinal.date[j]=heuredebutt\n",
        "      #dfinal.rmse[j]=measure_rmse(msedff.TOTALFD,msedff.pred)\n",
        "      #dfinal.mod[j]=\"Model\"+str(ii+1)\n",
        "     # print(\"Model\",ii+1)\n",
        "     # print(\"RMSE \",measure_rmse(msedff.TOTALFD,msedff.pred))\n",
        "     # print(\"RMSE round\", measure_rmse(msedff.TOTALFD,round(msedff.pred)))\n",
        "     # print(\"nb epoch\", epok)\n",
        "     # print(\"nb stepIN\", n_steps_in)\n",
        "     # print(\"nb stepOUT\", nsteps_out)\n",
        "     # print(\"prédiction de \",heuredebutt.hour,\"h\",heuredebutt.minute,\" à \" ,heurefin.hour,\"h\",heurefin.minute,\"min\")\n",
        "      #print(\"temps d'execution \" , int(elapsed3/60), \"min\", int((round(elapsed3/60,2,)-(int(elapsed3/60)))*60), \"s\")\n",
        "      #print(\"\")\n",
        "      #dfress.tail(n_steps_out)\n",
        "  #dfinal=dfinal.append(dfinaltemp)\n",
        "  dfinal=pd.concat([dfinal, dfinaltemp],axis=1)\n",
        "dfinal\n",
        "\n"
      ],
      "execution_count": 88,
      "outputs": [
        {
          "output_type": "stream",
          "text": [
            "2020-01-29 00:30:00  cette heure n'est pas dans le dataset\n",
            "2020-01-29 00:45:00  cette heure n'est pas dans le dataset\n",
            "2020-01-29 00:30:00  cette heure n'est pas dans le dataset\n",
            "2020-01-29 00:45:00  cette heure n'est pas dans le dataset\n",
            "2020-01-29 00:30:00  cette heure n'est pas dans le dataset\n",
            "2020-01-29 00:45:00  cette heure n'est pas dans le dataset\n"
          ],
          "name": "stdout"
        },
        {
          "output_type": "execute_result",
          "data": {
            "text/html": [
              "<div>\n",
              "<style scoped>\n",
              "    .dataframe tbody tr th:only-of-type {\n",
              "        vertical-align: middle;\n",
              "    }\n",
              "\n",
              "    .dataframe tbody tr th {\n",
              "        vertical-align: top;\n",
              "    }\n",
              "\n",
              "    .dataframe thead th {\n",
              "        text-align: right;\n",
              "    }\n",
              "</style>\n",
              "<table border=\"1\" class=\"dataframe\">\n",
              "  <thead>\n",
              "    <tr style=\"text-align: right;\">\n",
              "      <th></th>\n",
              "      <th>Model 1</th>\n",
              "      <th>date</th>\n",
              "      <th>rmse</th>\n",
              "      <th>Model 2</th>\n",
              "      <th>date</th>\n",
              "      <th>rmse</th>\n",
              "      <th>Model 3</th>\n",
              "      <th>date</th>\n",
              "      <th>rmse</th>\n",
              "    </tr>\n",
              "  </thead>\n",
              "  <tbody>\n",
              "    <tr>\n",
              "      <th>1</th>\n",
              "      <td>Model1</td>\n",
              "      <td>2020-01-29 00:15:00</td>\n",
              "      <td>0.3451</td>\n",
              "      <td>Model2</td>\n",
              "      <td>2020-01-29 00:15:00</td>\n",
              "      <td>0.1184</td>\n",
              "      <td>Model3</td>\n",
              "      <td>2020-01-29 00:15:00</td>\n",
              "      <td>0.5024</td>\n",
              "    </tr>\n",
              "    <tr>\n",
              "      <th>4</th>\n",
              "      <td>Model1</td>\n",
              "      <td>2020-01-29 01:00:00</td>\n",
              "      <td>0.3451</td>\n",
              "      <td>Model2</td>\n",
              "      <td>2020-01-29 01:00:00</td>\n",
              "      <td>0.1184</td>\n",
              "      <td>Model3</td>\n",
              "      <td>2020-01-29 01:00:00</td>\n",
              "      <td>0.5033</td>\n",
              "    </tr>\n",
              "    <tr>\n",
              "      <th>5</th>\n",
              "      <td>Model1</td>\n",
              "      <td>2020-01-29 01:15:00</td>\n",
              "      <td>0.3451</td>\n",
              "      <td>Model2</td>\n",
              "      <td>2020-01-29 01:15:00</td>\n",
              "      <td>0.1184</td>\n",
              "      <td>Model3</td>\n",
              "      <td>2020-01-29 01:15:00</td>\n",
              "      <td>0.5057</td>\n",
              "    </tr>\n",
              "    <tr>\n",
              "      <th>6</th>\n",
              "      <td>Model1</td>\n",
              "      <td>2020-01-29 01:30:00</td>\n",
              "      <td>0.3451</td>\n",
              "      <td>Model2</td>\n",
              "      <td>2020-01-29 01:30:00</td>\n",
              "      <td>0.1184</td>\n",
              "      <td>Model3</td>\n",
              "      <td>2020-01-29 01:30:00</td>\n",
              "      <td>0.5061</td>\n",
              "    </tr>\n",
              "    <tr>\n",
              "      <th>7</th>\n",
              "      <td>Model1</td>\n",
              "      <td>2020-01-29 01:45:00</td>\n",
              "      <td>0.3451</td>\n",
              "      <td>Model2</td>\n",
              "      <td>2020-01-29 01:45:00</td>\n",
              "      <td>0.1184</td>\n",
              "      <td>Model3</td>\n",
              "      <td>2020-01-29 01:45:00</td>\n",
              "      <td>0.5061</td>\n",
              "    </tr>\n",
              "    <tr>\n",
              "      <th>...</th>\n",
              "      <td>...</td>\n",
              "      <td>...</td>\n",
              "      <td>...</td>\n",
              "      <td>...</td>\n",
              "      <td>...</td>\n",
              "      <td>...</td>\n",
              "      <td>...</td>\n",
              "      <td>...</td>\n",
              "      <td>...</td>\n",
              "    </tr>\n",
              "    <tr>\n",
              "      <th>91</th>\n",
              "      <td>Model1</td>\n",
              "      <td>2020-01-29 22:45:00</td>\n",
              "      <td>0.3755</td>\n",
              "      <td>Model2</td>\n",
              "      <td>2020-01-29 22:45:00</td>\n",
              "      <td>0.2704</td>\n",
              "      <td>Model3</td>\n",
              "      <td>2020-01-29 22:45:00</td>\n",
              "      <td>0.6228</td>\n",
              "    </tr>\n",
              "    <tr>\n",
              "      <th>92</th>\n",
              "      <td>Model1</td>\n",
              "      <td>2020-01-29 23:00:00</td>\n",
              "      <td>0.4506</td>\n",
              "      <td>Model2</td>\n",
              "      <td>2020-01-29 23:00:00</td>\n",
              "      <td>0.2068</td>\n",
              "      <td>Model3</td>\n",
              "      <td>2020-01-29 23:00:00</td>\n",
              "      <td>0.5770</td>\n",
              "    </tr>\n",
              "    <tr>\n",
              "      <th>93</th>\n",
              "      <td>Model1</td>\n",
              "      <td>2020-01-29 23:15:00</td>\n",
              "      <td>0.3466</td>\n",
              "      <td>Model2</td>\n",
              "      <td>2020-01-29 23:15:00</td>\n",
              "      <td>0.1195</td>\n",
              "      <td>Model3</td>\n",
              "      <td>2020-01-29 23:15:00</td>\n",
              "      <td>0.5039</td>\n",
              "    </tr>\n",
              "    <tr>\n",
              "      <th>94</th>\n",
              "      <td>Model1</td>\n",
              "      <td>2020-01-29 23:30:00</td>\n",
              "      <td>0.4056</td>\n",
              "      <td>Model2</td>\n",
              "      <td>2020-01-29 23:30:00</td>\n",
              "      <td>0.3691</td>\n",
              "      <td>Model3</td>\n",
              "      <td>2020-01-29 23:30:00</td>\n",
              "      <td>0.7375</td>\n",
              "    </tr>\n",
              "    <tr>\n",
              "      <th>95</th>\n",
              "      <td>Model1</td>\n",
              "      <td>2020-01-29 23:45:00</td>\n",
              "      <td>0.5736</td>\n",
              "      <td>Model2</td>\n",
              "      <td>2020-01-29 23:45:00</td>\n",
              "      <td>0.7615</td>\n",
              "      <td>Model3</td>\n",
              "      <td>2020-01-29 23:45:00</td>\n",
              "      <td>1.2651</td>\n",
              "    </tr>\n",
              "  </tbody>\n",
              "</table>\n",
              "<p>93 rows × 9 columns</p>\n",
              "</div>"
            ],
            "text/plain": [
              "   Model 1                date   rmse  ... Model 3                date   rmse\n",
              "1   Model1 2020-01-29 00:15:00 0.3451  ...  Model3 2020-01-29 00:15:00 0.5024\n",
              "4   Model1 2020-01-29 01:00:00 0.3451  ...  Model3 2020-01-29 01:00:00 0.5033\n",
              "5   Model1 2020-01-29 01:15:00 0.3451  ...  Model3 2020-01-29 01:15:00 0.5057\n",
              "6   Model1 2020-01-29 01:30:00 0.3451  ...  Model3 2020-01-29 01:30:00 0.5061\n",
              "7   Model1 2020-01-29 01:45:00 0.3451  ...  Model3 2020-01-29 01:45:00 0.5061\n",
              "..     ...                 ...    ...  ...     ...                 ...    ...\n",
              "91  Model1 2020-01-29 22:45:00 0.3755  ...  Model3 2020-01-29 22:45:00 0.6228\n",
              "92  Model1 2020-01-29 23:00:00 0.4506  ...  Model3 2020-01-29 23:00:00 0.5770\n",
              "93  Model1 2020-01-29 23:15:00 0.3466  ...  Model3 2020-01-29 23:15:00 0.5039\n",
              "94  Model1 2020-01-29 23:30:00 0.4056  ...  Model3 2020-01-29 23:30:00 0.7375\n",
              "95  Model1 2020-01-29 23:45:00 0.5736  ...  Model3 2020-01-29 23:45:00 1.2651\n",
              "\n",
              "[93 rows x 9 columns]"
            ]
          },
          "metadata": {
            "tags": []
          },
          "execution_count": 88
        }
      ]
    },
    {
      "cell_type": "code",
      "metadata": {
        "id": "guelKoZIuZkd",
        "colab_type": "code",
        "colab": {}
      },
      "source": [
        "dfinal.to_csv(\"LSTM_29_01_2020.csv\")"
      ],
      "execution_count": 0,
      "outputs": []
    },
    {
      "cell_type": "code",
      "metadata": {
        "id": "Mcw0mlfVAcOQ",
        "colab_type": "code",
        "colab": {}
      },
      "source": [
        "from keras.models import load_model"
      ],
      "execution_count": 0,
      "outputs": []
    },
    {
      "cell_type": "code",
      "metadata": {
        "id": "phnFwhsdYu5u",
        "colab_type": "code",
        "colab": {}
      },
      "source": [
        "model2.save(\"modelLSTM.h5\")"
      ],
      "execution_count": 0,
      "outputs": []
    },
    {
      "cell_type": "code",
      "metadata": {
        "id": "ml1AtyRRAm8G",
        "colab_type": "code",
        "colab": {}
      },
      "source": [
        ""
      ],
      "execution_count": 0,
      "outputs": []
    }
  ]
}