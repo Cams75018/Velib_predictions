{
  "nbformat": 4,
  "nbformat_minor": 0,
  "metadata": {
    "colab": {
      "name": "LSTM multistep min par min.ipynb",
      "provenance": [],
      "authorship_tag": "ABX9TyP7Yq6XCZEkKLQyrAQsBa90",
      "include_colab_link": true
    },
    "kernelspec": {
      "name": "python3",
      "display_name": "Python 3"
    },
    "accelerator": "GPU"
  },
  "cells": [
    {
      "cell_type": "markdown",
      "metadata": {
        "id": "view-in-github",
        "colab_type": "text"
      },
      "source": [
        "<a href=\"https://colab.research.google.com/github/Cams75018/Velib_predictions/blob/master/LSTM_multistep_min_par_min.ipynb\" target=\"_parent\"><img src=\"https://colab.research.google.com/assets/colab-badge.svg\" alt=\"Open In Colab\"/></a>"
      ]
    },
    {
      "cell_type": "code",
      "metadata": {
        "id": "HXwwi4a2S8to",
        "colab_type": "code",
        "colab": {}
      },
      "source": [
        "import numpy as np\n",
        "import matplotlib.pyplot as plt\n",
        "import pandas as pd\n",
        "pd.set_option('display.float_format', lambda x: '%.4f' % x)\n",
        "import seaborn as sns\n",
        "sns.set_context(\"paper\", font_scale=1.3)\n",
        "sns.set_style('white')\n",
        "import warnings\n",
        "warnings.filterwarnings('ignore')\n",
        "from time import time\n",
        "import matplotlib.ticker as tkr\n",
        "from scipy import stats\n",
        "from statsmodels.tsa.stattools import adfuller\n",
        "from sklearn import preprocessing\n",
        "from statsmodels.tsa.stattools import pacf\n",
        "import datetime"
      ],
      "execution_count": 0,
      "outputs": []
    },
    {
      "cell_type": "markdown",
      "metadata": {
        "id": "rMRfMe-AeSkp",
        "colab_type": "text"
      },
      "source": [
        "### **Parametres**"
      ]
    },
    {
      "cell_type": "code",
      "metadata": {
        "id": "LBfKXnzjCWrL",
        "colab_type": "code",
        "colab": {}
      },
      "source": [
        "import timeit\n",
        "start_time = timeit.default_timer()"
      ],
      "execution_count": 0,
      "outputs": []
    },
    {
      "cell_type": "code",
      "metadata": {
        "id": "OBUnxQ-_eRhE",
        "colab_type": "code",
        "colab": {}
      },
      "source": [
        "heurefin=9   # heure de test de la journée et donc cut du dataset au dernier jour à cette heure\n",
        "minute=15\n",
        "heuredebut=datetime.datetime(2020,1,29,9,15,0)\n",
        "nsteps_in, nsteps_out = 90, 30\n",
        "epok =5"
      ],
      "execution_count": 0,
      "outputs": []
    },
    {
      "cell_type": "code",
      "metadata": {
        "id": "o7nepZGQSuiT",
        "colab_type": "code",
        "outputId": "55825ba7-51de-44a7-908c-d106d0d04fcd",
        "colab": {
          "base_uri": "https://localhost:8080/",
          "height": 220
        }
      },
      "source": [
        "\n",
        "df=pd.read_csv(\"https://raw.githubusercontent.com/alexisgcomte/velib-prediction/master/3.%20Modeling%20Research/datasets/madeleine_weekday.csv\")\n",
        "print('Number of rows and columns:', df.shape)\n",
        "df.head(5)"
      ],
      "execution_count": 37,
      "outputs": [
        {
          "output_type": "stream",
          "text": [
            "Number of rows and columns: (14800, 5)\n"
          ],
          "name": "stdout"
        },
        {
          "output_type": "execute_result",
          "data": {
            "text/html": [
              "<div>\n",
              "<style scoped>\n",
              "    .dataframe tbody tr th:only-of-type {\n",
              "        vertical-align: middle;\n",
              "    }\n",
              "\n",
              "    .dataframe tbody tr th {\n",
              "        vertical-align: top;\n",
              "    }\n",
              "\n",
              "    .dataframe thead th {\n",
              "        text-align: right;\n",
              "    }\n",
              "</style>\n",
              "<table border=\"1\" class=\"dataframe\">\n",
              "  <thead>\n",
              "    <tr style=\"text-align: right;\">\n",
              "      <th></th>\n",
              "      <th>Unnamed: 0</th>\n",
              "      <th>availiable_docks</th>\n",
              "      <th>date</th>\n",
              "      <th>weekday</th>\n",
              "      <th>hour</th>\n",
              "    </tr>\n",
              "  </thead>\n",
              "  <tbody>\n",
              "    <tr>\n",
              "      <th>0</th>\n",
              "      <td>0</td>\n",
              "      <td>8</td>\n",
              "      <td>2020-01-15 10:17:00</td>\n",
              "      <td>Wednesday</td>\n",
              "      <td>10</td>\n",
              "    </tr>\n",
              "    <tr>\n",
              "      <th>1</th>\n",
              "      <td>1</td>\n",
              "      <td>8</td>\n",
              "      <td>2020-01-15 10:18:00</td>\n",
              "      <td>Wednesday</td>\n",
              "      <td>10</td>\n",
              "    </tr>\n",
              "    <tr>\n",
              "      <th>2</th>\n",
              "      <td>2</td>\n",
              "      <td>7</td>\n",
              "      <td>2020-01-15 10:19:00</td>\n",
              "      <td>Wednesday</td>\n",
              "      <td>10</td>\n",
              "    </tr>\n",
              "    <tr>\n",
              "      <th>3</th>\n",
              "      <td>3</td>\n",
              "      <td>8</td>\n",
              "      <td>2020-01-15 10:20:00</td>\n",
              "      <td>Wednesday</td>\n",
              "      <td>10</td>\n",
              "    </tr>\n",
              "    <tr>\n",
              "      <th>4</th>\n",
              "      <td>4</td>\n",
              "      <td>8</td>\n",
              "      <td>2020-01-15 10:21:00</td>\n",
              "      <td>Wednesday</td>\n",
              "      <td>10</td>\n",
              "    </tr>\n",
              "  </tbody>\n",
              "</table>\n",
              "</div>"
            ],
            "text/plain": [
              "   Unnamed: 0  availiable_docks                 date    weekday  hour\n",
              "0           0                 8  2020-01-15 10:17:00  Wednesday    10\n",
              "1           1                 8  2020-01-15 10:18:00  Wednesday    10\n",
              "2           2                 7  2020-01-15 10:19:00  Wednesday    10\n",
              "3           3                 8  2020-01-15 10:20:00  Wednesday    10\n",
              "4           4                 8  2020-01-15 10:21:00  Wednesday    10"
            ]
          },
          "metadata": {
            "tags": []
          },
          "execution_count": 37
        }
      ]
    },
    {
      "cell_type": "code",
      "metadata": {
        "id": "RPe9zseZTcqm",
        "colab_type": "code",
        "colab": {}
      },
      "source": [
        "df['datedate'] = pd.to_datetime(df['date'])\n"
      ],
      "execution_count": 0,
      "outputs": []
    },
    {
      "cell_type": "code",
      "metadata": {
        "id": "cTpAv7RvU3JM",
        "colab_type": "code",
        "colab": {
          "base_uri": "https://localhost:8080/",
          "height": 202
        },
        "outputId": "2728c480-41f9-4e29-df22-f27b595197fd"
      },
      "source": [
        "# on repère l'index de la dernière minutes à prédire\n",
        "lastindex=df[df.datedate==heuredebut].index.max()\n",
        "dfx=df.iloc[0:lastindex+1,:]\n",
        "dfx.tail()"
      ],
      "execution_count": 39,
      "outputs": [
        {
          "output_type": "execute_result",
          "data": {
            "text/html": [
              "<div>\n",
              "<style scoped>\n",
              "    .dataframe tbody tr th:only-of-type {\n",
              "        vertical-align: middle;\n",
              "    }\n",
              "\n",
              "    .dataframe tbody tr th {\n",
              "        vertical-align: top;\n",
              "    }\n",
              "\n",
              "    .dataframe thead th {\n",
              "        text-align: right;\n",
              "    }\n",
              "</style>\n",
              "<table border=\"1\" class=\"dataframe\">\n",
              "  <thead>\n",
              "    <tr style=\"text-align: right;\">\n",
              "      <th></th>\n",
              "      <th>Unnamed: 0</th>\n",
              "      <th>availiable_docks</th>\n",
              "      <th>date</th>\n",
              "      <th>weekday</th>\n",
              "      <th>hour</th>\n",
              "      <th>datedate</th>\n",
              "    </tr>\n",
              "  </thead>\n",
              "  <tbody>\n",
              "    <tr>\n",
              "      <th>13891</th>\n",
              "      <td>13891</td>\n",
              "      <td>3</td>\n",
              "      <td>2020-01-29 09:11:00</td>\n",
              "      <td>Wednesday</td>\n",
              "      <td>9</td>\n",
              "      <td>2020-01-29 09:11:00</td>\n",
              "    </tr>\n",
              "    <tr>\n",
              "      <th>13892</th>\n",
              "      <td>13892</td>\n",
              "      <td>3</td>\n",
              "      <td>2020-01-29 09:12:00</td>\n",
              "      <td>Wednesday</td>\n",
              "      <td>9</td>\n",
              "      <td>2020-01-29 09:12:00</td>\n",
              "    </tr>\n",
              "    <tr>\n",
              "      <th>13893</th>\n",
              "      <td>13893</td>\n",
              "      <td>3</td>\n",
              "      <td>2020-01-29 09:13:00</td>\n",
              "      <td>Wednesday</td>\n",
              "      <td>9</td>\n",
              "      <td>2020-01-29 09:13:00</td>\n",
              "    </tr>\n",
              "    <tr>\n",
              "      <th>13894</th>\n",
              "      <td>13894</td>\n",
              "      <td>3</td>\n",
              "      <td>2020-01-29 09:14:00</td>\n",
              "      <td>Wednesday</td>\n",
              "      <td>9</td>\n",
              "      <td>2020-01-29 09:14:00</td>\n",
              "    </tr>\n",
              "    <tr>\n",
              "      <th>13895</th>\n",
              "      <td>13895</td>\n",
              "      <td>3</td>\n",
              "      <td>2020-01-29 09:15:00</td>\n",
              "      <td>Wednesday</td>\n",
              "      <td>9</td>\n",
              "      <td>2020-01-29 09:15:00</td>\n",
              "    </tr>\n",
              "  </tbody>\n",
              "</table>\n",
              "</div>"
            ],
            "text/plain": [
              "       Unnamed: 0  availiable_docks  ... hour            datedate\n",
              "13891       13891                 3  ...    9 2020-01-29 09:11:00\n",
              "13892       13892                 3  ...    9 2020-01-29 09:12:00\n",
              "13893       13893                 3  ...    9 2020-01-29 09:13:00\n",
              "13894       13894                 3  ...    9 2020-01-29 09:14:00\n",
              "13895       13895                 3  ...    9 2020-01-29 09:15:00\n",
              "\n",
              "[5 rows x 6 columns]"
            ]
          },
          "metadata": {
            "tags": []
          },
          "execution_count": 39
        }
      ]
    },
    {
      "cell_type": "code",
      "metadata": {
        "id": "LGPAk3MJSwYU",
        "colab_type": "code",
        "colab": {}
      },
      "source": [
        "#dfx=df[(df.hour==heurefin-1) | (df.hour== heurefin)]\n",
        "#lastindex=dfx.index.max()\n",
        "for i in range(lastindex,lastindex +1+ nsteps_out,1):\n",
        "  dfx.loc[i]=df.iloc[i,:]\n",
        "dfx.reset_index(inplace=True)\n"
      ],
      "execution_count": 0,
      "outputs": []
    },
    {
      "cell_type": "code",
      "metadata": {
        "id": "Za4EZzotbqKg",
        "colab_type": "code",
        "colab": {}
      },
      "source": [
        "#for ind in range(len(df)-1, -int(len(df)/10)  , -1):\n",
        "#   if df.hour[ind]==heurefin:\n",
        "#     print(df.date[ind],ind, len(df))\n",
        "#     findf=ind\n",
        "#     break"
      ],
      "execution_count": 0,
      "outputs": []
    },
    {
      "cell_type": "code",
      "metadata": {
        "id": "ksEk5Y-lrXj7",
        "colab_type": "code",
        "colab": {
          "base_uri": "https://localhost:8080/",
          "height": 69
        },
        "outputId": "a0aa6d6a-d14c-45c0-dbe6-5b3c4262df37"
      },
      "source": [
        "df2=dfx.loc[:dfx.index.max(),['date','availiable_docks']]\n",
        "#df3.sort_values('datenew', inplace=True, ascending=True)\n",
        "#df3 = df3.reset_index(drop=True)\n",
        "print('Number of rows and columns:',dfx.shape)\n",
        "print(df2.date.min())\n",
        "print(df2.date.max())\n",
        "df2.columns=[\"datenew\",\"TOTALFD\"]\n"
      ],
      "execution_count": 42,
      "outputs": [
        {
          "output_type": "stream",
          "text": [
            "Number of rows and columns: (13926, 7)\n",
            "2020-01-15 10:17:00\n",
            "2020-01-29 09:45:00\n"
          ],
          "name": "stdout"
        }
      ]
    },
    {
      "cell_type": "code",
      "metadata": {
        "id": "EkE6-7iVsFSK",
        "colab_type": "code",
        "colab": {
          "base_uri": "https://localhost:8080/",
          "height": 202
        },
        "outputId": "f924c0e2-4357-4043-d86d-205339de992a"
      },
      "source": [
        "df3=df2.loc[:len(df2)-1-nsteps_out,[\"datenew\",\"TOTALFD\"]]\n",
        "df3.tail()"
      ],
      "execution_count": 43,
      "outputs": [
        {
          "output_type": "execute_result",
          "data": {
            "text/html": [
              "<div>\n",
              "<style scoped>\n",
              "    .dataframe tbody tr th:only-of-type {\n",
              "        vertical-align: middle;\n",
              "    }\n",
              "\n",
              "    .dataframe tbody tr th {\n",
              "        vertical-align: top;\n",
              "    }\n",
              "\n",
              "    .dataframe thead th {\n",
              "        text-align: right;\n",
              "    }\n",
              "</style>\n",
              "<table border=\"1\" class=\"dataframe\">\n",
              "  <thead>\n",
              "    <tr style=\"text-align: right;\">\n",
              "      <th></th>\n",
              "      <th>datenew</th>\n",
              "      <th>TOTALFD</th>\n",
              "    </tr>\n",
              "  </thead>\n",
              "  <tbody>\n",
              "    <tr>\n",
              "      <th>13891</th>\n",
              "      <td>2020-01-29 09:11:00</td>\n",
              "      <td>3</td>\n",
              "    </tr>\n",
              "    <tr>\n",
              "      <th>13892</th>\n",
              "      <td>2020-01-29 09:12:00</td>\n",
              "      <td>3</td>\n",
              "    </tr>\n",
              "    <tr>\n",
              "      <th>13893</th>\n",
              "      <td>2020-01-29 09:13:00</td>\n",
              "      <td>3</td>\n",
              "    </tr>\n",
              "    <tr>\n",
              "      <th>13894</th>\n",
              "      <td>2020-01-29 09:14:00</td>\n",
              "      <td>3</td>\n",
              "    </tr>\n",
              "    <tr>\n",
              "      <th>13895</th>\n",
              "      <td>2020-01-29 09:15:00</td>\n",
              "      <td>3</td>\n",
              "    </tr>\n",
              "  </tbody>\n",
              "</table>\n",
              "</div>"
            ],
            "text/plain": [
              "                   datenew  TOTALFD\n",
              "13891  2020-01-29 09:11:00        3\n",
              "13892  2020-01-29 09:12:00        3\n",
              "13893  2020-01-29 09:13:00        3\n",
              "13894  2020-01-29 09:14:00        3\n",
              "13895  2020-01-29 09:15:00        3"
            ]
          },
          "metadata": {
            "tags": []
          },
          "execution_count": 43
        }
      ]
    },
    {
      "cell_type": "code",
      "metadata": {
        "id": "6jjVnp1AN9u1",
        "colab_type": "code",
        "outputId": "3a795e4d-e84f-4470-fb0e-38662e8bb5c1",
        "colab": {
          "base_uri": "https://localhost:8080/",
          "height": 69
        }
      },
      "source": [
        "print('Number of rows and columns after removing missing values:', df3.shape)\n",
        "print('The time series starts from: ', df3.datenew.min())\n",
        "print('The time series ends on: ', df3.datenew.max())"
      ],
      "execution_count": 44,
      "outputs": [
        {
          "output_type": "stream",
          "text": [
            "Number of rows and columns after removing missing values: (13896, 2)\n",
            "The time series starts from:  2020-01-15 10:17:00\n",
            "The time series ends on:  2020-01-29 09:15:00\n"
          ],
          "name": "stdout"
        }
      ]
    },
    {
      "cell_type": "markdown",
      "metadata": {
        "id": "diZ-9nNkN9vQ",
        "colab_type": "text"
      },
      "source": [
        "### First Time series plot"
      ]
    },
    {
      "cell_type": "code",
      "metadata": {
        "id": "02iRiGCMN9vR",
        "colab_type": "code",
        "outputId": "60019726-9756-4bf3-c653-6ee3868cfa50",
        "colab": {
          "base_uri": "https://localhost:8080/",
          "height": 380
        }
      },
      "source": [
        "df4=df3.loc[:,['datenew','TOTALFD']]\n",
        "df5=df3.loc[:,['datenew','TOTALFD']]\n",
        "df4.set_index('datenew',inplace=True)\n",
        "df4.plot(figsize=(12,5))\n",
        "plt.ylabel('TOTALFD')\n",
        "plt.legend().set_visible(False)\n",
        "plt.tight_layout()\n",
        "plt.title('TOTALFD Time Series')\n",
        "sns.despine(top=True)\n",
        "plt.show();"
      ],
      "execution_count": 45,
      "outputs": [
        {
          "output_type": "display_data",
          "data": {
            "image/png": "[encoded data removed]",
            "text/plain": [
              "<Figure size 864x360 with 1 Axes>"
            ]
          },
          "metadata": {
            "tags": []
          }
        }
      ]
    },
    {
      "cell_type": "code",
      "metadata": {
        "id": "xCnvDWk7N9vZ",
        "colab_type": "code",
        "outputId": "3a488a62-5b26-4847-dfc6-89953ab0a886",
        "colab": {
          "base_uri": "https://localhost:8080/",
          "height": 364
        }
      },
      "source": [
        "df5=df4[(df4.index>='2020-01-20') & (df4.index<'2020-01-28')]\n",
        "df5.plot(figsize=(12,5));\n",
        "plt.ylabel('TOTALFD')\n",
        "plt.legend().set_visible(False)\n",
        "plt.tight_layout()\n",
        "sns.despine(top=True)\n",
        "plt.show();"
      ],
      "execution_count": 46,
      "outputs": [
        {
          "output_type": "display_data",
          "data": {
            "image/png": "[encoded data removed]",
            "text/plain": [
              "<Figure size 864x360 with 1 Axes>"
            ]
          },
          "metadata": {
            "tags": []
          }
        }
      ]
    },
    {
      "cell_type": "markdown",
      "metadata": {
        "id": "QQN2YKuzN9vl",
        "colab_type": "text"
      },
      "source": [
        "### TOTALFD Distribution"
      ]
    },
    {
      "cell_type": "code",
      "metadata": {
        "scrolled": false,
        "id": "TkBqaqcSN9vm",
        "colab_type": "code",
        "outputId": "c4a18c34-2e56-4e91-c00d-81bd924c17a6",
        "colab": {
          "base_uri": "https://localhost:8080/",
          "height": 470
        }
      },
      "source": [
        "plt.figure(figsize=(14,6))\n",
        "plt.subplot(1,2,1)\n",
        "df3['TOTALFD'].hist(bins=50)\n",
        "plt.title('TOTAL Distribution')\n",
        "\n",
        "plt.subplot(1,2,2)\n",
        "stats.probplot(df3['TOTALFD'], plot=plt);\n",
        "df3.describe().T"
      ],
      "execution_count": 47,
      "outputs": [
        {
          "output_type": "execute_result",
          "data": {
            "text/html": [
              "<div>\n",
              "<style scoped>\n",
              "    .dataframe tbody tr th:only-of-type {\n",
              "        vertical-align: middle;\n",
              "    }\n",
              "\n",
              "    .dataframe tbody tr th {\n",
              "        vertical-align: top;\n",
              "    }\n",
              "\n",
              "    .dataframe thead th {\n",
              "        text-align: right;\n",
              "    }\n",
              "</style>\n",
              "<table border=\"1\" class=\"dataframe\">\n",
              "  <thead>\n",
              "    <tr style=\"text-align: right;\">\n",
              "      <th></th>\n",
              "      <th>count</th>\n",
              "      <th>mean</th>\n",
              "      <th>std</th>\n",
              "      <th>min</th>\n",
              "      <th>25%</th>\n",
              "      <th>50%</th>\n",
              "      <th>75%</th>\n",
              "      <th>max</th>\n",
              "    </tr>\n",
              "  </thead>\n",
              "  <tbody>\n",
              "    <tr>\n",
              "      <th>TOTALFD</th>\n",
              "      <td>13896.0000</td>\n",
              "      <td>14.3914</td>\n",
              "      <td>6.4514</td>\n",
              "      <td>0.0000</td>\n",
              "      <td>10.0000</td>\n",
              "      <td>17.0000</td>\n",
              "      <td>20.0000</td>\n",
              "      <td>21.0000</td>\n",
              "    </tr>\n",
              "  </tbody>\n",
              "</table>\n",
              "</div>"
            ],
            "text/plain": [
              "             count    mean    std    min     25%     50%     75%     max\n",
              "TOTALFD 13896.0000 14.3914 6.4514 0.0000 10.0000 17.0000 20.0000 21.0000"
            ]
          },
          "metadata": {
            "tags": []
          },
          "execution_count": 47
        },
        {
          "output_type": "display_data",
          "data": {
            "image/png": "[encoded data removed]",
            "text/plain": [
              "<Figure size 1008x432 with 2 Axes>"
            ]
          },
          "metadata": {
            "tags": []
          }
        }
      ]
    },
    {
      "cell_type": "markdown",
      "metadata": {
        "id": "ZUt_f9wVN9vs",
        "colab_type": "text"
      },
      "source": [
        "Normal probability plot also shows the data set is far from normally distributed."
      ]
    },
    {
      "cell_type": "markdown",
      "metadata": {
        "id": "z1X7n_N6yfa6",
        "colab_type": "text"
      },
      "source": [
        "**MULTI-STEP LSTM**"
      ]
    },
    {
      "cell_type": "code",
      "metadata": {
        "id": "416IaoWADuUJ",
        "colab_type": "code",
        "colab": {}
      },
      "source": [
        "from sklearn.preprocessing import MinMaxScaler"
      ],
      "execution_count": 0,
      "outputs": []
    },
    {
      "cell_type": "markdown",
      "metadata": {
        "id": "OAHDexHH5QQF",
        "colab_type": "text"
      },
      "source": [
        "LSTM multi-step encoder -decoder step_in 96, setp out 5 couche 100  normalisé"
      ]
    },
    {
      "cell_type": "code",
      "metadata": {
        "id": "hSRgZckBSU8z",
        "colab_type": "code",
        "colab": {}
      },
      "source": [
        ""
      ],
      "execution_count": 0,
      "outputs": []
    },
    {
      "cell_type": "code",
      "metadata": {
        "id": "zDsY1FKAOtmo",
        "colab_type": "code",
        "outputId": "51ad6e54-90d2-45bf-f1c5-e8b64271901e",
        "colab": {
          "base_uri": "https://localhost:8080/",
          "height": 277
        }
      },
      "source": [
        "from numpy import array\n",
        "from keras.models import Sequential\n",
        "from keras.layers import LSTM\n",
        "from keras.layers import Dense\n",
        "from keras.layers import RepeatVector\n",
        "from keras.layers import TimeDistributed\n",
        "# split a univariate sequence into samples\n",
        "def split_sequence(sequence, n_steps_in, n_steps_out):\n",
        "  X, y = list(), list()\n",
        "  for i in range(len(sequence)):\n",
        "    # find the end of this pattern\n",
        "    end_ix = i + n_steps_in\n",
        "    out_end_ix = end_ix + n_steps_out\n",
        "    # check if we are beyond the sequence\n",
        "    if out_end_ix > len(sequence):\n",
        "      break\n",
        "  # gather input and output parts of the pattern\n",
        "    seq_x, seq_y = sequence[i:end_ix], sequence[end_ix:out_end_ix]\n",
        "    X.append(seq_x)\n",
        "    y.append(seq_y)\n",
        "  return array(X), array(y)\n",
        "scaler = MinMaxScaler(feature_range=(-1, 1))\n",
        "raw_seq = df3.TOTALFD.to_numpy()\n",
        "#normalisation\n",
        "raw_seq_scaled = scaler.fit_transform(raw_seq.reshape(-1,1))\n",
        "#raw_seq_scaled = scaled_values.reshape(1,len(raw_seq_scaled)  )\n",
        "# choose a number of time steps\n",
        "\n",
        "n_steps_in, n_steps_out = nsteps_in, nsteps_out\n",
        "\n",
        "X, y = split_sequence(raw_seq_scaled, n_steps_in, n_steps_out)\n",
        "X=X.reshape(X.shape[0],X.shape[1])\n",
        "y= y.reshape(y.shape[0],y.shape[1])\n",
        "# reshape from [samples, timesteps] into [samples, timesteps, features]\n",
        "n_features = 1\n",
        "X = X.reshape((X.shape[0], X.shape[1], n_features))\n",
        "y = y.reshape((y.shape[0], y.shape[1], n_features))\n",
        "# define model\n",
        "model = Sequential()\n",
        "model.add(LSTM(100, activation='relu', input_shape=(n_steps_in, n_features)))\n",
        "model.add(RepeatVector(n_steps_out))\n",
        "#model.add(LSTM(100, activation='relu', return_sequences=True))\n",
        "model.add(LSTM(100, activation='relu', return_sequences=True))\n",
        "model.add(TimeDistributed(Dense(1)))\n",
        "model.compile(optimizer='adam', loss='mse')\n",
        "\n",
        "# fit model\n",
        "model.fit(X, y, epochs=epok) # verbose=0)\n",
        "# demonstrate prediction\n",
        "#x_input = array(raw_seq[-n_steps_in:])\n",
        "# Normalisation du \"Test\"\n",
        "X_input_scal=scaler.transform(array(raw_seq[-n_steps_in:]).reshape(-1,1))\n",
        "X_input_scal.reshape(X_input_scal.shape[0],)\n",
        "X_input_scal = X_input_scal.reshape((1, n_steps_in, n_features))\n",
        "#x_input = x_input.reshape((1, n_steps_in, n_features))\n",
        "yhat = model.predict(X_input_scal, verbose=0)\n",
        "yhat=scaler.inverse_transform(yhat.reshape(yhat.shape[0],yhat.shape[1]))\n",
        "elapsed = timeit.default_timer() - start_time\n",
        "print(yhat)"
      ],
      "execution_count": 49,
      "outputs": [
        {
          "output_type": "stream",
          "text": [
            "Epoch 1/5\n",
            "13807/13807 [==============================] - 62s 4ms/step - loss: 0.0461\n",
            "Epoch 2/5\n",
            "13807/13807 [==============================] - 61s 4ms/step - loss: 0.0297\n",
            "Epoch 3/5\n",
            "13807/13807 [==============================] - 60s 4ms/step - loss: 0.0288\n",
            "Epoch 4/5\n",
            "13807/13807 [==============================] - 60s 4ms/step - loss: 0.0282\n",
            "Epoch 5/5\n",
            "13807/13807 [==============================] - 60s 4ms/step - loss: 0.0281\n",
            "[[3.6629257 3.3820443 3.4426959 3.5395985 3.5945425 3.6257796 3.6524422\n",
            "  3.6848454 3.7237751 3.7675989 3.8137815 3.859949  3.9040153 3.9438999\n",
            "  3.9797785 4.0114884 4.0390735 4.062743  4.0828605 4.0997868 4.113877\n",
            "  4.1254945 4.1349864 4.1426816 4.14887   4.1538095 4.1577225 4.1607995\n",
            "  4.1632013 4.165059 ]]\n"
          ],
          "name": "stdout"
        }
      ]
    },
    {
      "cell_type": "markdown",
      "metadata": {
        "id": "XIbSUg5QHAi6",
        "colab_type": "text"
      },
      "source": [
        "**Visualisation predictions**"
      ]
    },
    {
      "cell_type": "code",
      "metadata": {
        "id": "KrWckH63u4Gu",
        "colab_type": "code",
        "outputId": "7ce79aaf-17d6-4c76-ebc0-c93665dbed96",
        "colab": {
          "base_uri": "https://localhost:8080/",
          "height": 969
        }
      },
      "source": [
        "\n",
        "\n",
        "dfres=df2.tail(n_steps_out*3)\n",
        "dfres[\"pred\"]=0.0\n",
        "dfres = dfres.reset_index()\n",
        "#lastindex=dfres.tail(1).index.start\n",
        "yhat2=pd.DataFrame(yhat.reshape(n_steps_out,1))\n",
        "for ind in range(len(dfres)-1, -len(yhat2) + len(dfres)-1 , -1):\n",
        "   dfres[\"pred\"][ind]=yhat2.iloc[ind-len(dfres)]\n",
        "dfres.tail(n_steps_out)\n",
        "\n"
      ],
      "execution_count": 50,
      "outputs": [
        {
          "output_type": "execute_result",
          "data": {
            "text/html": [
              "<div>\n",
              "<style scoped>\n",
              "    .dataframe tbody tr th:only-of-type {\n",
              "        vertical-align: middle;\n",
              "    }\n",
              "\n",
              "    .dataframe tbody tr th {\n",
              "        vertical-align: top;\n",
              "    }\n",
              "\n",
              "    .dataframe thead th {\n",
              "        text-align: right;\n",
              "    }\n",
              "</style>\n",
              "<table border=\"1\" class=\"dataframe\">\n",
              "  <thead>\n",
              "    <tr style=\"text-align: right;\">\n",
              "      <th></th>\n",
              "      <th>index</th>\n",
              "      <th>datenew</th>\n",
              "      <th>TOTALFD</th>\n",
              "      <th>pred</th>\n",
              "    </tr>\n",
              "  </thead>\n",
              "  <tbody>\n",
              "    <tr>\n",
              "      <th>60</th>\n",
              "      <td>13896</td>\n",
              "      <td>2020-01-29 09:16:00</td>\n",
              "      <td>0</td>\n",
              "      <td>3.6629</td>\n",
              "    </tr>\n",
              "    <tr>\n",
              "      <th>61</th>\n",
              "      <td>13897</td>\n",
              "      <td>2020-01-29 09:17:00</td>\n",
              "      <td>0</td>\n",
              "      <td>3.3820</td>\n",
              "    </tr>\n",
              "    <tr>\n",
              "      <th>62</th>\n",
              "      <td>13898</td>\n",
              "      <td>2020-01-29 09:18:00</td>\n",
              "      <td>1</td>\n",
              "      <td>3.4427</td>\n",
              "    </tr>\n",
              "    <tr>\n",
              "      <th>63</th>\n",
              "      <td>13899</td>\n",
              "      <td>2020-01-29 09:19:00</td>\n",
              "      <td>1</td>\n",
              "      <td>3.5396</td>\n",
              "    </tr>\n",
              "    <tr>\n",
              "      <th>64</th>\n",
              "      <td>13900</td>\n",
              "      <td>2020-01-29 09:20:00</td>\n",
              "      <td>1</td>\n",
              "      <td>3.5945</td>\n",
              "    </tr>\n",
              "    <tr>\n",
              "      <th>65</th>\n",
              "      <td>13901</td>\n",
              "      <td>2020-01-29 09:21:00</td>\n",
              "      <td>1</td>\n",
              "      <td>3.6258</td>\n",
              "    </tr>\n",
              "    <tr>\n",
              "      <th>66</th>\n",
              "      <td>13902</td>\n",
              "      <td>2020-01-29 09:22:00</td>\n",
              "      <td>1</td>\n",
              "      <td>3.6524</td>\n",
              "    </tr>\n",
              "    <tr>\n",
              "      <th>67</th>\n",
              "      <td>13903</td>\n",
              "      <td>2020-01-29 09:23:00</td>\n",
              "      <td>1</td>\n",
              "      <td>3.6848</td>\n",
              "    </tr>\n",
              "    <tr>\n",
              "      <th>68</th>\n",
              "      <td>13904</td>\n",
              "      <td>2020-01-29 09:24:00</td>\n",
              "      <td>0</td>\n",
              "      <td>3.7238</td>\n",
              "    </tr>\n",
              "    <tr>\n",
              "      <th>69</th>\n",
              "      <td>13905</td>\n",
              "      <td>2020-01-29 09:25:00</td>\n",
              "      <td>0</td>\n",
              "      <td>3.7676</td>\n",
              "    </tr>\n",
              "    <tr>\n",
              "      <th>70</th>\n",
              "      <td>13906</td>\n",
              "      <td>2020-01-29 09:26:00</td>\n",
              "      <td>0</td>\n",
              "      <td>3.8138</td>\n",
              "    </tr>\n",
              "    <tr>\n",
              "      <th>71</th>\n",
              "      <td>13907</td>\n",
              "      <td>2020-01-29 09:27:00</td>\n",
              "      <td>0</td>\n",
              "      <td>3.8599</td>\n",
              "    </tr>\n",
              "    <tr>\n",
              "      <th>72</th>\n",
              "      <td>13908</td>\n",
              "      <td>2020-01-29 09:28:00</td>\n",
              "      <td>0</td>\n",
              "      <td>3.9040</td>\n",
              "    </tr>\n",
              "    <tr>\n",
              "      <th>73</th>\n",
              "      <td>13909</td>\n",
              "      <td>2020-01-29 09:29:00</td>\n",
              "      <td>0</td>\n",
              "      <td>3.9439</td>\n",
              "    </tr>\n",
              "    <tr>\n",
              "      <th>74</th>\n",
              "      <td>13910</td>\n",
              "      <td>2020-01-29 09:30:00</td>\n",
              "      <td>1</td>\n",
              "      <td>3.9798</td>\n",
              "    </tr>\n",
              "    <tr>\n",
              "      <th>75</th>\n",
              "      <td>13911</td>\n",
              "      <td>2020-01-29 09:31:00</td>\n",
              "      <td>1</td>\n",
              "      <td>4.0115</td>\n",
              "    </tr>\n",
              "    <tr>\n",
              "      <th>76</th>\n",
              "      <td>13912</td>\n",
              "      <td>2020-01-29 09:32:00</td>\n",
              "      <td>0</td>\n",
              "      <td>4.0391</td>\n",
              "    </tr>\n",
              "    <tr>\n",
              "      <th>77</th>\n",
              "      <td>13913</td>\n",
              "      <td>2020-01-29 09:33:00</td>\n",
              "      <td>0</td>\n",
              "      <td>4.0627</td>\n",
              "    </tr>\n",
              "    <tr>\n",
              "      <th>78</th>\n",
              "      <td>13914</td>\n",
              "      <td>2020-01-29 09:34:00</td>\n",
              "      <td>0</td>\n",
              "      <td>4.0829</td>\n",
              "    </tr>\n",
              "    <tr>\n",
              "      <th>79</th>\n",
              "      <td>13915</td>\n",
              "      <td>2020-01-29 09:35:00</td>\n",
              "      <td>0</td>\n",
              "      <td>4.0998</td>\n",
              "    </tr>\n",
              "    <tr>\n",
              "      <th>80</th>\n",
              "      <td>13916</td>\n",
              "      <td>2020-01-29 09:36:00</td>\n",
              "      <td>0</td>\n",
              "      <td>4.1139</td>\n",
              "    </tr>\n",
              "    <tr>\n",
              "      <th>81</th>\n",
              "      <td>13917</td>\n",
              "      <td>2020-01-29 09:37:00</td>\n",
              "      <td>0</td>\n",
              "      <td>4.1255</td>\n",
              "    </tr>\n",
              "    <tr>\n",
              "      <th>82</th>\n",
              "      <td>13918</td>\n",
              "      <td>2020-01-29 09:38:00</td>\n",
              "      <td>0</td>\n",
              "      <td>4.1350</td>\n",
              "    </tr>\n",
              "    <tr>\n",
              "      <th>83</th>\n",
              "      <td>13919</td>\n",
              "      <td>2020-01-29 09:39:00</td>\n",
              "      <td>0</td>\n",
              "      <td>4.1427</td>\n",
              "    </tr>\n",
              "    <tr>\n",
              "      <th>84</th>\n",
              "      <td>13920</td>\n",
              "      <td>2020-01-29 09:40:00</td>\n",
              "      <td>0</td>\n",
              "      <td>4.1489</td>\n",
              "    </tr>\n",
              "    <tr>\n",
              "      <th>85</th>\n",
              "      <td>13921</td>\n",
              "      <td>2020-01-29 09:41:00</td>\n",
              "      <td>0</td>\n",
              "      <td>4.1538</td>\n",
              "    </tr>\n",
              "    <tr>\n",
              "      <th>86</th>\n",
              "      <td>13922</td>\n",
              "      <td>2020-01-29 09:42:00</td>\n",
              "      <td>0</td>\n",
              "      <td>4.1577</td>\n",
              "    </tr>\n",
              "    <tr>\n",
              "      <th>87</th>\n",
              "      <td>13923</td>\n",
              "      <td>2020-01-29 09:43:00</td>\n",
              "      <td>0</td>\n",
              "      <td>4.1608</td>\n",
              "    </tr>\n",
              "    <tr>\n",
              "      <th>88</th>\n",
              "      <td>13924</td>\n",
              "      <td>2020-01-29 09:44:00</td>\n",
              "      <td>0</td>\n",
              "      <td>4.1632</td>\n",
              "    </tr>\n",
              "    <tr>\n",
              "      <th>89</th>\n",
              "      <td>13925</td>\n",
              "      <td>2020-01-29 09:45:00</td>\n",
              "      <td>0</td>\n",
              "      <td>4.1651</td>\n",
              "    </tr>\n",
              "  </tbody>\n",
              "</table>\n",
              "</div>"
            ],
            "text/plain": [
              "    index              datenew  TOTALFD   pred\n",
              "60  13896  2020-01-29 09:16:00        0 3.6629\n",
              "61  13897  2020-01-29 09:17:00        0 3.3820\n",
              "62  13898  2020-01-29 09:18:00        1 3.4427\n",
              "63  13899  2020-01-29 09:19:00        1 3.5396\n",
              "64  13900  2020-01-29 09:20:00        1 3.5945\n",
              "65  13901  2020-01-29 09:21:00        1 3.6258\n",
              "66  13902  2020-01-29 09:22:00        1 3.6524\n",
              "67  13903  2020-01-29 09:23:00        1 3.6848\n",
              "68  13904  2020-01-29 09:24:00        0 3.7238\n",
              "69  13905  2020-01-29 09:25:00        0 3.7676\n",
              "70  13906  2020-01-29 09:26:00        0 3.8138\n",
              "71  13907  2020-01-29 09:27:00        0 3.8599\n",
              "72  13908  2020-01-29 09:28:00        0 3.9040\n",
              "73  13909  2020-01-29 09:29:00        0 3.9439\n",
              "74  13910  2020-01-29 09:30:00        1 3.9798\n",
              "75  13911  2020-01-29 09:31:00        1 4.0115\n",
              "76  13912  2020-01-29 09:32:00        0 4.0391\n",
              "77  13913  2020-01-29 09:33:00        0 4.0627\n",
              "78  13914  2020-01-29 09:34:00        0 4.0829\n",
              "79  13915  2020-01-29 09:35:00        0 4.0998\n",
              "80  13916  2020-01-29 09:36:00        0 4.1139\n",
              "81  13917  2020-01-29 09:37:00        0 4.1255\n",
              "82  13918  2020-01-29 09:38:00        0 4.1350\n",
              "83  13919  2020-01-29 09:39:00        0 4.1427\n",
              "84  13920  2020-01-29 09:40:00        0 4.1489\n",
              "85  13921  2020-01-29 09:41:00        0 4.1538\n",
              "86  13922  2020-01-29 09:42:00        0 4.1577\n",
              "87  13923  2020-01-29 09:43:00        0 4.1608\n",
              "88  13924  2020-01-29 09:44:00        0 4.1632\n",
              "89  13925  2020-01-29 09:45:00        0 4.1651"
            ]
          },
          "metadata": {
            "tags": []
          },
          "execution_count": 50
        }
      ]
    },
    {
      "cell_type": "code",
      "metadata": {
        "id": "Ri77xMl90bvK",
        "colab_type": "code",
        "colab": {
          "base_uri": "https://localhost:8080/",
          "height": 138
        },
        "outputId": "80656e10-0011-448e-9be5-77a785322cf2"
      },
      "source": [
        "from math import sqrt\n",
        "from sklearn.metrics import mean_squared_error\n",
        "def measure_rmse(actual, predicted):\n",
        "    return sqrt(mean_squared_error(actual, predicted))\n",
        "msedf=dfres.tail(n_steps_out)\n",
        "heurefin=heuredebut+datetime.timedelta(minutes=nsteps_out)\n",
        "print(\"RMSE \",measure_rmse(msedf.TOTALFD,msedf.pred))\n",
        "print(\"RMSE prédictions arrondies \", measure_rmse(msedf.TOTALFD,round(msedf.pred)))\n",
        "print(\"nb epoch\", epok)\n",
        "print(\"nb stepIN\", nsteps_in)\n",
        "print(\"nb stepOUT\", nsteps_out)\n",
        "print(\"prédiction de \",heuredebut.hour,\"h\",heuredebut.minute,\" à \" ,heurefin.hour,\"h\",heurefin.minute,\"min\")\n",
        "print(\"temps d'execution \" , int(elapsed/60), \"min\", int((round(elapsed/60,2,)-(int(elapsed/60)))*60), \"s\")"
      ],
      "execution_count": 51,
      "outputs": [
        {
          "output_type": "stream",
          "text": [
            "RMSE  3.695216660987403\n",
            "RMSE prédictions arrondies  3.7058512292499457\n",
            "nb epoch 5\n",
            "nb stepIN 60\n",
            "nb stepOUT 30\n",
            "prédiction de  9 h 15  à  9 h 45 min\n",
            "temps d'execution  5 min 6 s\n"
          ],
          "name": "stdout"
        }
      ]
    },
    {
      "cell_type": "code",
      "metadata": {
        "id": "ZMqWfYEIdVnt",
        "colab_type": "code",
        "colab": {
          "base_uri": "https://localhost:8080/",
          "height": 34
        },
        "outputId": "9731d1e1-f713-4f06-e63e-43c63613c037"
      },
      "source": [
        "heurefin=heuredebut+datetime.timedelta(minutes=nsteps_out)\n",
        "heurefin"
      ],
      "execution_count": 52,
      "outputs": [
        {
          "output_type": "execute_result",
          "data": {
            "text/plain": [
              "datetime.datetime(2020, 1, 29, 9, 45)"
            ]
          },
          "metadata": {
            "tags": []
          },
          "execution_count": 52
        }
      ]
    },
    {
      "cell_type": "code",
      "metadata": {
        "id": "06EL5N7DdqwN",
        "colab_type": "code",
        "colab": {}
      },
      "source": [
        ""
      ],
      "execution_count": 0,
      "outputs": []
    },
    {
      "cell_type": "code",
      "metadata": {
        "id": "VypHhZH8H_cv",
        "colab_type": "code",
        "outputId": "ef64a3c6-4215-427e-fbbb-c979ca7c0119",
        "colab": {
          "base_uri": "https://localhost:8080/",
          "height": 266
        }
      },
      "source": [
        "\n",
        "import matplotlib.pyplot as plt\n",
        "dfres['pred'].tail(n_steps_out).plot()\n",
        "dfres['TOTALFD'].plot()\n",
        "\n",
        "\n",
        "# code you want to evaluate\n",
        "elapsed = timeit.default_timer() - start_time\n"
      ],
      "execution_count": 53,
      "outputs": [
        {
          "output_type": "display_data",
          "data": {
            "image/png": "[encoded data removed]",
            "text/plain": [
              "<Figure size 432x288 with 1 Axes>"
            ]
          },
          "metadata": {
            "tags": []
          }
        }
      ]
    },
    {
      "cell_type": "code",
      "metadata": {
        "id": "ix-YSkvlBweY",
        "colab_type": "code",
        "colab": {}
      },
      "source": [
        ""
      ],
      "execution_count": 0,
      "outputs": []
    }
  ]
}