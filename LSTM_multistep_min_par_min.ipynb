{
  "nbformat": 4,
  "nbformat_minor": 0,
  "metadata": {
    "colab": {
      "name": "LSTM multistep min par min.ipynb",
      "provenance": [],
      "authorship_tag": "ABX9TyP72jCtEViQAKHvdPpt7oCV",
      "include_colab_link": true
    },
    "kernelspec": {
      "name": "python3",
      "display_name": "Python 3"
    },
    "accelerator": "GPU"
  },
  "cells": [
    {
      "cell_type": "markdown",
      "metadata": {
        "id": "view-in-github",
        "colab_type": "text"
      },
      "source": [
        "<a href=\"https://colab.research.google.com/github/Cams75018/Velib_predictions/blob/master/LSTM_multistep_min_par_min.ipynb\" target=\"_parent\"><img src=\"https://colab.research.google.com/assets/colab-badge.svg\" alt=\"Open In Colab\"/></a>"
      ]
    },
    {
      "cell_type": "code",
      "metadata": {
        "id": "HXwwi4a2S8to",
        "colab_type": "code",
        "colab": {}
      },
      "source": [
        "import numpy as np\n",
        "import matplotlib.pyplot as plt\n",
        "import pandas as pd\n",
        "pd.set_option('display.float_format', lambda x: '%.4f' % x)\n",
        "import seaborn as sns\n",
        "sns.set_context(\"paper\", font_scale=1.3)\n",
        "sns.set_style('white')\n",
        "import warnings\n",
        "warnings.filterwarnings('ignore')\n",
        "from time import time\n",
        "import matplotlib.ticker as tkr\n",
        "from scipy import stats\n",
        "from statsmodels.tsa.stattools import adfuller\n",
        "from sklearn import preprocessing\n",
        "from statsmodels.tsa.stattools import pacf"
      ],
      "execution_count": 0,
      "outputs": []
    },
    {
      "cell_type": "markdown",
      "metadata": {
        "id": "rMRfMe-AeSkp",
        "colab_type": "text"
      },
      "source": [
        "### **Parametres**"
      ]
    },
    {
      "cell_type": "code",
      "metadata": {
        "id": "LBfKXnzjCWrL",
        "colab_type": "code",
        "colab": {}
      },
      "source": [
        "import timeit\n",
        "start_time = timeit.default_timer()"
      ],
      "execution_count": 0,
      "outputs": []
    },
    {
      "cell_type": "code",
      "metadata": {
        "id": "OBUnxQ-_eRhE",
        "colab_type": "code",
        "colab": {}
      },
      "source": [
        "heurefin=9   # heure de test de la journée et donc cut du dataset au dernier jour à cette heure\n",
        "nsteps_in, nsteps_out = 90, 30\n",
        "epok =5"
      ],
      "execution_count": 0,
      "outputs": []
    },
    {
      "cell_type": "code",
      "metadata": {
        "id": "o7nepZGQSuiT",
        "colab_type": "code",
        "outputId": "2d96a716-3927-49ae-8316-2c928d447ecf",
        "colab": {
          "base_uri": "https://localhost:8080/",
          "height": 220
        }
      },
      "source": [
        "\n",
        "df=pd.read_csv(\"https://raw.githubusercontent.com/alexisgcomte/velib-prediction/master/3.%20Modeling%20Research/datasets/madeleine_weekday.csv\")\n",
        "print('Number of rows and columns:', df.shape)\n",
        "df.head(5)"
      ],
      "execution_count": 4,
      "outputs": [
        {
          "output_type": "stream",
          "text": [
            "Number of rows and columns: (14800, 5)\n"
          ],
          "name": "stdout"
        },
        {
          "output_type": "execute_result",
          "data": {
            "text/html": [
              "<div>\n",
              "<style scoped>\n",
              "    .dataframe tbody tr th:only-of-type {\n",
              "        vertical-align: middle;\n",
              "    }\n",
              "\n",
              "    .dataframe tbody tr th {\n",
              "        vertical-align: top;\n",
              "    }\n",
              "\n",
              "    .dataframe thead th {\n",
              "        text-align: right;\n",
              "    }\n",
              "</style>\n",
              "<table border=\"1\" class=\"dataframe\">\n",
              "  <thead>\n",
              "    <tr style=\"text-align: right;\">\n",
              "      <th></th>\n",
              "      <th>Unnamed: 0</th>\n",
              "      <th>availiable_docks</th>\n",
              "      <th>date</th>\n",
              "      <th>weekday</th>\n",
              "      <th>hour</th>\n",
              "    </tr>\n",
              "  </thead>\n",
              "  <tbody>\n",
              "    <tr>\n",
              "      <th>0</th>\n",
              "      <td>0</td>\n",
              "      <td>8</td>\n",
              "      <td>2020-01-15 10:17:00</td>\n",
              "      <td>Wednesday</td>\n",
              "      <td>10</td>\n",
              "    </tr>\n",
              "    <tr>\n",
              "      <th>1</th>\n",
              "      <td>1</td>\n",
              "      <td>8</td>\n",
              "      <td>2020-01-15 10:18:00</td>\n",
              "      <td>Wednesday</td>\n",
              "      <td>10</td>\n",
              "    </tr>\n",
              "    <tr>\n",
              "      <th>2</th>\n",
              "      <td>2</td>\n",
              "      <td>7</td>\n",
              "      <td>2020-01-15 10:19:00</td>\n",
              "      <td>Wednesday</td>\n",
              "      <td>10</td>\n",
              "    </tr>\n",
              "    <tr>\n",
              "      <th>3</th>\n",
              "      <td>3</td>\n",
              "      <td>8</td>\n",
              "      <td>2020-01-15 10:20:00</td>\n",
              "      <td>Wednesday</td>\n",
              "      <td>10</td>\n",
              "    </tr>\n",
              "    <tr>\n",
              "      <th>4</th>\n",
              "      <td>4</td>\n",
              "      <td>8</td>\n",
              "      <td>2020-01-15 10:21:00</td>\n",
              "      <td>Wednesday</td>\n",
              "      <td>10</td>\n",
              "    </tr>\n",
              "  </tbody>\n",
              "</table>\n",
              "</div>"
            ],
            "text/plain": [
              "   Unnamed: 0  availiable_docks                 date    weekday  hour\n",
              "0           0                 8  2020-01-15 10:17:00  Wednesday    10\n",
              "1           1                 8  2020-01-15 10:18:00  Wednesday    10\n",
              "2           2                 7  2020-01-15 10:19:00  Wednesday    10\n",
              "3           3                 8  2020-01-15 10:20:00  Wednesday    10\n",
              "4           4                 8  2020-01-15 10:21:00  Wednesday    10"
            ]
          },
          "metadata": {
            "tags": []
          },
          "execution_count": 4
        }
      ]
    },
    {
      "cell_type": "code",
      "metadata": {
        "id": "Za4EZzotbqKg",
        "colab_type": "code",
        "colab": {
          "base_uri": "https://localhost:8080/",
          "height": 34
        },
        "outputId": "2c63750b-fa2f-46e0-85b5-2446ab81b767"
      },
      "source": [
        "for ind in range(len(df)-1, -int(len(df)/10)  , -1):\n",
        "   if df.hour[ind]==heurefin:\n",
        "     print(df.date[ind],ind, len(df))\n",
        "     findf=ind\n",
        "     break"
      ],
      "execution_count": 5,
      "outputs": [
        {
          "output_type": "stream",
          "text": [
            "2020-01-29 09:59:00 13939 14800\n"
          ],
          "name": "stdout"
        }
      ]
    },
    {
      "cell_type": "code",
      "metadata": {
        "id": "ksEk5Y-lrXj7",
        "colab_type": "code",
        "colab": {}
      },
      "source": [
        ""
      ],
      "execution_count": 0,
      "outputs": []
    },
    {
      "cell_type": "code",
      "metadata": {
        "id": "F3dcyikEN9ux",
        "colab_type": "code",
        "outputId": "2859946a-5efd-4ef7-b7a8-0e0761937c3b",
        "colab": {
          "base_uri": "https://localhost:8080/",
          "height": 254
        }
      },
      "source": [
        "df2=df.loc[:findf,['date','availiable_docks']]\n",
        "#df3.sort_values('datenew', inplace=True, ascending=True)\n",
        "#df3 = df3.reset_index(drop=True)\n",
        "print('Number of rows and columns:',df2.shape)\n",
        "print(df2.date.min())\n",
        "print(df2.date.max())\n",
        "df2.columns=[\"datenew\",\"TOTALFD\"]\n",
        "df2.tail(5)"
      ],
      "execution_count": 6,
      "outputs": [
        {
          "output_type": "stream",
          "text": [
            "Number of rows and columns: (13940, 2)\n",
            "2020-01-15 10:17:00\n",
            "2020-01-29 09:59:00\n"
          ],
          "name": "stdout"
        },
        {
          "output_type": "execute_result",
          "data": {
            "text/html": [
              "<div>\n",
              "<style scoped>\n",
              "    .dataframe tbody tr th:only-of-type {\n",
              "        vertical-align: middle;\n",
              "    }\n",
              "\n",
              "    .dataframe tbody tr th {\n",
              "        vertical-align: top;\n",
              "    }\n",
              "\n",
              "    .dataframe thead th {\n",
              "        text-align: right;\n",
              "    }\n",
              "</style>\n",
              "<table border=\"1\" class=\"dataframe\">\n",
              "  <thead>\n",
              "    <tr style=\"text-align: right;\">\n",
              "      <th></th>\n",
              "      <th>datenew</th>\n",
              "      <th>TOTALFD</th>\n",
              "    </tr>\n",
              "  </thead>\n",
              "  <tbody>\n",
              "    <tr>\n",
              "      <th>13935</th>\n",
              "      <td>2020-01-29 09:55:00</td>\n",
              "      <td>0</td>\n",
              "    </tr>\n",
              "    <tr>\n",
              "      <th>13936</th>\n",
              "      <td>2020-01-29 09:56:00</td>\n",
              "      <td>0</td>\n",
              "    </tr>\n",
              "    <tr>\n",
              "      <th>13937</th>\n",
              "      <td>2020-01-29 09:57:00</td>\n",
              "      <td>0</td>\n",
              "    </tr>\n",
              "    <tr>\n",
              "      <th>13938</th>\n",
              "      <td>2020-01-29 09:58:00</td>\n",
              "      <td>0</td>\n",
              "    </tr>\n",
              "    <tr>\n",
              "      <th>13939</th>\n",
              "      <td>2020-01-29 09:59:00</td>\n",
              "      <td>0</td>\n",
              "    </tr>\n",
              "  </tbody>\n",
              "</table>\n",
              "</div>"
            ],
            "text/plain": [
              "                   datenew  TOTALFD\n",
              "13935  2020-01-29 09:55:00        0\n",
              "13936  2020-01-29 09:56:00        0\n",
              "13937  2020-01-29 09:57:00        0\n",
              "13938  2020-01-29 09:58:00        0\n",
              "13939  2020-01-29 09:59:00        0"
            ]
          },
          "metadata": {
            "tags": []
          },
          "execution_count": 6
        }
      ]
    },
    {
      "cell_type": "code",
      "metadata": {
        "id": "EkE6-7iVsFSK",
        "colab_type": "code",
        "colab": {
          "base_uri": "https://localhost:8080/",
          "height": 202
        },
        "outputId": "5b7ce30b-1816-4b91-b492-617f1f589968"
      },
      "source": [
        "df3=df2.loc[:len(df2)-1-nsteps_out,[\"datenew\",\"TOTALFD\"]]\n",
        "df3.tail()"
      ],
      "execution_count": 7,
      "outputs": [
        {
          "output_type": "execute_result",
          "data": {
            "text/html": [
              "<div>\n",
              "<style scoped>\n",
              "    .dataframe tbody tr th:only-of-type {\n",
              "        vertical-align: middle;\n",
              "    }\n",
              "\n",
              "    .dataframe tbody tr th {\n",
              "        vertical-align: top;\n",
              "    }\n",
              "\n",
              "    .dataframe thead th {\n",
              "        text-align: right;\n",
              "    }\n",
              "</style>\n",
              "<table border=\"1\" class=\"dataframe\">\n",
              "  <thead>\n",
              "    <tr style=\"text-align: right;\">\n",
              "      <th></th>\n",
              "      <th>datenew</th>\n",
              "      <th>TOTALFD</th>\n",
              "    </tr>\n",
              "  </thead>\n",
              "  <tbody>\n",
              "    <tr>\n",
              "      <th>13905</th>\n",
              "      <td>2020-01-29 09:25:00</td>\n",
              "      <td>0</td>\n",
              "    </tr>\n",
              "    <tr>\n",
              "      <th>13906</th>\n",
              "      <td>2020-01-29 09:26:00</td>\n",
              "      <td>0</td>\n",
              "    </tr>\n",
              "    <tr>\n",
              "      <th>13907</th>\n",
              "      <td>2020-01-29 09:27:00</td>\n",
              "      <td>0</td>\n",
              "    </tr>\n",
              "    <tr>\n",
              "      <th>13908</th>\n",
              "      <td>2020-01-29 09:28:00</td>\n",
              "      <td>0</td>\n",
              "    </tr>\n",
              "    <tr>\n",
              "      <th>13909</th>\n",
              "      <td>2020-01-29 09:29:00</td>\n",
              "      <td>0</td>\n",
              "    </tr>\n",
              "  </tbody>\n",
              "</table>\n",
              "</div>"
            ],
            "text/plain": [
              "                   datenew  TOTALFD\n",
              "13905  2020-01-29 09:25:00        0\n",
              "13906  2020-01-29 09:26:00        0\n",
              "13907  2020-01-29 09:27:00        0\n",
              "13908  2020-01-29 09:28:00        0\n",
              "13909  2020-01-29 09:29:00        0"
            ]
          },
          "metadata": {
            "tags": []
          },
          "execution_count": 7
        }
      ]
    },
    {
      "cell_type": "code",
      "metadata": {
        "id": "6jjVnp1AN9u1",
        "colab_type": "code",
        "outputId": "b26c77fc-ac81-40f0-ccc5-da5bd69be336",
        "colab": {
          "base_uri": "https://localhost:8080/",
          "height": 69
        }
      },
      "source": [
        "print('Number of rows and columns after removing missing values:', df3.shape)\n",
        "print('The time series starts from: ', df3.datenew.min())\n",
        "print('The time series ends on: ', df3.datenew.max())"
      ],
      "execution_count": 8,
      "outputs": [
        {
          "output_type": "stream",
          "text": [
            "Number of rows and columns after removing missing values: (13910, 2)\n",
            "The time series starts from:  2020-01-15 10:17:00\n",
            "The time series ends on:  2020-01-29 09:29:00\n"
          ],
          "name": "stdout"
        }
      ]
    },
    {
      "cell_type": "markdown",
      "metadata": {
        "id": "diZ-9nNkN9vQ",
        "colab_type": "text"
      },
      "source": [
        "### First Time series plot"
      ]
    },
    {
      "cell_type": "code",
      "metadata": {
        "id": "02iRiGCMN9vR",
        "colab_type": "code",
        "outputId": "cca1027b-263a-487b-f6ee-f96194a6c2d4",
        "colab": {
          "base_uri": "https://localhost:8080/",
          "height": 380
        }
      },
      "source": [
        "df4=df3.loc[:,['datenew','TOTALFD']]\n",
        "df5=df3.loc[:,['datenew','TOTALFD']]\n",
        "df4.set_index('datenew',inplace=True)\n",
        "df4.plot(figsize=(12,5))\n",
        "plt.ylabel('TOTALFD')\n",
        "plt.legend().set_visible(False)\n",
        "plt.tight_layout()\n",
        "plt.title('TOTALFD Time Series')\n",
        "sns.despine(top=True)\n",
        "plt.show();"
      ],
      "execution_count": 9,
      "outputs": [
        {
          "output_type": "display_data",
          "data": {
            "image/png": "[encoded data removed]",
            "text/plain": [
              "<Figure size 864x360 with 1 Axes>"
            ]
          },
          "metadata": {
            "tags": []
          }
        }
      ]
    },
    {
      "cell_type": "code",
      "metadata": {
        "id": "xCnvDWk7N9vZ",
        "colab_type": "code",
        "outputId": "051f89fb-0721-435d-c262-defeb06f5aa5",
        "colab": {
          "base_uri": "https://localhost:8080/",
          "height": 364
        }
      },
      "source": [
        "df5=df4[(df4.index>='2020-01-20') & (df4.index<'2020-01-28')]\n",
        "df5.plot(figsize=(12,5));\n",
        "plt.ylabel('TOTALFD')\n",
        "plt.legend().set_visible(False)\n",
        "plt.tight_layout()\n",
        "sns.despine(top=True)\n",
        "plt.show();"
      ],
      "execution_count": 10,
      "outputs": [
        {
          "output_type": "display_data",
          "data": {
            "image/png": "[encoded data removed]",
            "text/plain": [
              "<Figure size 864x360 with 1 Axes>"
            ]
          },
          "metadata": {
            "tags": []
          }
        }
      ]
    },
    {
      "cell_type": "markdown",
      "metadata": {
        "id": "QQN2YKuzN9vl",
        "colab_type": "text"
      },
      "source": [
        "### TOTALFD Distribution"
      ]
    },
    {
      "cell_type": "code",
      "metadata": {
        "scrolled": false,
        "id": "TkBqaqcSN9vm",
        "colab_type": "code",
        "outputId": "277b1340-02bf-4dbe-a860-00dee6ffc865",
        "colab": {
          "base_uri": "https://localhost:8080/",
          "height": 470
        }
      },
      "source": [
        "plt.figure(figsize=(14,6))\n",
        "plt.subplot(1,2,1)\n",
        "df3['TOTALFD'].hist(bins=50)\n",
        "plt.title('TOTAL Distribution')\n",
        "\n",
        "plt.subplot(1,2,2)\n",
        "stats.probplot(df3['TOTALFD'], plot=plt);\n",
        "df3.describe().T"
      ],
      "execution_count": 11,
      "outputs": [
        {
          "output_type": "execute_result",
          "data": {
            "text/html": [
              "<div>\n",
              "<style scoped>\n",
              "    .dataframe tbody tr th:only-of-type {\n",
              "        vertical-align: middle;\n",
              "    }\n",
              "\n",
              "    .dataframe tbody tr th {\n",
              "        vertical-align: top;\n",
              "    }\n",
              "\n",
              "    .dataframe thead th {\n",
              "        text-align: right;\n",
              "    }\n",
              "</style>\n",
              "<table border=\"1\" class=\"dataframe\">\n",
              "  <thead>\n",
              "    <tr style=\"text-align: right;\">\n",
              "      <th></th>\n",
              "      <th>count</th>\n",
              "      <th>mean</th>\n",
              "      <th>std</th>\n",
              "      <th>min</th>\n",
              "      <th>25%</th>\n",
              "      <th>50%</th>\n",
              "      <th>75%</th>\n",
              "      <th>max</th>\n",
              "    </tr>\n",
              "  </thead>\n",
              "  <tbody>\n",
              "    <tr>\n",
              "      <th>TOTALFD</th>\n",
              "      <td>13910.0000</td>\n",
              "      <td>14.3774</td>\n",
              "      <td>6.4634</td>\n",
              "      <td>0.0000</td>\n",
              "      <td>10.0000</td>\n",
              "      <td>17.0000</td>\n",
              "      <td>20.0000</td>\n",
              "      <td>21.0000</td>\n",
              "    </tr>\n",
              "  </tbody>\n",
              "</table>\n",
              "</div>"
            ],
            "text/plain": [
              "             count    mean    std    min     25%     50%     75%     max\n",
              "TOTALFD 13910.0000 14.3774 6.4634 0.0000 10.0000 17.0000 20.0000 21.0000"
            ]
          },
          "metadata": {
            "tags": []
          },
          "execution_count": 11
        },
        {
          "output_type": "display_data",
          "data": {
            "image/png": "[encoded data removed]",
            "text/plain": [
              "<Figure size 1008x432 with 2 Axes>"
            ]
          },
          "metadata": {
            "tags": []
          }
        }
      ]
    },
    {
      "cell_type": "markdown",
      "metadata": {
        "id": "ZUt_f9wVN9vs",
        "colab_type": "text"
      },
      "source": [
        "Normal probability plot also shows the data set is far from normally distributed."
      ]
    },
    {
      "cell_type": "markdown",
      "metadata": {
        "id": "z1X7n_N6yfa6",
        "colab_type": "text"
      },
      "source": [
        "**MULTI-STEP LSTM**"
      ]
    },
    {
      "cell_type": "code",
      "metadata": {
        "id": "416IaoWADuUJ",
        "colab_type": "code",
        "colab": {}
      },
      "source": [
        "from sklearn.preprocessing import MinMaxScaler"
      ],
      "execution_count": 0,
      "outputs": []
    },
    {
      "cell_type": "markdown",
      "metadata": {
        "id": "OAHDexHH5QQF",
        "colab_type": "text"
      },
      "source": [
        "LSTM multi-step encoder -decoder step_in 96, setp out 5 couche 100  normalisé"
      ]
    },
    {
      "cell_type": "code",
      "metadata": {
        "id": "hSRgZckBSU8z",
        "colab_type": "code",
        "colab": {}
      },
      "source": [
        ""
      ],
      "execution_count": 0,
      "outputs": []
    },
    {
      "cell_type": "code",
      "metadata": {
        "id": "zDsY1FKAOtmo",
        "colab_type": "code",
        "outputId": "07fd9145-c4fc-4804-9ede-d83998d7a427",
        "colab": {
          "base_uri": "https://localhost:8080/",
          "height": 829
        }
      },
      "source": [
        "from numpy import array\n",
        "from keras.models import Sequential\n",
        "from keras.layers import LSTM\n",
        "from keras.layers import Dense\n",
        "from keras.layers import RepeatVector\n",
        "from keras.layers import TimeDistributed\n",
        "# split a univariate sequence into samples\n",
        "def split_sequence(sequence, n_steps_in, n_steps_out):\n",
        "  X, y = list(), list()\n",
        "  for i in range(len(sequence)):\n",
        "    # find the end of this pattern\n",
        "    end_ix = i + n_steps_in\n",
        "    out_end_ix = end_ix + n_steps_out\n",
        "    # check if we are beyond the sequence\n",
        "    if out_end_ix > len(sequence):\n",
        "      break\n",
        "  # gather input and output parts of the pattern\n",
        "    seq_x, seq_y = sequence[i:end_ix], sequence[end_ix:out_end_ix]\n",
        "    X.append(seq_x)\n",
        "    y.append(seq_y)\n",
        "  return array(X), array(y)\n",
        "scaler = MinMaxScaler(feature_range=(-1, 1))\n",
        "raw_seq = df3.TOTALFD.to_numpy()\n",
        "#normalisation\n",
        "raw_seq_scaled = scaler.fit_transform(raw_seq.reshape(-1,1))\n",
        "#raw_seq_scaled = scaled_values.reshape(1,len(raw_seq_scaled)  )\n",
        "# choose a number of time steps\n",
        "\n",
        "n_steps_in, n_steps_out = nsteps_in, nsteps_out\n",
        "\n",
        "X, y = split_sequence(raw_seq_scaled, n_steps_in, n_steps_out)\n",
        "X=X.reshape(X.shape[0],X.shape[1])\n",
        "y= y.reshape(y.shape[0],y.shape[1])\n",
        "# reshape from [samples, timesteps] into [samples, timesteps, features]\n",
        "n_features = 1\n",
        "X = X.reshape((X.shape[0], X.shape[1], n_features))\n",
        "y = y.reshape((y.shape[0], y.shape[1], n_features))\n",
        "# define model\n",
        "model = Sequential()\n",
        "model.add(LSTM(100, activation='relu', input_shape=(n_steps_in, n_features)))\n",
        "model.add(RepeatVector(n_steps_out))\n",
        "#model.add(LSTM(100, activation='relu', return_sequences=True))\n",
        "model.add(LSTM(100, activation='relu', return_sequences=True))\n",
        "model.add(TimeDistributed(Dense(1)))\n",
        "model.compile(optimizer='adam', loss='mse')\n",
        "\n",
        "# fit model\n",
        "model.fit(X, y, epochs=epok) # verbose=0)\n",
        "# demonstrate prediction\n",
        "#x_input = array(raw_seq[-n_steps_in:])\n",
        "# Normalisation du \"Test\"\n",
        "X_input_scal=scaler.transform(array(raw_seq[-n_steps_in:]).reshape(-1,1))\n",
        "X_input_scal.reshape(X_input_scal.shape[0],)\n",
        "X_input_scal = X_input_scal.reshape((1, n_steps_in, n_features))\n",
        "#x_input = x_input.reshape((1, n_steps_in, n_features))\n",
        "yhat = model.predict(X_input_scal, verbose=0)\n",
        "yhat=scaler.inverse_transform(yhat.reshape(yhat.shape[0],yhat.shape[1]))\n",
        "elapsed = timeit.default_timer() - start_time\n",
        "print(yhat)"
      ],
      "execution_count": 13,
      "outputs": [
        {
          "output_type": "stream",
          "text": [
            "Using TensorFlow backend.\n"
          ],
          "name": "stderr"
        },
        {
          "output_type": "display_data",
          "data": {
            "text/html": [
              "<p style=\"color: red;\">\n",
              "The default version of TensorFlow in Colab will soon switch to TensorFlow 2.x.<br>\n",
              "We recommend you <a href=\"https://www.tensorflow.org/guide/migrate\" target=\"_blank\">upgrade</a> now \n",
              "or ensure your notebook will continue to use TensorFlow 1.x via the <code>%tensorflow_version 1.x</code> magic:\n",
              "<a href=\"https://colab.research.google.com/notebooks/tensorflow_version.ipynb\" target=\"_blank\">more info</a>.</p>\n"
            ],
            "text/plain": [
              "<IPython.core.display.HTML object>"
            ]
          },
          "metadata": {
            "tags": []
          }
        },
        {
          "output_type": "stream",
          "text": [
            "WARNING:tensorflow:From /usr/local/lib/python3.6/dist-packages/keras/backend/tensorflow_backend.py:66: The name tf.get_default_graph is deprecated. Please use tf.compat.v1.get_default_graph instead.\n",
            "\n",
            "WARNING:tensorflow:From /usr/local/lib/python3.6/dist-packages/keras/backend/tensorflow_backend.py:541: The name tf.placeholder is deprecated. Please use tf.compat.v1.placeholder instead.\n",
            "\n",
            "WARNING:tensorflow:From /usr/local/lib/python3.6/dist-packages/keras/backend/tensorflow_backend.py:4432: The name tf.random_uniform is deprecated. Please use tf.random.uniform instead.\n",
            "\n",
            "WARNING:tensorflow:From /usr/local/lib/python3.6/dist-packages/keras/optimizers.py:793: The name tf.train.Optimizer is deprecated. Please use tf.compat.v1.train.Optimizer instead.\n",
            "\n",
            "WARNING:tensorflow:From /usr/local/lib/python3.6/dist-packages/tensorflow_core/python/ops/math_grad.py:1424: where (from tensorflow.python.ops.array_ops) is deprecated and will be removed in a future version.\n",
            "Instructions for updating:\n",
            "Use tf.where in 2.0, which has the same broadcast rule as np.where\n",
            "WARNING:tensorflow:From /usr/local/lib/python3.6/dist-packages/keras/backend/tensorflow_backend.py:1033: The name tf.assign_add is deprecated. Please use tf.compat.v1.assign_add instead.\n",
            "\n",
            "WARNING:tensorflow:From /usr/local/lib/python3.6/dist-packages/keras/backend/tensorflow_backend.py:1020: The name tf.assign is deprecated. Please use tf.compat.v1.assign instead.\n",
            "\n",
            "WARNING:tensorflow:From /usr/local/lib/python3.6/dist-packages/keras/backend/tensorflow_backend.py:3005: The name tf.Session is deprecated. Please use tf.compat.v1.Session instead.\n",
            "\n",
            "Epoch 1/5\n",
            "WARNING:tensorflow:From /usr/local/lib/python3.6/dist-packages/keras/backend/tensorflow_backend.py:190: The name tf.get_default_session is deprecated. Please use tf.compat.v1.get_default_session instead.\n",
            "\n",
            "WARNING:tensorflow:From /usr/local/lib/python3.6/dist-packages/keras/backend/tensorflow_backend.py:197: The name tf.ConfigProto is deprecated. Please use tf.compat.v1.ConfigProto instead.\n",
            "\n",
            "WARNING:tensorflow:From /usr/local/lib/python3.6/dist-packages/keras/backend/tensorflow_backend.py:207: The name tf.global_variables is deprecated. Please use tf.compat.v1.global_variables instead.\n",
            "\n",
            "WARNING:tensorflow:From /usr/local/lib/python3.6/dist-packages/keras/backend/tensorflow_backend.py:216: The name tf.is_variable_initialized is deprecated. Please use tf.compat.v1.is_variable_initialized instead.\n",
            "\n",
            "WARNING:tensorflow:From /usr/local/lib/python3.6/dist-packages/keras/backend/tensorflow_backend.py:223: The name tf.variables_initializer is deprecated. Please use tf.compat.v1.variables_initializer instead.\n",
            "\n",
            "13791/13791 [==============================] - 90s 7ms/step - loss: 0.0480\n",
            "Epoch 2/5\n",
            "13791/13791 [==============================] - 80s 6ms/step - loss: 0.0297\n",
            "Epoch 3/5\n",
            "13791/13791 [==============================] - 81s 6ms/step - loss: 0.0291\n",
            "Epoch 4/5\n",
            "13791/13791 [==============================] - 82s 6ms/step - loss: 0.0284\n",
            "Epoch 5/5\n",
            "13791/13791 [==============================] - 81s 6ms/step - loss: 0.0282\n",
            "[[-0.42705417 -0.02646965 -0.01246566 -0.01240307  0.03201091  0.10950851\n",
            "   0.20055073  0.2974584   0.38885486  0.47126913  0.55881536  0.64823663\n",
            "   0.7353022   0.8161669   0.8898243   0.9524542   1.0056126   1.0511494\n",
            "   1.090186    1.1236951   1.1525142   1.1773642   1.1988609   1.2175262\n",
            "   1.2338083   1.2480751   1.2606385   1.2717597   1.281647    1.2904863 ]]\n"
          ],
          "name": "stdout"
        }
      ]
    },
    {
      "cell_type": "markdown",
      "metadata": {
        "id": "XIbSUg5QHAi6",
        "colab_type": "text"
      },
      "source": [
        "**Visualisation predictions**"
      ]
    },
    {
      "cell_type": "code",
      "metadata": {
        "id": "KrWckH63u4Gu",
        "colab_type": "code",
        "outputId": "26c7e085-88ab-4ed5-9b83-3b3af2338d20",
        "colab": {
          "base_uri": "https://localhost:8080/",
          "height": 969
        }
      },
      "source": [
        "\n",
        "\n",
        "dfres=df2.tail(n_steps_out*3)\n",
        "dfres[\"pred\"]=0.0\n",
        "dfres = dfres.reset_index()\n",
        "#lastindex=dfres.tail(1).index.start\n",
        "yhat2=pd.DataFrame(yhat.reshape(n_steps_out,1))\n",
        "for ind in range(len(dfres)-1, -len(yhat2) + len(dfres)-1 , -1):\n",
        "   dfres[\"pred\"][ind]=yhat2.iloc[ind-len(dfres)]\n",
        "dfres.tail(n_steps_out)\n",
        "\n"
      ],
      "execution_count": 14,
      "outputs": [
        {
          "output_type": "execute_result",
          "data": {
            "text/html": [
              "<div>\n",
              "<style scoped>\n",
              "    .dataframe tbody tr th:only-of-type {\n",
              "        vertical-align: middle;\n",
              "    }\n",
              "\n",
              "    .dataframe tbody tr th {\n",
              "        vertical-align: top;\n",
              "    }\n",
              "\n",
              "    .dataframe thead th {\n",
              "        text-align: right;\n",
              "    }\n",
              "</style>\n",
              "<table border=\"1\" class=\"dataframe\">\n",
              "  <thead>\n",
              "    <tr style=\"text-align: right;\">\n",
              "      <th></th>\n",
              "      <th>index</th>\n",
              "      <th>datenew</th>\n",
              "      <th>TOTALFD</th>\n",
              "      <th>pred</th>\n",
              "    </tr>\n",
              "  </thead>\n",
              "  <tbody>\n",
              "    <tr>\n",
              "      <th>60</th>\n",
              "      <td>13910</td>\n",
              "      <td>2020-01-29 09:30:00</td>\n",
              "      <td>1</td>\n",
              "      <td>-0.4271</td>\n",
              "    </tr>\n",
              "    <tr>\n",
              "      <th>61</th>\n",
              "      <td>13911</td>\n",
              "      <td>2020-01-29 09:31:00</td>\n",
              "      <td>1</td>\n",
              "      <td>-0.0265</td>\n",
              "    </tr>\n",
              "    <tr>\n",
              "      <th>62</th>\n",
              "      <td>13912</td>\n",
              "      <td>2020-01-29 09:32:00</td>\n",
              "      <td>0</td>\n",
              "      <td>-0.0125</td>\n",
              "    </tr>\n",
              "    <tr>\n",
              "      <th>63</th>\n",
              "      <td>13913</td>\n",
              "      <td>2020-01-29 09:33:00</td>\n",
              "      <td>0</td>\n",
              "      <td>-0.0124</td>\n",
              "    </tr>\n",
              "    <tr>\n",
              "      <th>64</th>\n",
              "      <td>13914</td>\n",
              "      <td>2020-01-29 09:34:00</td>\n",
              "      <td>0</td>\n",
              "      <td>0.0320</td>\n",
              "    </tr>\n",
              "    <tr>\n",
              "      <th>65</th>\n",
              "      <td>13915</td>\n",
              "      <td>2020-01-29 09:35:00</td>\n",
              "      <td>0</td>\n",
              "      <td>0.1095</td>\n",
              "    </tr>\n",
              "    <tr>\n",
              "      <th>66</th>\n",
              "      <td>13916</td>\n",
              "      <td>2020-01-29 09:36:00</td>\n",
              "      <td>0</td>\n",
              "      <td>0.2006</td>\n",
              "    </tr>\n",
              "    <tr>\n",
              "      <th>67</th>\n",
              "      <td>13917</td>\n",
              "      <td>2020-01-29 09:37:00</td>\n",
              "      <td>0</td>\n",
              "      <td>0.2975</td>\n",
              "    </tr>\n",
              "    <tr>\n",
              "      <th>68</th>\n",
              "      <td>13918</td>\n",
              "      <td>2020-01-29 09:38:00</td>\n",
              "      <td>0</td>\n",
              "      <td>0.3889</td>\n",
              "    </tr>\n",
              "    <tr>\n",
              "      <th>69</th>\n",
              "      <td>13919</td>\n",
              "      <td>2020-01-29 09:39:00</td>\n",
              "      <td>0</td>\n",
              "      <td>0.4713</td>\n",
              "    </tr>\n",
              "    <tr>\n",
              "      <th>70</th>\n",
              "      <td>13920</td>\n",
              "      <td>2020-01-29 09:40:00</td>\n",
              "      <td>0</td>\n",
              "      <td>0.5588</td>\n",
              "    </tr>\n",
              "    <tr>\n",
              "      <th>71</th>\n",
              "      <td>13921</td>\n",
              "      <td>2020-01-29 09:41:00</td>\n",
              "      <td>0</td>\n",
              "      <td>0.6482</td>\n",
              "    </tr>\n",
              "    <tr>\n",
              "      <th>72</th>\n",
              "      <td>13922</td>\n",
              "      <td>2020-01-29 09:42:00</td>\n",
              "      <td>0</td>\n",
              "      <td>0.7353</td>\n",
              "    </tr>\n",
              "    <tr>\n",
              "      <th>73</th>\n",
              "      <td>13923</td>\n",
              "      <td>2020-01-29 09:43:00</td>\n",
              "      <td>0</td>\n",
              "      <td>0.8162</td>\n",
              "    </tr>\n",
              "    <tr>\n",
              "      <th>74</th>\n",
              "      <td>13924</td>\n",
              "      <td>2020-01-29 09:44:00</td>\n",
              "      <td>0</td>\n",
              "      <td>0.8898</td>\n",
              "    </tr>\n",
              "    <tr>\n",
              "      <th>75</th>\n",
              "      <td>13925</td>\n",
              "      <td>2020-01-29 09:45:00</td>\n",
              "      <td>0</td>\n",
              "      <td>0.9525</td>\n",
              "    </tr>\n",
              "    <tr>\n",
              "      <th>76</th>\n",
              "      <td>13926</td>\n",
              "      <td>2020-01-29 09:46:00</td>\n",
              "      <td>0</td>\n",
              "      <td>1.0056</td>\n",
              "    </tr>\n",
              "    <tr>\n",
              "      <th>77</th>\n",
              "      <td>13927</td>\n",
              "      <td>2020-01-29 09:47:00</td>\n",
              "      <td>0</td>\n",
              "      <td>1.0511</td>\n",
              "    </tr>\n",
              "    <tr>\n",
              "      <th>78</th>\n",
              "      <td>13928</td>\n",
              "      <td>2020-01-29 09:48:00</td>\n",
              "      <td>1</td>\n",
              "      <td>1.0902</td>\n",
              "    </tr>\n",
              "    <tr>\n",
              "      <th>79</th>\n",
              "      <td>13929</td>\n",
              "      <td>2020-01-29 09:49:00</td>\n",
              "      <td>1</td>\n",
              "      <td>1.1237</td>\n",
              "    </tr>\n",
              "    <tr>\n",
              "      <th>80</th>\n",
              "      <td>13930</td>\n",
              "      <td>2020-01-29 09:50:00</td>\n",
              "      <td>0</td>\n",
              "      <td>1.1525</td>\n",
              "    </tr>\n",
              "    <tr>\n",
              "      <th>81</th>\n",
              "      <td>13931</td>\n",
              "      <td>2020-01-29 09:51:00</td>\n",
              "      <td>0</td>\n",
              "      <td>1.1774</td>\n",
              "    </tr>\n",
              "    <tr>\n",
              "      <th>82</th>\n",
              "      <td>13932</td>\n",
              "      <td>2020-01-29 09:52:00</td>\n",
              "      <td>0</td>\n",
              "      <td>1.1989</td>\n",
              "    </tr>\n",
              "    <tr>\n",
              "      <th>83</th>\n",
              "      <td>13933</td>\n",
              "      <td>2020-01-29 09:53:00</td>\n",
              "      <td>0</td>\n",
              "      <td>1.2175</td>\n",
              "    </tr>\n",
              "    <tr>\n",
              "      <th>84</th>\n",
              "      <td>13934</td>\n",
              "      <td>2020-01-29 09:54:00</td>\n",
              "      <td>0</td>\n",
              "      <td>1.2338</td>\n",
              "    </tr>\n",
              "    <tr>\n",
              "      <th>85</th>\n",
              "      <td>13935</td>\n",
              "      <td>2020-01-29 09:55:00</td>\n",
              "      <td>0</td>\n",
              "      <td>1.2481</td>\n",
              "    </tr>\n",
              "    <tr>\n",
              "      <th>86</th>\n",
              "      <td>13936</td>\n",
              "      <td>2020-01-29 09:56:00</td>\n",
              "      <td>0</td>\n",
              "      <td>1.2606</td>\n",
              "    </tr>\n",
              "    <tr>\n",
              "      <th>87</th>\n",
              "      <td>13937</td>\n",
              "      <td>2020-01-29 09:57:00</td>\n",
              "      <td>0</td>\n",
              "      <td>1.2718</td>\n",
              "    </tr>\n",
              "    <tr>\n",
              "      <th>88</th>\n",
              "      <td>13938</td>\n",
              "      <td>2020-01-29 09:58:00</td>\n",
              "      <td>0</td>\n",
              "      <td>1.2816</td>\n",
              "    </tr>\n",
              "    <tr>\n",
              "      <th>89</th>\n",
              "      <td>13939</td>\n",
              "      <td>2020-01-29 09:59:00</td>\n",
              "      <td>0</td>\n",
              "      <td>1.2905</td>\n",
              "    </tr>\n",
              "  </tbody>\n",
              "</table>\n",
              "</div>"
            ],
            "text/plain": [
              "    index              datenew  TOTALFD    pred\n",
              "60  13910  2020-01-29 09:30:00        1 -0.4271\n",
              "61  13911  2020-01-29 09:31:00        1 -0.0265\n",
              "62  13912  2020-01-29 09:32:00        0 -0.0125\n",
              "63  13913  2020-01-29 09:33:00        0 -0.0124\n",
              "64  13914  2020-01-29 09:34:00        0  0.0320\n",
              "65  13915  2020-01-29 09:35:00        0  0.1095\n",
              "66  13916  2020-01-29 09:36:00        0  0.2006\n",
              "67  13917  2020-01-29 09:37:00        0  0.2975\n",
              "68  13918  2020-01-29 09:38:00        0  0.3889\n",
              "69  13919  2020-01-29 09:39:00        0  0.4713\n",
              "70  13920  2020-01-29 09:40:00        0  0.5588\n",
              "71  13921  2020-01-29 09:41:00        0  0.6482\n",
              "72  13922  2020-01-29 09:42:00        0  0.7353\n",
              "73  13923  2020-01-29 09:43:00        0  0.8162\n",
              "74  13924  2020-01-29 09:44:00        0  0.8898\n",
              "75  13925  2020-01-29 09:45:00        0  0.9525\n",
              "76  13926  2020-01-29 09:46:00        0  1.0056\n",
              "77  13927  2020-01-29 09:47:00        0  1.0511\n",
              "78  13928  2020-01-29 09:48:00        1  1.0902\n",
              "79  13929  2020-01-29 09:49:00        1  1.1237\n",
              "80  13930  2020-01-29 09:50:00        0  1.1525\n",
              "81  13931  2020-01-29 09:51:00        0  1.1774\n",
              "82  13932  2020-01-29 09:52:00        0  1.1989\n",
              "83  13933  2020-01-29 09:53:00        0  1.2175\n",
              "84  13934  2020-01-29 09:54:00        0  1.2338\n",
              "85  13935  2020-01-29 09:55:00        0  1.2481\n",
              "86  13936  2020-01-29 09:56:00        0  1.2606\n",
              "87  13937  2020-01-29 09:57:00        0  1.2718\n",
              "88  13938  2020-01-29 09:58:00        0  1.2816\n",
              "89  13939  2020-01-29 09:59:00        0  1.2905"
            ]
          },
          "metadata": {
            "tags": []
          },
          "execution_count": 14
        }
      ]
    },
    {
      "cell_type": "code",
      "metadata": {
        "id": "Ri77xMl90bvK",
        "colab_type": "code",
        "colab": {
          "base_uri": "https://localhost:8080/",
          "height": 138
        },
        "outputId": "d98d6b30-705d-4ac7-aa23-d8509af351e6"
      },
      "source": [
        "from math import sqrt\n",
        "from sklearn.metrics import mean_squared_error\n",
        "def measure_rmse(actual, predicted):\n",
        "    return sqrt(mean_squared_error(actual, predicted))\n",
        "msedf=dfres.tail(n_steps_out)\n",
        "\n",
        "print(\"RMSE \",measure_rmse(msedf.TOTALFD,msedf.pred))\n",
        "print(\"RMSE prédictions arrondies \", measure_rmse(msedf.TOTALFD,round(msedf.pred)))\n",
        "print(\"nb epoch\", epok)\n",
        "print(\"nb stepIN\", nsteps_in)\n",
        "print(\"nb stepOUT\", nsteps_out)\n",
        "print(\"Tranche horaire entre \",heurefin,\"h\",nsteps_out,\" et \" ,heurefin,\"h\",nsteps_out,\" + \", nsteps_out, \" min\")\n",
        "print(\"temps d'execution \" , int(elapsed/60), \"min\", int((round(elapsed/60,2,)-(int(elapsed/60)))*60), \"s\")"
      ],
      "execution_count": 15,
      "outputs": [
        {
          "output_type": "stream",
          "text": [
            "RMSE  0.9057583004270776\n",
            "RMSE prédictions arrondies  0.816496580927726\n",
            "nb epoch 5\n",
            "nb stepIN 90\n",
            "nb stepOUT 30\n",
            "Tranche horaire entre  9 h 30  et  9 h 30  +  30  min\n",
            "temps d'execution  6 min 58 s\n"
          ],
          "name": "stdout"
        }
      ]
    },
    {
      "cell_type": "code",
      "metadata": {
        "id": "VypHhZH8H_cv",
        "colab_type": "code",
        "outputId": "a3d091f5-38e9-42a4-88dc-95ebb40850f5",
        "colab": {
          "base_uri": "https://localhost:8080/",
          "height": 266
        }
      },
      "source": [
        "\n",
        "import matplotlib.pyplot as plt\n",
        "dfres['pred'].tail(n_steps_out).plot()\n",
        "dfres['TOTALFD'].plot()\n",
        "\n",
        "\n",
        "# code you want to evaluate\n",
        "elapsed = timeit.default_timer() - start_time\n"
      ],
      "execution_count": 16,
      "outputs": [
        {
          "output_type": "display_data",
          "data": {
            "image/png": "[encoded data removed]",
            "text/plain": [
              "<Figure size 432x288 with 1 Axes>"
            ]
          },
          "metadata": {
            "tags": []
          }
        }
      ]
    },
    {
      "cell_type": "code",
      "metadata": {
        "id": "ix-YSkvlBweY",
        "colab_type": "code",
        "colab": {}
      },
      "source": [
        ""
      ],
      "execution_count": 0,
      "outputs": []
    }
  ]
}