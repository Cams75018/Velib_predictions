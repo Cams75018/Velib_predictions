{
  "nbformat": 4,
  "nbformat_minor": 0,
  "metadata": {
    "colab": {
      "name": "LTSM export_pretrained.ipynb",
      "provenance": [],
      "authorship_tag": "ABX9TyOR/Yaid5vLXQ/2Kt1z/eiL",
      "include_colab_link": true
    },
    "kernelspec": {
      "name": "python3",
      "display_name": "Python 3"
    }
  },
  "cells": [
    {
      "cell_type": "markdown",
      "metadata": {
        "id": "view-in-github",
        "colab_type": "text"
      },
      "source": [
        "<a href=\"https://colab.research.google.com/github/Cams75018/Velib_predictions/blob/master/LTSM_export_pretrained.ipynb\" target=\"_parent\"><img src=\"https://colab.research.google.com/assets/colab-badge.svg\" alt=\"Open In Colab\"/></a>"
      ]
    },
    {
      "cell_type": "code",
      "metadata": {
        "id": "1p0ulKoMOJTc",
        "colab_type": "code",
        "colab": {}
      },
      "source": [
        "from keras.models import load_model\n",
        "model1=load_model(\"modelLSTM.h5\")"
      ],
      "execution_count": 0,
      "outputs": []
    },
    {
      "cell_type": "code",
      "metadata": {
        "id": "Kw5WADYLAzlu",
        "colab_type": "code",
        "colab": {}
      },
      "source": [
        "heure = input(\"entrer l'heure de départ (format HHhMM)\")\n",
        "heure"
      ],
      "execution_count": 0,
      "outputs": []
    },
    {
      "cell_type": "code",
      "metadata": {
        "id": "qRBe9hf0z98h",
        "colab_type": "code",
        "colab": {
          "base_uri": "https://localhost:8080/",
          "height": 33
        },
        "outputId": "cf1317ca-f55c-47ba-ae1d-bb12a62d22fe"
      },
      "source": [
        "heur=int(heure.split(\"h\")[0])\n",
        "minu=int(heure.split(\"h\")[1])\n",
        "heur, minu"
      ],
      "execution_count": 59,
      "outputs": [
        {
          "output_type": "execute_result",
          "data": {
            "text/plain": [
              "(13, 30)"
            ]
          },
          "metadata": {
            "tags": []
          },
          "execution_count": 59
        }
      ]
    },
    {
      "cell_type": "code",
      "metadata": {
        "id": "0UPYFaoCBDCq",
        "colab_type": "code",
        "colab": {}
      },
      "source": [
        "import numpy as np\n",
        "import matplotlib.pyplot as plt\n",
        "import pandas as pd\n",
        "pd.set_option('display.float_format', lambda x: '%.4f' % x)\n",
        "import seaborn as sns\n",
        "sns.set_context(\"paper\", font_scale=1.3)\n",
        "sns.set_style('white')\n",
        "import warnings\n",
        "warnings.filterwarnings('ignore')\n",
        "from time import time\n",
        "import matplotlib.ticker as tkr\n",
        "from scipy import stats\n",
        "from statsmodels.tsa.stattools import adfuller\n",
        "from sklearn import preprocessing\n",
        "from statsmodels.tsa.stattools import pacf\n",
        "import datetime"
      ],
      "execution_count": 0,
      "outputs": []
    },
    {
      "cell_type": "code",
      "metadata": {
        "id": "3dYFNWj8BLUr",
        "colab_type": "code",
        "colab": {}
      },
      "source": [
        ""
      ],
      "execution_count": 0,
      "outputs": []
    },
    {
      "cell_type": "code",
      "metadata": {
        "id": "fnFIGJbmBTtA",
        "colab_type": "code",
        "colab": {}
      },
      "source": [
        "import timeit\n",
        "start_time = timeit.default_timer()"
      ],
      "execution_count": 0,
      "outputs": []
    },
    {
      "cell_type": "code",
      "metadata": {
        "id": "tBYGqy23BdBi",
        "colab_type": "code",
        "colab": {}
      },
      "source": [
        "heurefin=9   # heure de test de la journée et donc cut du dataset au dernier jour à cette heure\n",
        "minute=15\n",
        "#heuredebut=datetime.datetime(2020,1,28,15,30,0)\n",
        "heuredebut=datetime.datetime(2020,1,28,heur,minu,0)\n",
        "nsteps_in, nsteps_out = 30, 30\n",
        "nsteps_in2=60\n",
        "nsteps_in3=90\n",
        "epok =5"
      ],
      "execution_count": 0,
      "outputs": []
    },
    {
      "cell_type": "code",
      "metadata": {
        "id": "JlxrnmPeBg7O",
        "colab_type": "code",
        "colab": {
          "base_uri": "https://localhost:8080/",
          "height": 207
        },
        "outputId": "2810f977-83d6-4cd2-d0b5-a7164c494612"
      },
      "source": [
        "\n",
        "df=pd.read_csv(\"https://raw.githubusercontent.com/alexisgcomte/velib-prediction/master/3.%20Modeling%20Research/datasets/madeleine_weekday.csv\")\n",
        "print('Number of rows and columns:', df.shape)\n",
        "df.head(5)"
      ],
      "execution_count": 63,
      "outputs": [
        {
          "output_type": "stream",
          "text": [
            "Number of rows and columns: (14800, 5)\n"
          ],
          "name": "stdout"
        },
        {
          "output_type": "execute_result",
          "data": {
            "text/html": [
              "<div>\n",
              "<style scoped>\n",
              "    .dataframe tbody tr th:only-of-type {\n",
              "        vertical-align: middle;\n",
              "    }\n",
              "\n",
              "    .dataframe tbody tr th {\n",
              "        vertical-align: top;\n",
              "    }\n",
              "\n",
              "    .dataframe thead th {\n",
              "        text-align: right;\n",
              "    }\n",
              "</style>\n",
              "<table border=\"1\" class=\"dataframe\">\n",
              "  <thead>\n",
              "    <tr style=\"text-align: right;\">\n",
              "      <th></th>\n",
              "      <th>Unnamed: 0</th>\n",
              "      <th>availiable_docks</th>\n",
              "      <th>date</th>\n",
              "      <th>weekday</th>\n",
              "      <th>hour</th>\n",
              "    </tr>\n",
              "  </thead>\n",
              "  <tbody>\n",
              "    <tr>\n",
              "      <th>0</th>\n",
              "      <td>0</td>\n",
              "      <td>8</td>\n",
              "      <td>2020-01-15 10:17:00</td>\n",
              "      <td>Wednesday</td>\n",
              "      <td>10</td>\n",
              "    </tr>\n",
              "    <tr>\n",
              "      <th>1</th>\n",
              "      <td>1</td>\n",
              "      <td>8</td>\n",
              "      <td>2020-01-15 10:18:00</td>\n",
              "      <td>Wednesday</td>\n",
              "      <td>10</td>\n",
              "    </tr>\n",
              "    <tr>\n",
              "      <th>2</th>\n",
              "      <td>2</td>\n",
              "      <td>7</td>\n",
              "      <td>2020-01-15 10:19:00</td>\n",
              "      <td>Wednesday</td>\n",
              "      <td>10</td>\n",
              "    </tr>\n",
              "    <tr>\n",
              "      <th>3</th>\n",
              "      <td>3</td>\n",
              "      <td>8</td>\n",
              "      <td>2020-01-15 10:20:00</td>\n",
              "      <td>Wednesday</td>\n",
              "      <td>10</td>\n",
              "    </tr>\n",
              "    <tr>\n",
              "      <th>4</th>\n",
              "      <td>4</td>\n",
              "      <td>8</td>\n",
              "      <td>2020-01-15 10:21:00</td>\n",
              "      <td>Wednesday</td>\n",
              "      <td>10</td>\n",
              "    </tr>\n",
              "  </tbody>\n",
              "</table>\n",
              "</div>"
            ],
            "text/plain": [
              "   Unnamed: 0  availiable_docks                 date    weekday  hour\n",
              "0           0                 8  2020-01-15 10:17:00  Wednesday    10\n",
              "1           1                 8  2020-01-15 10:18:00  Wednesday    10\n",
              "2           2                 7  2020-01-15 10:19:00  Wednesday    10\n",
              "3           3                 8  2020-01-15 10:20:00  Wednesday    10\n",
              "4           4                 8  2020-01-15 10:21:00  Wednesday    10"
            ]
          },
          "metadata": {
            "tags": []
          },
          "execution_count": 63
        }
      ]
    },
    {
      "cell_type": "code",
      "metadata": {
        "id": "rhIIFEh0Bl_T",
        "colab_type": "code",
        "colab": {}
      },
      "source": [
        "df['datedate'] = pd.to_datetime(df['date'])"
      ],
      "execution_count": 0,
      "outputs": []
    },
    {
      "cell_type": "code",
      "metadata": {
        "id": "ftgo8uvyBpRL",
        "colab_type": "code",
        "colab": {
          "base_uri": "https://localhost:8080/",
          "height": 191
        },
        "outputId": "16df2ecf-fc14-460f-9278-df0a29602ee6"
      },
      "source": [
        "# on repère l'index de la dernière minutes à prédire\n",
        "lastindex=df[df.datedate==heuredebut].index.max()\n",
        "dfx=df.iloc[0:lastindex+1,:]\n",
        "dfx.tail()"
      ],
      "execution_count": 65,
      "outputs": [
        {
          "output_type": "execute_result",
          "data": {
            "text/html": [
              "<div>\n",
              "<style scoped>\n",
              "    .dataframe tbody tr th:only-of-type {\n",
              "        vertical-align: middle;\n",
              "    }\n",
              "\n",
              "    .dataframe tbody tr th {\n",
              "        vertical-align: top;\n",
              "    }\n",
              "\n",
              "    .dataframe thead th {\n",
              "        text-align: right;\n",
              "    }\n",
              "</style>\n",
              "<table border=\"1\" class=\"dataframe\">\n",
              "  <thead>\n",
              "    <tr style=\"text-align: right;\">\n",
              "      <th></th>\n",
              "      <th>Unnamed: 0</th>\n",
              "      <th>availiable_docks</th>\n",
              "      <th>date</th>\n",
              "      <th>weekday</th>\n",
              "      <th>hour</th>\n",
              "      <th>datedate</th>\n",
              "    </tr>\n",
              "  </thead>\n",
              "  <tbody>\n",
              "    <tr>\n",
              "      <th>12746</th>\n",
              "      <td>12746</td>\n",
              "      <td>0</td>\n",
              "      <td>2020-01-28 13:26:00</td>\n",
              "      <td>Tuesday</td>\n",
              "      <td>13</td>\n",
              "      <td>2020-01-28 13:26:00</td>\n",
              "    </tr>\n",
              "    <tr>\n",
              "      <th>12747</th>\n",
              "      <td>12747</td>\n",
              "      <td>0</td>\n",
              "      <td>2020-01-28 13:27:00</td>\n",
              "      <td>Tuesday</td>\n",
              "      <td>13</td>\n",
              "      <td>2020-01-28 13:27:00</td>\n",
              "    </tr>\n",
              "    <tr>\n",
              "      <th>12748</th>\n",
              "      <td>12748</td>\n",
              "      <td>0</td>\n",
              "      <td>2020-01-28 13:28:00</td>\n",
              "      <td>Tuesday</td>\n",
              "      <td>13</td>\n",
              "      <td>2020-01-28 13:28:00</td>\n",
              "    </tr>\n",
              "    <tr>\n",
              "      <th>12749</th>\n",
              "      <td>12749</td>\n",
              "      <td>0</td>\n",
              "      <td>2020-01-28 13:29:00</td>\n",
              "      <td>Tuesday</td>\n",
              "      <td>13</td>\n",
              "      <td>2020-01-28 13:29:00</td>\n",
              "    </tr>\n",
              "    <tr>\n",
              "      <th>12750</th>\n",
              "      <td>12750</td>\n",
              "      <td>0</td>\n",
              "      <td>2020-01-28 13:30:00</td>\n",
              "      <td>Tuesday</td>\n",
              "      <td>13</td>\n",
              "      <td>2020-01-28 13:30:00</td>\n",
              "    </tr>\n",
              "  </tbody>\n",
              "</table>\n",
              "</div>"
            ],
            "text/plain": [
              "       Unnamed: 0  availiable_docks  ... hour            datedate\n",
              "12746       12746                 0  ...   13 2020-01-28 13:26:00\n",
              "12747       12747                 0  ...   13 2020-01-28 13:27:00\n",
              "12748       12748                 0  ...   13 2020-01-28 13:28:00\n",
              "12749       12749                 0  ...   13 2020-01-28 13:29:00\n",
              "12750       12750                 0  ...   13 2020-01-28 13:30:00\n",
              "\n",
              "[5 rows x 6 columns]"
            ]
          },
          "metadata": {
            "tags": []
          },
          "execution_count": 65
        }
      ]
    },
    {
      "cell_type": "code",
      "metadata": {
        "id": "2nXI_UsbB19Q",
        "colab_type": "code",
        "colab": {}
      },
      "source": [
        ""
      ],
      "execution_count": 0,
      "outputs": []
    },
    {
      "cell_type": "code",
      "metadata": {
        "id": "LGPAk3MJSwYU",
        "colab_type": "code",
        "colab": {}
      },
      "source": [
        "#dfx=df[(df.hour==heurefin-1) | (df.hour== heurefin)]\n",
        "#lastindex=dfx.index.max()\n",
        "for i in range(lastindex,lastindex +1+ nsteps_out,1):\n",
        "  dfx.loc[i]=df.iloc[i,:]\n",
        "dfx.reset_index(inplace=True)\n"
      ],
      "execution_count": 0,
      "outputs": []
    },
    {
      "cell_type": "code",
      "metadata": {
        "id": "ksEk5Y-lrXj7",
        "colab_type": "code",
        "outputId": "75ec8fa1-9383-400a-c2c3-098a0b08dc68",
        "colab": {
          "base_uri": "https://localhost:8080/",
          "height": 66
        }
      },
      "source": [
        "df2=dfx.loc[:dfx.index.max(),['date','availiable_docks']]\n",
        "#df3.sort_values('datenew', inplace=True, ascending=True)\n",
        "#df3 = df3.reset_index(drop=True)\n",
        "print('Number of rows and columns:',dfx.shape)\n",
        "print(df2.date.min())\n",
        "print(df2.date.max())\n",
        "df2.columns=[\"datenew\",\"TOTALFD\"]\n"
      ],
      "execution_count": 67,
      "outputs": [
        {
          "output_type": "stream",
          "text": [
            "Number of rows and columns: (12781, 7)\n",
            "2020-01-15 10:17:00\n",
            "2020-01-28 14:00:00\n"
          ],
          "name": "stdout"
        }
      ]
    },
    {
      "cell_type": "code",
      "metadata": {
        "id": "EkE6-7iVsFSK",
        "colab_type": "code",
        "outputId": "1c397c9a-b16a-4f11-e546-115d7be1fba2",
        "colab": {
          "base_uri": "https://localhost:8080/",
          "height": 191
        }
      },
      "source": [
        "df3=df2.loc[:len(df2)-1-nsteps_out,[\"datenew\",\"TOTALFD\"]]\n",
        "df3.tail()"
      ],
      "execution_count": 68,
      "outputs": [
        {
          "output_type": "execute_result",
          "data": {
            "text/html": [
              "<div>\n",
              "<style scoped>\n",
              "    .dataframe tbody tr th:only-of-type {\n",
              "        vertical-align: middle;\n",
              "    }\n",
              "\n",
              "    .dataframe tbody tr th {\n",
              "        vertical-align: top;\n",
              "    }\n",
              "\n",
              "    .dataframe thead th {\n",
              "        text-align: right;\n",
              "    }\n",
              "</style>\n",
              "<table border=\"1\" class=\"dataframe\">\n",
              "  <thead>\n",
              "    <tr style=\"text-align: right;\">\n",
              "      <th></th>\n",
              "      <th>datenew</th>\n",
              "      <th>TOTALFD</th>\n",
              "    </tr>\n",
              "  </thead>\n",
              "  <tbody>\n",
              "    <tr>\n",
              "      <th>12746</th>\n",
              "      <td>2020-01-28 13:26:00</td>\n",
              "      <td>0</td>\n",
              "    </tr>\n",
              "    <tr>\n",
              "      <th>12747</th>\n",
              "      <td>2020-01-28 13:27:00</td>\n",
              "      <td>0</td>\n",
              "    </tr>\n",
              "    <tr>\n",
              "      <th>12748</th>\n",
              "      <td>2020-01-28 13:28:00</td>\n",
              "      <td>0</td>\n",
              "    </tr>\n",
              "    <tr>\n",
              "      <th>12749</th>\n",
              "      <td>2020-01-28 13:29:00</td>\n",
              "      <td>0</td>\n",
              "    </tr>\n",
              "    <tr>\n",
              "      <th>12750</th>\n",
              "      <td>2020-01-28 13:30:00</td>\n",
              "      <td>0</td>\n",
              "    </tr>\n",
              "  </tbody>\n",
              "</table>\n",
              "</div>"
            ],
            "text/plain": [
              "                   datenew  TOTALFD\n",
              "12746  2020-01-28 13:26:00        0\n",
              "12747  2020-01-28 13:27:00        0\n",
              "12748  2020-01-28 13:28:00        0\n",
              "12749  2020-01-28 13:29:00        0\n",
              "12750  2020-01-28 13:30:00        0"
            ]
          },
          "metadata": {
            "tags": []
          },
          "execution_count": 68
        }
      ]
    },
    {
      "cell_type": "code",
      "metadata": {
        "id": "02iRiGCMN9vR",
        "colab_type": "code",
        "outputId": "b24a76e9-9033-4db1-d4a6-85760dcca04a",
        "colab": {
          "base_uri": "https://localhost:8080/",
          "height": 380
        }
      },
      "source": [
        "df4=df3.loc[:,['datenew','TOTALFD']]\n",
        "df5=df3.loc[:,['datenew','TOTALFD']]\n",
        "df4.set_index('datenew',inplace=True)\n",
        "df4.plot(figsize=(12,5))\n",
        "plt.ylabel('TOTALFD')\n",
        "plt.legend().set_visible(False)\n",
        "plt.tight_layout()\n",
        "plt.title('TOTALFD Time Series')\n",
        "sns.despine(top=True)\n",
        "plt.show();"
      ],
      "execution_count": 69,
      "outputs": [
        {
          "output_type": "display_data",
          "data": {
            "image/png": "[encoded data removed]",
            "text/plain": [
              "<Figure size 864x360 with 1 Axes>"
            ]
          },
          "metadata": {
            "tags": []
          }
        }
      ]
    },
    {
      "cell_type": "code",
      "metadata": {
        "id": "416IaoWADuUJ",
        "colab_type": "code",
        "colab": {}
      },
      "source": [
        "from sklearn.preprocessing import MinMaxScaler"
      ],
      "execution_count": 0,
      "outputs": []
    },
    {
      "cell_type": "code",
      "metadata": {
        "id": "6hOXBFteCOl6",
        "colab_type": "code",
        "colab": {}
      },
      "source": [
        "from numpy import array\n",
        "scaler = MinMaxScaler(feature_range=(-1, 1))\n",
        "raw_seq = df3.TOTALFD.to_numpy()\n",
        "#normalisation\n",
        "raw_seq_scaled = scaler.fit_transform(raw_seq.reshape(-1,1))"
      ],
      "execution_count": 0,
      "outputs": []
    },
    {
      "cell_type": "code",
      "metadata": {
        "id": "_5onqk12CPDX",
        "colab_type": "code",
        "colab": {
          "base_uri": "https://localhost:8080/",
          "height": 1000
        },
        "outputId": "daa6fdf0-55fc-4b77-8472-94f4d5354ebb"
      },
      "source": [
        "\n",
        "heurefin=9   # heure de test de la journée et donc cut du dataset au dernier jour à cette heure\n",
        "minute=15\n",
        "heuredebutt=heuredebut #datetime.datetime(2020,1,29,8,30,0)\n",
        "nsteps_in, nsteps_out = 30, 30\n",
        "nsteps_in2= 60\n",
        "nsteps_in3= 90\n",
        "epok =2\n",
        "\n",
        "n_steps_in=nsteps_in2\n",
        "n_steps_out= nsteps_out\n",
        "\n",
        "lastindexx=df[df.datedate==heuredebutt].index.max()\n",
        "dfxx=df.iloc[0:lastindexx+1,:]\n",
        "dfxx.tail()\n",
        "\n",
        "for i in range(lastindexx,lastindexx +1+ nsteps_out,1):\n",
        "  dfxx.loc[i]=df.iloc[i,:]\n",
        "dfxx.reset_index(inplace=True)\n",
        "\n",
        "df22=dfxx.loc[:dfxx.index.max(),['date','availiable_docks']]\n",
        "#df3.sort_values('datenew', inplace=True, ascending=True)\n",
        "#df3 = df3.reset_index(drop=True)\n",
        "print('Number of rows and columns:',dfxx.shape)\n",
        "print(df22.date.min())\n",
        "print(df22.date.max())\n",
        "df22.columns=[\"datenew\",\"TOTALFD\"]\n",
        "\n",
        "df33=df22.loc[:len(df22)-1-nsteps_out,[\"datenew\",\"TOTALFD\"]]\n",
        "df33.tail()\n",
        "\n",
        "#scaler = MinMaxScaler(feature_range=(-1, 1))\n",
        "n_features=1\n",
        "\n",
        "raw_seq = df33.TOTALFD.to_numpy()\n",
        "X_input_scal=scaler.transform(array(raw_seq[-n_steps_in:]).reshape(-1,1))\n",
        "X_input_scal.reshape(X_input_scal.shape[0],)\n",
        "X_input_scal = X_input_scal.reshape((1, n_steps_in, n_features))\n",
        "#x_input = x_input.reshape((1, n_steps_in, n_features))\n",
        "yhatt = model1.predict(X_input_scal, verbose=0)\n",
        "yhatt=scaler.inverse_transform(yhatt.reshape(yhatt.shape[0],yhatt.shape[1]))\n",
        "\n",
        "\n",
        "dfress=df22.tail(n_steps_out*3)\n",
        "dfress[\"pred\"]=0.0\n",
        "dfress = dfress.reset_index()\n",
        "#lastindex=dfres.tail(1).index.start\n",
        "yhat22=pd.DataFrame(yhatt.reshape(n_steps_out,1))\n",
        "for ind in range(len(dfress)-1, -len(yhat22) + len(dfress)-1 , -1):\n",
        "   dfress[\"pred\"][ind]=yhat22.iloc[ind-len(dfress)]\n",
        "\n",
        "from math import sqrt\n",
        "from sklearn.metrics import mean_squared_error\n",
        "\n",
        "def measure_rmse(actual, predicted):\n",
        "    return sqrt(mean_squared_error(actual, predicted))\n",
        "msedff=dfress.tail(n_steps_out)\n",
        "heurefin=heuredebutt+datetime.timedelta(minutes=nsteps_out)\n",
        "print(\"RMSE 3 \",measure_rmse(msedff.TOTALFD,msedff.pred))\n",
        "print(\"RMSE 3 prédictions arrondies \", measure_rmse(msedff.TOTALFD,round(msedff.pred)))\n",
        "print(\"nb epoch\", epok)\n",
        "print(\"nb stepIN\", n_steps_in)\n",
        "print(\"nb stepOUT\", nsteps_out)\n",
        "print(\"prédiction de \",heuredebutt.hour,\"h\",heuredebutt.minute,\" à \" ,heurefin.hour,\"h\",heurefin.minute,\"min\")\n",
        "#print(\"temps d'execution \" , int(elapsed3/60), \"min\", int((round(elapsed3/60,2,)-(int(elapsed3/60)))*60), \"s\")\n",
        "\n",
        "dfress.tail(n_steps_out)"
      ],
      "execution_count": 72,
      "outputs": [
        {
          "output_type": "stream",
          "text": [
            "Number of rows and columns: (12781, 7)\n",
            "2020-01-15 10:17:00\n",
            "2020-01-28 14:00:00\n",
            "RMSE 3  0.5572353616097574\n",
            "RMSE 3 prédictions arrondies  0.5773502691896257\n",
            "nb epoch 2\n",
            "nb stepIN 60\n",
            "nb stepOUT 30\n",
            "prédiction de  13 h 30  à  14 h 0 min\n"
          ],
          "name": "stdout"
        },
        {
          "output_type": "execute_result",
          "data": {
            "text/html": [
              "<div>\n",
              "<style scoped>\n",
              "    .dataframe tbody tr th:only-of-type {\n",
              "        vertical-align: middle;\n",
              "    }\n",
              "\n",
              "    .dataframe tbody tr th {\n",
              "        vertical-align: top;\n",
              "    }\n",
              "\n",
              "    .dataframe thead th {\n",
              "        text-align: right;\n",
              "    }\n",
              "</style>\n",
              "<table border=\"1\" class=\"dataframe\">\n",
              "  <thead>\n",
              "    <tr style=\"text-align: right;\">\n",
              "      <th></th>\n",
              "      <th>index</th>\n",
              "      <th>datenew</th>\n",
              "      <th>TOTALFD</th>\n",
              "      <th>pred</th>\n",
              "    </tr>\n",
              "  </thead>\n",
              "  <tbody>\n",
              "    <tr>\n",
              "      <th>60</th>\n",
              "      <td>12751</td>\n",
              "      <td>2020-01-28 13:31:00</td>\n",
              "      <td>0</td>\n",
              "      <td>-0.3005</td>\n",
              "    </tr>\n",
              "    <tr>\n",
              "      <th>61</th>\n",
              "      <td>12752</td>\n",
              "      <td>2020-01-28 13:32:00</td>\n",
              "      <td>0</td>\n",
              "      <td>0.0615</td>\n",
              "    </tr>\n",
              "    <tr>\n",
              "      <th>62</th>\n",
              "      <td>12753</td>\n",
              "      <td>2020-01-28 13:33:00</td>\n",
              "      <td>0</td>\n",
              "      <td>-0.1353</td>\n",
              "    </tr>\n",
              "    <tr>\n",
              "      <th>63</th>\n",
              "      <td>12754</td>\n",
              "      <td>2020-01-28 13:34:00</td>\n",
              "      <td>0</td>\n",
              "      <td>-0.1320</td>\n",
              "    </tr>\n",
              "    <tr>\n",
              "      <th>64</th>\n",
              "      <td>12755</td>\n",
              "      <td>2020-01-28 13:35:00</td>\n",
              "      <td>0</td>\n",
              "      <td>-0.0959</td>\n",
              "    </tr>\n",
              "    <tr>\n",
              "      <th>65</th>\n",
              "      <td>12756</td>\n",
              "      <td>2020-01-28 13:36:00</td>\n",
              "      <td>0</td>\n",
              "      <td>-0.0004</td>\n",
              "    </tr>\n",
              "    <tr>\n",
              "      <th>66</th>\n",
              "      <td>12757</td>\n",
              "      <td>2020-01-28 13:37:00</td>\n",
              "      <td>0</td>\n",
              "      <td>0.1222</td>\n",
              "    </tr>\n",
              "    <tr>\n",
              "      <th>67</th>\n",
              "      <td>12758</td>\n",
              "      <td>2020-01-28 13:38:00</td>\n",
              "      <td>0</td>\n",
              "      <td>0.2628</td>\n",
              "    </tr>\n",
              "    <tr>\n",
              "      <th>68</th>\n",
              "      <td>12759</td>\n",
              "      <td>2020-01-28 13:39:00</td>\n",
              "      <td>0</td>\n",
              "      <td>0.4058</td>\n",
              "    </tr>\n",
              "    <tr>\n",
              "      <th>69</th>\n",
              "      <td>12760</td>\n",
              "      <td>2020-01-28 13:40:00</td>\n",
              "      <td>0</td>\n",
              "      <td>0.5423</td>\n",
              "    </tr>\n",
              "    <tr>\n",
              "      <th>70</th>\n",
              "      <td>12761</td>\n",
              "      <td>2020-01-28 13:41:00</td>\n",
              "      <td>0</td>\n",
              "      <td>0.6684</td>\n",
              "    </tr>\n",
              "    <tr>\n",
              "      <th>71</th>\n",
              "      <td>12762</td>\n",
              "      <td>2020-01-28 13:42:00</td>\n",
              "      <td>0</td>\n",
              "      <td>0.7817</td>\n",
              "    </tr>\n",
              "    <tr>\n",
              "      <th>72</th>\n",
              "      <td>12763</td>\n",
              "      <td>2020-01-28 13:43:00</td>\n",
              "      <td>0</td>\n",
              "      <td>0.8816</td>\n",
              "    </tr>\n",
              "    <tr>\n",
              "      <th>73</th>\n",
              "      <td>12764</td>\n",
              "      <td>2020-01-28 13:44:00</td>\n",
              "      <td>0</td>\n",
              "      <td>0.9690</td>\n",
              "    </tr>\n",
              "    <tr>\n",
              "      <th>74</th>\n",
              "      <td>12765</td>\n",
              "      <td>2020-01-28 13:45:00</td>\n",
              "      <td>0</td>\n",
              "      <td>1.0455</td>\n",
              "    </tr>\n",
              "    <tr>\n",
              "      <th>75</th>\n",
              "      <td>12766</td>\n",
              "      <td>2020-01-28 13:46:00</td>\n",
              "      <td>0</td>\n",
              "      <td>1.1118</td>\n",
              "    </tr>\n",
              "    <tr>\n",
              "      <th>76</th>\n",
              "      <td>12767</td>\n",
              "      <td>2020-01-28 13:47:00</td>\n",
              "      <td>1</td>\n",
              "      <td>1.1684</td>\n",
              "    </tr>\n",
              "    <tr>\n",
              "      <th>77</th>\n",
              "      <td>12768</td>\n",
              "      <td>2020-01-28 13:48:00</td>\n",
              "      <td>1</td>\n",
              "      <td>1.2161</td>\n",
              "    </tr>\n",
              "    <tr>\n",
              "      <th>78</th>\n",
              "      <td>12769</td>\n",
              "      <td>2020-01-28 13:49:00</td>\n",
              "      <td>0</td>\n",
              "      <td>1.2560</td>\n",
              "    </tr>\n",
              "    <tr>\n",
              "      <th>79</th>\n",
              "      <td>12770</td>\n",
              "      <td>2020-01-28 13:50:00</td>\n",
              "      <td>1</td>\n",
              "      <td>1.2891</td>\n",
              "    </tr>\n",
              "    <tr>\n",
              "      <th>80</th>\n",
              "      <td>12771</td>\n",
              "      <td>2020-01-28 13:51:00</td>\n",
              "      <td>1</td>\n",
              "      <td>1.3164</td>\n",
              "    </tr>\n",
              "    <tr>\n",
              "      <th>81</th>\n",
              "      <td>12772</td>\n",
              "      <td>2020-01-28 13:52:00</td>\n",
              "      <td>1</td>\n",
              "      <td>1.3389</td>\n",
              "    </tr>\n",
              "    <tr>\n",
              "      <th>82</th>\n",
              "      <td>12773</td>\n",
              "      <td>2020-01-28 13:53:00</td>\n",
              "      <td>1</td>\n",
              "      <td>1.3574</td>\n",
              "    </tr>\n",
              "    <tr>\n",
              "      <th>83</th>\n",
              "      <td>12774</td>\n",
              "      <td>2020-01-28 13:54:00</td>\n",
              "      <td>1</td>\n",
              "      <td>1.3726</td>\n",
              "    </tr>\n",
              "    <tr>\n",
              "      <th>84</th>\n",
              "      <td>12775</td>\n",
              "      <td>2020-01-28 13:55:00</td>\n",
              "      <td>1</td>\n",
              "      <td>1.3850</td>\n",
              "    </tr>\n",
              "    <tr>\n",
              "      <th>85</th>\n",
              "      <td>12776</td>\n",
              "      <td>2020-01-28 13:56:00</td>\n",
              "      <td>1</td>\n",
              "      <td>1.3952</td>\n",
              "    </tr>\n",
              "    <tr>\n",
              "      <th>86</th>\n",
              "      <td>12777</td>\n",
              "      <td>2020-01-28 13:57:00</td>\n",
              "      <td>1</td>\n",
              "      <td>1.4035</td>\n",
              "    </tr>\n",
              "    <tr>\n",
              "      <th>87</th>\n",
              "      <td>12778</td>\n",
              "      <td>2020-01-28 13:58:00</td>\n",
              "      <td>1</td>\n",
              "      <td>1.4103</td>\n",
              "    </tr>\n",
              "    <tr>\n",
              "      <th>88</th>\n",
              "      <td>12779</td>\n",
              "      <td>2020-01-28 13:59:00</td>\n",
              "      <td>2</td>\n",
              "      <td>1.4159</td>\n",
              "    </tr>\n",
              "    <tr>\n",
              "      <th>89</th>\n",
              "      <td>12780</td>\n",
              "      <td>2020-01-28 14:00:00</td>\n",
              "      <td>2</td>\n",
              "      <td>1.4205</td>\n",
              "    </tr>\n",
              "  </tbody>\n",
              "</table>\n",
              "</div>"
            ],
            "text/plain": [
              "    index              datenew  TOTALFD    pred\n",
              "60  12751  2020-01-28 13:31:00        0 -0.3005\n",
              "61  12752  2020-01-28 13:32:00        0  0.0615\n",
              "62  12753  2020-01-28 13:33:00        0 -0.1353\n",
              "63  12754  2020-01-28 13:34:00        0 -0.1320\n",
              "64  12755  2020-01-28 13:35:00        0 -0.0959\n",
              "65  12756  2020-01-28 13:36:00        0 -0.0004\n",
              "66  12757  2020-01-28 13:37:00        0  0.1222\n",
              "67  12758  2020-01-28 13:38:00        0  0.2628\n",
              "68  12759  2020-01-28 13:39:00        0  0.4058\n",
              "69  12760  2020-01-28 13:40:00        0  0.5423\n",
              "70  12761  2020-01-28 13:41:00        0  0.6684\n",
              "71  12762  2020-01-28 13:42:00        0  0.7817\n",
              "72  12763  2020-01-28 13:43:00        0  0.8816\n",
              "73  12764  2020-01-28 13:44:00        0  0.9690\n",
              "74  12765  2020-01-28 13:45:00        0  1.0455\n",
              "75  12766  2020-01-28 13:46:00        0  1.1118\n",
              "76  12767  2020-01-28 13:47:00        1  1.1684\n",
              "77  12768  2020-01-28 13:48:00        1  1.2161\n",
              "78  12769  2020-01-28 13:49:00        0  1.2560\n",
              "79  12770  2020-01-28 13:50:00        1  1.2891\n",
              "80  12771  2020-01-28 13:51:00        1  1.3164\n",
              "81  12772  2020-01-28 13:52:00        1  1.3389\n",
              "82  12773  2020-01-28 13:53:00        1  1.3574\n",
              "83  12774  2020-01-28 13:54:00        1  1.3726\n",
              "84  12775  2020-01-28 13:55:00        1  1.3850\n",
              "85  12776  2020-01-28 13:56:00        1  1.3952\n",
              "86  12777  2020-01-28 13:57:00        1  1.4035\n",
              "87  12778  2020-01-28 13:58:00        1  1.4103\n",
              "88  12779  2020-01-28 13:59:00        2  1.4159\n",
              "89  12780  2020-01-28 14:00:00        2  1.4205"
            ]
          },
          "metadata": {
            "tags": []
          },
          "execution_count": 72
        }
      ]
    },
    {
      "cell_type": "code",
      "metadata": {
        "id": "DwFKgO0HCdlL",
        "colab_type": "code",
        "colab": {
          "base_uri": "https://localhost:8080/",
          "height": 50
        },
        "outputId": "1f1e4b6e-d525-4320-d9cf-95c8315d3e40"
      },
      "source": [
        "prediction= int(round(dfress.pred[len(dfress)-1]))\n",
        "print(prediction)\n",
        "if heurefin.minute== 0:\n",
        "  minutefin = \"00\"\n",
        "else:\n",
        "  minutefin= str(heurefin.minute)\n",
        "heureprediction =str(heurefin.hour) + \"h\" + minutefin\n",
        "#print(heureprediction)"
      ],
      "execution_count": 73,
      "outputs": [
        {
          "output_type": "stream",
          "text": [
            "1\n",
            "14h00\n"
          ],
          "name": "stdout"
        }
      ]
    },
    {
      "cell_type": "code",
      "metadata": {
        "id": "Sw-Je1gMyjjp",
        "colab_type": "code",
        "colab": {
          "base_uri": "https://localhost:8080/",
          "height": 33
        },
        "outputId": "c2097693-55df-439b-aa67-c1b4529f7d10"
      },
      "source": [
        "prediction"
      ],
      "execution_count": 77,
      "outputs": [
        {
          "output_type": "execute_result",
          "data": {
            "text/plain": [
              "1"
            ]
          },
          "metadata": {
            "tags": []
          },
          "execution_count": 77
        }
      ]
    },
    {
      "cell_type": "code",
      "metadata": {
        "id": "_2mLxQPaylT5",
        "colab_type": "code",
        "colab": {
          "base_uri": "https://localhost:8080/",
          "height": 33
        },
        "outputId": "a52370ec-3e03-4407-eb2b-c6b4a9ab1ed6"
      },
      "source": [
        "print(\"Nous prevoyons \",prediction,\" dock(s) Velib disponibles à la Station Madeleine à \",heureprediction )"
      ],
      "execution_count": 76,
      "outputs": [
        {
          "output_type": "stream",
          "text": [
            "Nous prevoyons  1  dock(s) Velib disponibles à la Station Madeleine à  14h00\n"
          ],
          "name": "stdout"
        }
      ]
    },
    {
      "cell_type": "code",
      "metadata": {
        "id": "ao6ohOsi1GqG",
        "colab_type": "code",
        "colab": {}
      },
      "source": [
        ""
      ],
      "execution_count": 0,
      "outputs": []
    }
  ]
}